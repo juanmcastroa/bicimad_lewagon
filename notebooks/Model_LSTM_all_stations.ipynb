{
 "cells": [
  {
   "cell_type": "code",
   "execution_count": 2,
   "id": "22f26ac4",
   "metadata": {
    "colab": {
     "base_uri": "https://localhost:8080/"
    },
    "id": "22f26ac4",
    "outputId": "296d819e-82f6-44aa-8921-d6d957896ea4"
   },
   "outputs": [],
   "source": [
    "#pip install holidays-es"
   ]
  },
  {
   "cell_type": "code",
   "execution_count": 3,
   "id": "oF67uwqhNTWx",
   "metadata": {
    "colab": {
     "base_uri": "https://localhost:8080/"
    },
    "id": "oF67uwqhNTWx",
    "outputId": "f64ff18d-74cc-4db9-8c5d-eadf3eec085f"
   },
   "outputs": [],
   "source": [
    "#pip install mlflow"
   ]
  },
  {
   "cell_type": "code",
   "execution_count": 2,
   "id": "91201e78",
   "metadata": {
    "id": "91201e78"
   },
   "outputs": [],
   "source": [
    "from sklearn import preprocessing\n",
    "import pandas as pd\n",
    "import numpy as np\n",
    "from math import pi, sin, cos\n",
    "from datetime import datetime\n",
    "from holidays_es import get_provinces, Province\n",
    "import sys\n",
    "import seaborn as sns\n",
    "import matplotlib.pyplot as plt\n",
    "from tensorflow.keras.models import Sequential\n",
    "from tensorflow.keras.layers import Dense\n",
    "from tensorflow.keras import layers\n",
    "from sklearn.preprocessing import StandardScaler, OneHotEncoder\n",
    "from sklearn.linear_model import LinearRegression\n",
    "from sklearn.model_selection import train_test_split, GridSearchCV\n",
    "import mlflow\n",
    "from sklearn.pipeline import make_pipeline\n",
    "from sklearn.compose import make_column_transformer\n",
    "from sklearn import set_config; set_config(display='diagram')\n",
    "import pickle\n",
    "from typing import Dict, List, Tuple, Sequence"
   ]
  },
  {
   "cell_type": "code",
   "execution_count": 3,
   "id": "0e91e974-b59e-4431-9770-6a3e098214cc",
   "metadata": {},
   "outputs": [],
   "source": [
    "from google.cloud import storage\n",
    "\n",
    "BUCKET_NAME = \"bicimad_data\"\n",
    "\n",
    "storage_filename = \"alldata.csv\"\n",
    "local_filename = \"alldata.csv\"\n",
    "\n",
    "client = storage.Client()\n",
    "bucket = client.bucket(BUCKET_NAME)\n",
    "blob = bucket.blob(storage_filename)\n",
    "blob.download_to_filename(f'../raw_data/{local_filename}')"
   ]
  },
  {
   "cell_type": "code",
   "execution_count": 4,
   "id": "38ee3df0",
   "metadata": {
    "id": "38ee3df0"
   },
   "outputs": [
    {
     "name": "stderr",
     "output_type": "stream",
     "text": [
      "/opt/conda/lib/python3.7/site-packages/IPython/core/interactiveshell.py:3552: DtypeWarning: Columns (6,7,10) have mixed types.Specify dtype option on import or set low_memory=False.\n",
      "  exec(code_obj, self.user_global_ns, self.user_ns)\n"
     ]
    }
   ],
   "source": [
    "df = pd.read_csv('../raw_data/alldata.csv')"
   ]
  },
  {
   "cell_type": "code",
   "execution_count": 5,
   "id": "5c58fe82-b520-4d3c-a49b-cad84a19f546",
   "metadata": {},
   "outputs": [
    {
     "name": "stdout",
     "output_type": "stream",
     "text": [
      "<class 'pandas.core.frame.DataFrame'>\n",
      "RangeIndex: 5373414 entries, 0 to 5373413\n",
      "Data columns (total 28 columns):\n",
      " #   Column              Dtype  \n",
      "---  ------              -----  \n",
      " 0   activate            int64  \n",
      " 1   name                object \n",
      " 2   reservations_count  int64  \n",
      " 3   light               int64  \n",
      " 4   total_bases         int64  \n",
      " 5   free_bases          int64  \n",
      " 6   number              object \n",
      " 7   longitude           object \n",
      " 8   no_available        int64  \n",
      " 9   address             object \n",
      " 10  latitude            object \n",
      " 11  dock_bikes          int64  \n",
      " 12  id                  object \n",
      " 13  time                int64  \n",
      " 14  date                object \n",
      " 15  holidays            bool   \n",
      " 16  datetime            object \n",
      " 17  feels_like          float64\n",
      " 18  weather_main        object \n",
      " 19  weekday             int64  \n",
      " 20  year                int64  \n",
      " 21  month               int64  \n",
      " 22  hour_sin            float64\n",
      " 23  hour_cos            float64\n",
      " 24  weekday_sin         float64\n",
      " 25  weekday_cos         float64\n",
      " 26  month_sin           float64\n",
      " 27  month_cos           float64\n",
      "dtypes: bool(1), float64(7), int64(11), object(9)\n",
      "memory usage: 1.1+ GB\n"
     ]
    }
   ],
   "source": [
    "df.info()"
   ]
  },
  {
   "cell_type": "markdown",
   "id": "179debc4-656d-42b5-93bb-9f1772647fe4",
   "metadata": {},
   "source": [
    "## 1) Cleaning data"
   ]
  },
  {
   "cell_type": "code",
   "execution_count": 6,
   "id": "826f4afc-e39c-4dc8-a8d8-b590f6aeda47",
   "metadata": {},
   "outputs": [
    {
     "data": {
      "text/plain": [
       "(5373414, 28)"
      ]
     },
     "execution_count": 6,
     "metadata": {},
     "output_type": "execute_result"
    }
   ],
   "source": [
    "df.shape"
   ]
  },
  {
   "cell_type": "code",
   "execution_count": 7,
   "id": "1d29e986-2265-4147-b046-138db1aad24a",
   "metadata": {},
   "outputs": [
    {
     "data": {
      "text/plain": [
       "(5365214, 17)"
      ]
     },
     "execution_count": 7,
     "metadata": {},
     "output_type": "execute_result"
    }
   ],
   "source": [
    "# removing redundant columns or rows\n",
    "df = df.drop(columns=['activate', 'name', 'light', 'total_bases', 'free_bases', \n",
    "                      'longitude', 'no_available', 'address', 'latitude', 'id', 'date'])\n",
    "df = df.drop_duplicates()\n",
    "df.shape"
   ]
  },
  {
   "cell_type": "code",
   "execution_count": 8,
   "id": "a5b37dc3-727e-4add-ade4-c460824cd739",
   "metadata": {},
   "outputs": [],
   "source": [
    "# handling the warnings with the column 6 that have mixed types\n",
    "df.number = df.number.astype(str)"
   ]
  },
  {
   "cell_type": "code",
   "execution_count": 9,
   "id": "91d17692-c7b7-4163-98c5-8922ddd357f7",
   "metadata": {},
   "outputs": [
    {
     "data": {
      "text/plain": [
       "(5365214, 17)"
      ]
     },
     "execution_count": 9,
     "metadata": {},
     "output_type": "execute_result"
    }
   ],
   "source": [
    "df = df.dropna(how='any', axis=0)\n",
    "df.shape"
   ]
  },
  {
   "cell_type": "code",
   "execution_count": 10,
   "id": "00fbcd57-4150-45a6-b9b1-32220469f819",
   "metadata": {},
   "outputs": [],
   "source": [
    "def compress(df, **kwargs):\n",
    "    \"\"\"\n",
    "    Reduces size of dataframe by downcasting numerical columns\n",
    "    \"\"\"\n",
    "    input_size = df.memory_usage(index=True).sum()/ 1024**2\n",
    "    print(\"old dataframe size: \", round(input_size,2), 'MB')\n",
    "    \n",
    "    in_size = df.memory_usage(index=True).sum()\n",
    "    for t in [\"float\", \"integer\"]:\n",
    "        l_cols = list(df.select_dtypes(include=t))\n",
    "        for col in l_cols:\n",
    "            df[col] = pd.to_numeric(df[col], downcast=t)\n",
    "    out_size = df.memory_usage(index=True).sum()\n",
    "    ratio = (1 - round(out_size / in_size, 2)) * 100\n",
    "    \n",
    "    print(\"optimized size by {} %\".format(round(ratio,2)))\n",
    "    print(\"new dataframe size: \", round(out_size / 1024**2,2), \" MB\")\n",
    "    return df"
   ]
  },
  {
   "cell_type": "code",
   "execution_count": 11,
   "id": "c6c085c1-de1f-47e2-ad0e-922e8f663cb2",
   "metadata": {},
   "outputs": [
    {
     "name": "stdout",
     "output_type": "stream",
     "text": [
      "old dataframe size:  700.98 MB\n",
      "optimized size by 50.0 %\n",
      "new dataframe size:  347.93  MB\n"
     ]
    },
    {
     "data": {
      "text/html": [
       "<div>\n",
       "<style scoped>\n",
       "    .dataframe tbody tr th:only-of-type {\n",
       "        vertical-align: middle;\n",
       "    }\n",
       "\n",
       "    .dataframe tbody tr th {\n",
       "        vertical-align: top;\n",
       "    }\n",
       "\n",
       "    .dataframe thead th {\n",
       "        text-align: right;\n",
       "    }\n",
       "</style>\n",
       "<table border=\"1\" class=\"dataframe\">\n",
       "  <thead>\n",
       "    <tr style=\"text-align: right;\">\n",
       "      <th></th>\n",
       "      <th>reservations_count</th>\n",
       "      <th>number</th>\n",
       "      <th>dock_bikes</th>\n",
       "      <th>time</th>\n",
       "      <th>holidays</th>\n",
       "      <th>datetime</th>\n",
       "      <th>feels_like</th>\n",
       "      <th>weather_main</th>\n",
       "      <th>weekday</th>\n",
       "      <th>year</th>\n",
       "      <th>month</th>\n",
       "      <th>hour_sin</th>\n",
       "      <th>hour_cos</th>\n",
       "      <th>weekday_sin</th>\n",
       "      <th>weekday_cos</th>\n",
       "      <th>month_sin</th>\n",
       "      <th>month_cos</th>\n",
       "    </tr>\n",
       "  </thead>\n",
       "  <tbody>\n",
       "    <tr>\n",
       "      <th>0</th>\n",
       "      <td>0</td>\n",
       "      <td>1a</td>\n",
       "      <td>3</td>\n",
       "      <td>0</td>\n",
       "      <td>False</td>\n",
       "      <td>2021-06-010</td>\n",
       "      <td>17.440001</td>\n",
       "      <td>Rain</td>\n",
       "      <td>1</td>\n",
       "      <td>2021</td>\n",
       "      <td>6</td>\n",
       "      <td>0.0</td>\n",
       "      <td>1.0</td>\n",
       "      <td>0.781832</td>\n",
       "      <td>0.62349</td>\n",
       "      <td>0.5</td>\n",
       "      <td>0.866025</td>\n",
       "    </tr>\n",
       "  </tbody>\n",
       "</table>\n",
       "</div>"
      ],
      "text/plain": [
       "   reservations_count number  dock_bikes  time  holidays     datetime  \\\n",
       "0                   0     1a           3     0     False  2021-06-010   \n",
       "\n",
       "   feels_like weather_main  weekday  year  month  hour_sin  hour_cos  \\\n",
       "0   17.440001         Rain        1  2021      6       0.0       1.0   \n",
       "\n",
       "   weekday_sin  weekday_cos  month_sin  month_cos  \n",
       "0     0.781832      0.62349        0.5   0.866025  "
      ]
     },
     "execution_count": 11,
     "metadata": {},
     "output_type": "execute_result"
    }
   ],
   "source": [
    "df = compress(df, verbose=True)\n",
    "df.head(1)"
   ]
  },
  {
   "cell_type": "code",
   "execution_count": 12,
   "id": "c72b4d26-daab-4304-963d-cfc4df7c0237",
   "metadata": {},
   "outputs": [
    {
     "name": "stdout",
     "output_type": "stream",
     "text": [
      "<class 'pandas.core.frame.DataFrame'>\n",
      "Int64Index: 5365214 entries, 0 to 5373413\n",
      "Data columns (total 17 columns):\n",
      " #   Column              Dtype  \n",
      "---  ------              -----  \n",
      " 0   reservations_count  int8   \n",
      " 1   number              object \n",
      " 2   dock_bikes          int8   \n",
      " 3   time                int8   \n",
      " 4   holidays            bool   \n",
      " 5   datetime            object \n",
      " 6   feels_like          float32\n",
      " 7   weather_main        object \n",
      " 8   weekday             int8   \n",
      " 9   year                int16  \n",
      " 10  month               int8   \n",
      " 11  hour_sin            float32\n",
      " 12  hour_cos            float32\n",
      " 13  weekday_sin         float32\n",
      " 14  weekday_cos         float32\n",
      " 15  month_sin           float32\n",
      " 16  month_cos           float32\n",
      "dtypes: bool(1), float32(7), int16(1), int8(5), object(3)\n",
      "memory usage: 347.9+ MB\n"
     ]
    }
   ],
   "source": [
    "df.info()"
   ]
  },
  {
   "cell_type": "markdown",
   "id": "b36e2fbf-64b8-4cbf-a860-4765ed6fce90",
   "metadata": {},
   "source": [
    "## 2) Visualizing data"
   ]
  },
  {
   "cell_type": "code",
   "execution_count": 13,
   "id": "Pc2z6asJHyL3",
   "metadata": {
    "colab": {
     "base_uri": "https://localhost:8080/",
     "height": 852
    },
    "id": "Pc2z6asJHyL3",
    "outputId": "2eeb897c-98f6-4df5-83c1-442fb17bc6e6"
   },
   "outputs": [
    {
     "data": {
      "image/png": "[encoded data removed]",
      "text/plain": [
       "<Figure size 432x288 with 1 Axes>"
      ]
     },
     "metadata": {
      "needs_background": "light"
     },
     "output_type": "display_data"
    }
   ],
   "source": [
    "sns.histplot(df['dock_bikes'], kde=True)\n",
    "plt.xlabel('Bikes available at stations')\n",
    "plt.show()"
   ]
  },
  {
   "cell_type": "code",
   "execution_count": 14,
   "id": "afc70c8b-9306-46e3-82f6-dac2f54162fd",
   "metadata": {},
   "outputs": [
    {
     "data": {
      "text/plain": [
       "<AxesSubplot:xlabel='weekday', ylabel='dock_bikes'>"
      ]
     },
     "execution_count": 14,
     "metadata": {},
     "output_type": "execute_result"
    },
    {
     "data": {
      "image/png": "[encoded data removed]",
      "text/plain": [
       "<Figure size 432x288 with 1 Axes>"
      ]
     },
     "metadata": {
      "needs_background": "light"
     },
     "output_type": "display_data"
    }
   ],
   "source": [
    "sns.pointplot(x='weekday',y='dock_bikes',hue='year',join=True,data=df)"
   ]
  },
  {
   "cell_type": "code",
   "execution_count": 15,
   "id": "5742243a-521d-49ae-88fe-14d66ddf2366",
   "metadata": {},
   "outputs": [
    {
     "data": {
      "text/plain": [
       "<AxesSubplot:xlabel='month', ylabel='dock_bikes'>"
      ]
     },
     "execution_count": 15,
     "metadata": {},
     "output_type": "execute_result"
    },
    {
     "data": {
      "image/png": "[encoded data removed]",
      "text/plain": [
       "<Figure size 432x288 with 1 Axes>"
      ]
     },
     "metadata": {
      "needs_background": "light"
     },
     "output_type": "display_data"
    }
   ],
   "source": [
    "sns.pointplot(x='month',y='dock_bikes',hue='year',join=True,data=df)"
   ]
  },
  {
   "cell_type": "code",
   "execution_count": 16,
   "id": "1a7d3b5e-a3db-4737-bafa-ceae67d7b0d2",
   "metadata": {},
   "outputs": [
    {
     "data": {
      "text/plain": [
       "<AxesSubplot:xlabel='weather_main', ylabel='dock_bikes'>"
      ]
     },
     "execution_count": 16,
     "metadata": {},
     "output_type": "execute_result"
    },
    {
     "data": {
      "image/png": "[encoded data removed]",
      "text/plain": [
       "<Figure size 432x288 with 1 Axes>"
      ]
     },
     "metadata": {
      "needs_background": "light"
     },
     "output_type": "display_data"
    }
   ],
   "source": [
    "sns.scatterplot(x='weather_main',y='dock_bikes',data=df)"
   ]
  },
  {
   "cell_type": "markdown",
   "id": "dd8cb155-5db3-465b-9f61-232a599a1b84",
   "metadata": {},
   "source": [
    "##  3) Preprocessing"
   ]
  },
  {
   "cell_type": "code",
   "execution_count": 16,
   "id": "ca148b48",
   "metadata": {
    "id": "ca148b48"
   },
   "outputs": [],
   "source": [
    "# copying the dataset for editing without affecting the original\n",
    "temp = df.copy()"
   ]
  },
  {
   "cell_type": "code",
   "execution_count": 17,
   "id": "5b3ceacb-4b1a-4141-95d7-f7510c51f6be",
   "metadata": {},
   "outputs": [],
   "source": [
    "temp['datetime'] = temp['datetime'].apply(lambda x: x[0:10]+' '+x[10:]+':00')"
   ]
  },
  {
   "cell_type": "code",
   "execution_count": 18,
   "id": "8e2cf52d-97d5-4bad-a088-44500c5fa934",
   "metadata": {},
   "outputs": [],
   "source": [
    "temp['datetime']=pd.to_datetime(temp['datetime'], format='%Y-%m-%d %H:%M:%S')"
   ]
  },
  {
   "cell_type": "code",
   "execution_count": 19,
   "id": "13a0d800-cba1-42ad-9cc3-38f395a6bfff",
   "metadata": {},
   "outputs": [],
   "source": [
    "temp = temp.set_index('datetime')"
   ]
  },
  {
   "cell_type": "code",
   "execution_count": 20,
   "id": "c65fb063-293c-425f-91b8-2a027ebcb156",
   "metadata": {},
   "outputs": [
    {
     "data": {
      "text/html": [
       "<div>\n",
       "<style scoped>\n",
       "    .dataframe tbody tr th:only-of-type {\n",
       "        vertical-align: middle;\n",
       "    }\n",
       "\n",
       "    .dataframe tbody tr th {\n",
       "        vertical-align: top;\n",
       "    }\n",
       "\n",
       "    .dataframe thead th {\n",
       "        text-align: right;\n",
       "    }\n",
       "</style>\n",
       "<table border=\"1\" class=\"dataframe\">\n",
       "  <thead>\n",
       "    <tr style=\"text-align: right;\">\n",
       "      <th></th>\n",
       "      <th>reservations_count</th>\n",
       "      <th>number</th>\n",
       "      <th>dock_bikes</th>\n",
       "      <th>time</th>\n",
       "      <th>holidays</th>\n",
       "      <th>feels_like</th>\n",
       "      <th>weather_main</th>\n",
       "      <th>weekday</th>\n",
       "      <th>year</th>\n",
       "      <th>month</th>\n",
       "      <th>hour_sin</th>\n",
       "      <th>hour_cos</th>\n",
       "      <th>weekday_sin</th>\n",
       "      <th>weekday_cos</th>\n",
       "      <th>month_sin</th>\n",
       "      <th>month_cos</th>\n",
       "    </tr>\n",
       "    <tr>\n",
       "      <th>datetime</th>\n",
       "      <th></th>\n",
       "      <th></th>\n",
       "      <th></th>\n",
       "      <th></th>\n",
       "      <th></th>\n",
       "      <th></th>\n",
       "      <th></th>\n",
       "      <th></th>\n",
       "      <th></th>\n",
       "      <th></th>\n",
       "      <th></th>\n",
       "      <th></th>\n",
       "      <th></th>\n",
       "      <th></th>\n",
       "      <th></th>\n",
       "      <th></th>\n",
       "    </tr>\n",
       "  </thead>\n",
       "  <tbody>\n",
       "    <tr>\n",
       "      <th>2018-08-01 00:00:00</th>\n",
       "      <td>0</td>\n",
       "      <td>108</td>\n",
       "      <td>14</td>\n",
       "      <td>0</td>\n",
       "      <td>False</td>\n",
       "      <td>23.190001</td>\n",
       "      <td>Clear</td>\n",
       "      <td>2</td>\n",
       "      <td>2018</td>\n",
       "      <td>8</td>\n",
       "      <td>0.000000</td>\n",
       "      <td>1.000000</td>\n",
       "      <td>0.974928</td>\n",
       "      <td>-0.222521</td>\n",
       "      <td>1.0</td>\n",
       "      <td>6.123234e-17</td>\n",
       "    </tr>\n",
       "    <tr>\n",
       "      <th>2018-08-01 00:00:00</th>\n",
       "      <td>0</td>\n",
       "      <td>138</td>\n",
       "      <td>0</td>\n",
       "      <td>0</td>\n",
       "      <td>False</td>\n",
       "      <td>23.190001</td>\n",
       "      <td>Clear</td>\n",
       "      <td>2</td>\n",
       "      <td>2018</td>\n",
       "      <td>8</td>\n",
       "      <td>0.000000</td>\n",
       "      <td>1.000000</td>\n",
       "      <td>0.974928</td>\n",
       "      <td>-0.222521</td>\n",
       "      <td>1.0</td>\n",
       "      <td>6.123234e-17</td>\n",
       "    </tr>\n",
       "    <tr>\n",
       "      <th>2018-08-01 00:00:00</th>\n",
       "      <td>0</td>\n",
       "      <td>97</td>\n",
       "      <td>17</td>\n",
       "      <td>0</td>\n",
       "      <td>False</td>\n",
       "      <td>23.190001</td>\n",
       "      <td>Clear</td>\n",
       "      <td>2</td>\n",
       "      <td>2018</td>\n",
       "      <td>8</td>\n",
       "      <td>0.000000</td>\n",
       "      <td>1.000000</td>\n",
       "      <td>0.974928</td>\n",
       "      <td>-0.222521</td>\n",
       "      <td>1.0</td>\n",
       "      <td>6.123234e-17</td>\n",
       "    </tr>\n",
       "    <tr>\n",
       "      <th>2018-08-01 00:00:00</th>\n",
       "      <td>0</td>\n",
       "      <td>33</td>\n",
       "      <td>0</td>\n",
       "      <td>0</td>\n",
       "      <td>False</td>\n",
       "      <td>23.190001</td>\n",
       "      <td>Clear</td>\n",
       "      <td>2</td>\n",
       "      <td>2018</td>\n",
       "      <td>8</td>\n",
       "      <td>0.000000</td>\n",
       "      <td>1.000000</td>\n",
       "      <td>0.974928</td>\n",
       "      <td>-0.222521</td>\n",
       "      <td>1.0</td>\n",
       "      <td>6.123234e-17</td>\n",
       "    </tr>\n",
       "    <tr>\n",
       "      <th>2018-08-01 00:00:00</th>\n",
       "      <td>0</td>\n",
       "      <td>137</td>\n",
       "      <td>9</td>\n",
       "      <td>0</td>\n",
       "      <td>False</td>\n",
       "      <td>23.190001</td>\n",
       "      <td>Clear</td>\n",
       "      <td>2</td>\n",
       "      <td>2018</td>\n",
       "      <td>8</td>\n",
       "      <td>0.000000</td>\n",
       "      <td>1.000000</td>\n",
       "      <td>0.974928</td>\n",
       "      <td>-0.222521</td>\n",
       "      <td>1.0</td>\n",
       "      <td>6.123234e-17</td>\n",
       "    </tr>\n",
       "    <tr>\n",
       "      <th>...</th>\n",
       "      <td>...</td>\n",
       "      <td>...</td>\n",
       "      <td>...</td>\n",
       "      <td>...</td>\n",
       "      <td>...</td>\n",
       "      <td>...</td>\n",
       "      <td>...</td>\n",
       "      <td>...</td>\n",
       "      <td>...</td>\n",
       "      <td>...</td>\n",
       "      <td>...</td>\n",
       "      <td>...</td>\n",
       "      <td>...</td>\n",
       "      <td>...</td>\n",
       "      <td>...</td>\n",
       "      <td>...</td>\n",
       "    </tr>\n",
       "    <tr>\n",
       "      <th>2021-06-30 23:00:00</th>\n",
       "      <td>0</td>\n",
       "      <td>19</td>\n",
       "      <td>9</td>\n",
       "      <td>23</td>\n",
       "      <td>False</td>\n",
       "      <td>24.129999</td>\n",
       "      <td>Clear</td>\n",
       "      <td>2</td>\n",
       "      <td>2021</td>\n",
       "      <td>6</td>\n",
       "      <td>-0.258819</td>\n",
       "      <td>0.965926</td>\n",
       "      <td>0.974928</td>\n",
       "      <td>-0.222521</td>\n",
       "      <td>0.5</td>\n",
       "      <td>8.660254e-01</td>\n",
       "    </tr>\n",
       "    <tr>\n",
       "      <th>2021-06-30 23:00:00</th>\n",
       "      <td>0</td>\n",
       "      <td>197</td>\n",
       "      <td>1</td>\n",
       "      <td>23</td>\n",
       "      <td>False</td>\n",
       "      <td>24.129999</td>\n",
       "      <td>Clear</td>\n",
       "      <td>2</td>\n",
       "      <td>2021</td>\n",
       "      <td>6</td>\n",
       "      <td>-0.258819</td>\n",
       "      <td>0.965926</td>\n",
       "      <td>0.974928</td>\n",
       "      <td>-0.222521</td>\n",
       "      <td>0.5</td>\n",
       "      <td>8.660254e-01</td>\n",
       "    </tr>\n",
       "    <tr>\n",
       "      <th>2021-06-30 23:00:00</th>\n",
       "      <td>1</td>\n",
       "      <td>196</td>\n",
       "      <td>11</td>\n",
       "      <td>23</td>\n",
       "      <td>False</td>\n",
       "      <td>24.129999</td>\n",
       "      <td>Clear</td>\n",
       "      <td>2</td>\n",
       "      <td>2021</td>\n",
       "      <td>6</td>\n",
       "      <td>-0.258819</td>\n",
       "      <td>0.965926</td>\n",
       "      <td>0.974928</td>\n",
       "      <td>-0.222521</td>\n",
       "      <td>0.5</td>\n",
       "      <td>8.660254e-01</td>\n",
       "    </tr>\n",
       "    <tr>\n",
       "      <th>2021-06-30 23:00:00</th>\n",
       "      <td>0</td>\n",
       "      <td>252</td>\n",
       "      <td>2</td>\n",
       "      <td>23</td>\n",
       "      <td>False</td>\n",
       "      <td>24.129999</td>\n",
       "      <td>Clear</td>\n",
       "      <td>2</td>\n",
       "      <td>2021</td>\n",
       "      <td>6</td>\n",
       "      <td>-0.258819</td>\n",
       "      <td>0.965926</td>\n",
       "      <td>0.974928</td>\n",
       "      <td>-0.222521</td>\n",
       "      <td>0.5</td>\n",
       "      <td>8.660254e-01</td>\n",
       "    </tr>\n",
       "    <tr>\n",
       "      <th>2021-06-30 23:00:00</th>\n",
       "      <td>0</td>\n",
       "      <td>213</td>\n",
       "      <td>21</td>\n",
       "      <td>23</td>\n",
       "      <td>False</td>\n",
       "      <td>24.129999</td>\n",
       "      <td>Clear</td>\n",
       "      <td>2</td>\n",
       "      <td>2021</td>\n",
       "      <td>6</td>\n",
       "      <td>-0.258819</td>\n",
       "      <td>0.965926</td>\n",
       "      <td>0.974928</td>\n",
       "      <td>-0.222521</td>\n",
       "      <td>0.5</td>\n",
       "      <td>8.660254e-01</td>\n",
       "    </tr>\n",
       "  </tbody>\n",
       "</table>\n",
       "<p>5365214 rows × 16 columns</p>\n",
       "</div>"
      ],
      "text/plain": [
       "                     reservations_count number  dock_bikes  time  holidays  \\\n",
       "datetime                                                                     \n",
       "2018-08-01 00:00:00                   0    108          14     0     False   \n",
       "2018-08-01 00:00:00                   0    138           0     0     False   \n",
       "2018-08-01 00:00:00                   0     97          17     0     False   \n",
       "2018-08-01 00:00:00                   0     33           0     0     False   \n",
       "2018-08-01 00:00:00                   0    137           9     0     False   \n",
       "...                                 ...    ...         ...   ...       ...   \n",
       "2021-06-30 23:00:00                   0     19           9    23     False   \n",
       "2021-06-30 23:00:00                   0    197           1    23     False   \n",
       "2021-06-30 23:00:00                   1    196          11    23     False   \n",
       "2021-06-30 23:00:00                   0    252           2    23     False   \n",
       "2021-06-30 23:00:00                   0    213          21    23     False   \n",
       "\n",
       "                     feels_like weather_main  weekday  year  month  hour_sin  \\\n",
       "datetime                                                                       \n",
       "2018-08-01 00:00:00   23.190001        Clear        2  2018      8  0.000000   \n",
       "2018-08-01 00:00:00   23.190001        Clear        2  2018      8  0.000000   \n",
       "2018-08-01 00:00:00   23.190001        Clear        2  2018      8  0.000000   \n",
       "2018-08-01 00:00:00   23.190001        Clear        2  2018      8  0.000000   \n",
       "2018-08-01 00:00:00   23.190001        Clear        2  2018      8  0.000000   \n",
       "...                         ...          ...      ...   ...    ...       ...   \n",
       "2021-06-30 23:00:00   24.129999        Clear        2  2021      6 -0.258819   \n",
       "2021-06-30 23:00:00   24.129999        Clear        2  2021      6 -0.258819   \n",
       "2021-06-30 23:00:00   24.129999        Clear        2  2021      6 -0.258819   \n",
       "2021-06-30 23:00:00   24.129999        Clear        2  2021      6 -0.258819   \n",
       "2021-06-30 23:00:00   24.129999        Clear        2  2021      6 -0.258819   \n",
       "\n",
       "                     hour_cos  weekday_sin  weekday_cos  month_sin  \\\n",
       "datetime                                                             \n",
       "2018-08-01 00:00:00  1.000000     0.974928    -0.222521        1.0   \n",
       "2018-08-01 00:00:00  1.000000     0.974928    -0.222521        1.0   \n",
       "2018-08-01 00:00:00  1.000000     0.974928    -0.222521        1.0   \n",
       "2018-08-01 00:00:00  1.000000     0.974928    -0.222521        1.0   \n",
       "2018-08-01 00:00:00  1.000000     0.974928    -0.222521        1.0   \n",
       "...                       ...          ...          ...        ...   \n",
       "2021-06-30 23:00:00  0.965926     0.974928    -0.222521        0.5   \n",
       "2021-06-30 23:00:00  0.965926     0.974928    -0.222521        0.5   \n",
       "2021-06-30 23:00:00  0.965926     0.974928    -0.222521        0.5   \n",
       "2021-06-30 23:00:00  0.965926     0.974928    -0.222521        0.5   \n",
       "2021-06-30 23:00:00  0.965926     0.974928    -0.222521        0.5   \n",
       "\n",
       "                        month_cos  \n",
       "datetime                           \n",
       "2018-08-01 00:00:00  6.123234e-17  \n",
       "2018-08-01 00:00:00  6.123234e-17  \n",
       "2018-08-01 00:00:00  6.123234e-17  \n",
       "2018-08-01 00:00:00  6.123234e-17  \n",
       "2018-08-01 00:00:00  6.123234e-17  \n",
       "...                           ...  \n",
       "2021-06-30 23:00:00  8.660254e-01  \n",
       "2021-06-30 23:00:00  8.660254e-01  \n",
       "2021-06-30 23:00:00  8.660254e-01  \n",
       "2021-06-30 23:00:00  8.660254e-01  \n",
       "2021-06-30 23:00:00  8.660254e-01  \n",
       "\n",
       "[5365214 rows x 16 columns]"
      ]
     },
     "execution_count": 20,
     "metadata": {},
     "output_type": "execute_result"
    }
   ],
   "source": [
    "temp.sort_values(by='datetime')"
   ]
  },
  {
   "cell_type": "markdown",
   "id": "ef5f7b2d",
   "metadata": {
    "id": "ef5f7b2d"
   },
   "source": [
    "### 3.1) Scaling and Encoding :"
   ]
  },
  {
   "cell_type": "code",
   "execution_count": 21,
   "id": "13577316-81ae-4f44-b8e6-389475a2102f",
   "metadata": {},
   "outputs": [],
   "source": [
    "temp.year = temp.year.astype(str)"
   ]
  },
  {
   "cell_type": "code",
   "execution_count": 22,
   "id": "06f0bb77-9e4e-430d-843f-e469af756844",
   "metadata": {},
   "outputs": [
    {
     "data": {
      "text/plain": [
       "reservations_count       int8\n",
       "number                 object\n",
       "dock_bikes               int8\n",
       "time                     int8\n",
       "holidays                 bool\n",
       "feels_like            float32\n",
       "weather_main           object\n",
       "weekday                  int8\n",
       "year                   object\n",
       "month                    int8\n",
       "hour_sin              float32\n",
       "hour_cos              float32\n",
       "weekday_sin           float32\n",
       "weekday_cos           float32\n",
       "month_sin             float32\n",
       "month_cos             float32\n",
       "dtype: object"
      ]
     },
     "execution_count": 22,
     "metadata": {},
     "output_type": "execute_result"
    }
   ],
   "source": [
    "temp.dtypes"
   ]
  },
  {
   "cell_type": "code",
   "execution_count": 23,
   "id": "f15e09f1-2712-494f-9d0d-08248c4fce8e",
   "metadata": {},
   "outputs": [],
   "source": [
    "num_col = temp.select_dtypes(['int8','float32']).drop(columns='dock_bikes')"
   ]
  },
  {
   "cell_type": "code",
   "execution_count": 24,
   "id": "ff56cec9-5b21-4504-9cd8-6f800d30103b",
   "metadata": {},
   "outputs": [],
   "source": [
    "cat_col = temp.select_dtypes(['object','bool'])"
   ]
  },
  {
   "cell_type": "code",
   "execution_count": 40,
   "id": "36938aea-e8e6-4052-b009-d4584618fd65",
   "metadata": {},
   "outputs": [
    {
     "data": {
      "text/html": [
       "<div>\n",
       "<style scoped>\n",
       "    .dataframe tbody tr th:only-of-type {\n",
       "        vertical-align: middle;\n",
       "    }\n",
       "\n",
       "    .dataframe tbody tr th {\n",
       "        vertical-align: top;\n",
       "    }\n",
       "\n",
       "    .dataframe thead th {\n",
       "        text-align: right;\n",
       "    }\n",
       "</style>\n",
       "<table border=\"1\" class=\"dataframe\">\n",
       "  <thead>\n",
       "    <tr style=\"text-align: right;\">\n",
       "      <th></th>\n",
       "      <th>number</th>\n",
       "      <th>holidays</th>\n",
       "      <th>weather_main</th>\n",
       "      <th>year</th>\n",
       "    </tr>\n",
       "    <tr>\n",
       "      <th>datetime</th>\n",
       "      <th></th>\n",
       "      <th></th>\n",
       "      <th></th>\n",
       "      <th></th>\n",
       "    </tr>\n",
       "  </thead>\n",
       "  <tbody>\n",
       "    <tr>\n",
       "      <th>2021-06-01 00:00:00</th>\n",
       "      <td>1a</td>\n",
       "      <td>False</td>\n",
       "      <td>Rain</td>\n",
       "      <td>2021</td>\n",
       "    </tr>\n",
       "    <tr>\n",
       "      <th>2021-06-01 01:00:00</th>\n",
       "      <td>1a</td>\n",
       "      <td>False</td>\n",
       "      <td>Clouds</td>\n",
       "      <td>2021</td>\n",
       "    </tr>\n",
       "    <tr>\n",
       "      <th>2021-06-01 02:00:00</th>\n",
       "      <td>1a</td>\n",
       "      <td>False</td>\n",
       "      <td>Thunderstorm</td>\n",
       "      <td>2021</td>\n",
       "    </tr>\n",
       "    <tr>\n",
       "      <th>2021-06-01 02:00:00</th>\n",
       "      <td>1a</td>\n",
       "      <td>False</td>\n",
       "      <td>Rain</td>\n",
       "      <td>2021</td>\n",
       "    </tr>\n",
       "    <tr>\n",
       "      <th>2021-06-01 03:00:00</th>\n",
       "      <td>1a</td>\n",
       "      <td>False</td>\n",
       "      <td>Rain</td>\n",
       "      <td>2021</td>\n",
       "    </tr>\n",
       "    <tr>\n",
       "      <th>...</th>\n",
       "      <td>...</td>\n",
       "      <td>...</td>\n",
       "      <td>...</td>\n",
       "      <td>...</td>\n",
       "    </tr>\n",
       "    <tr>\n",
       "      <th>2021-05-31 20:00:00</th>\n",
       "      <td>9</td>\n",
       "      <td>False</td>\n",
       "      <td>Rain</td>\n",
       "      <td>2021</td>\n",
       "    </tr>\n",
       "    <tr>\n",
       "      <th>2021-05-31 21:00:00</th>\n",
       "      <td>9</td>\n",
       "      <td>False</td>\n",
       "      <td>Thunderstorm</td>\n",
       "      <td>2021</td>\n",
       "    </tr>\n",
       "    <tr>\n",
       "      <th>2021-05-31 21:00:00</th>\n",
       "      <td>9</td>\n",
       "      <td>False</td>\n",
       "      <td>Rain</td>\n",
       "      <td>2021</td>\n",
       "    </tr>\n",
       "    <tr>\n",
       "      <th>2021-05-31 22:00:00</th>\n",
       "      <td>9</td>\n",
       "      <td>False</td>\n",
       "      <td>Rain</td>\n",
       "      <td>2021</td>\n",
       "    </tr>\n",
       "    <tr>\n",
       "      <th>2021-05-31 23:00:00</th>\n",
       "      <td>9</td>\n",
       "      <td>False</td>\n",
       "      <td>Clouds</td>\n",
       "      <td>2021</td>\n",
       "    </tr>\n",
       "  </tbody>\n",
       "</table>\n",
       "<p>5365214 rows × 4 columns</p>\n",
       "</div>"
      ],
      "text/plain": [
       "                    number  holidays  weather_main  year\n",
       "datetime                                                \n",
       "2021-06-01 00:00:00     1a     False          Rain  2021\n",
       "2021-06-01 01:00:00     1a     False        Clouds  2021\n",
       "2021-06-01 02:00:00     1a     False  Thunderstorm  2021\n",
       "2021-06-01 02:00:00     1a     False          Rain  2021\n",
       "2021-06-01 03:00:00     1a     False          Rain  2021\n",
       "...                    ...       ...           ...   ...\n",
       "2021-05-31 20:00:00      9     False          Rain  2021\n",
       "2021-05-31 21:00:00      9     False  Thunderstorm  2021\n",
       "2021-05-31 21:00:00      9     False          Rain  2021\n",
       "2021-05-31 22:00:00      9     False          Rain  2021\n",
       "2021-05-31 23:00:00      9     False        Clouds  2021\n",
       "\n",
       "[5365214 rows x 4 columns]"
      ]
     },
     "execution_count": 40,
     "metadata": {},
     "output_type": "execute_result"
    }
   ],
   "source": [
    "cat_col"
   ]
  },
  {
   "cell_type": "code",
   "execution_count": 25,
   "id": "z1skbWxf3tgB",
   "metadata": {
    "colab": {
     "base_uri": "https://localhost:8080/",
     "height": 473
    },
    "id": "z1skbWxf3tgB",
    "outputId": "86784cf8-2ecc-492a-eb83-568af5e9ab1e"
   },
   "outputs": [],
   "source": [
    "num_transformer = StandardScaler()\n",
    "cat_transformer = OneHotEncoder(sparse=False, handle_unknown='ignore')"
   ]
  },
  {
   "cell_type": "code",
   "execution_count": 26,
   "id": "38898263-accb-4c3a-b597-d0c5928098fa",
   "metadata": {},
   "outputs": [],
   "source": [
    "preproc = make_column_transformer(\n",
    "    (num_transformer, num_col.columns),\n",
    "    (cat_transformer, cat_col.columns),\n",
    "    remainder='passthrough')"
   ]
  },
  {
   "cell_type": "code",
   "execution_count": 27,
   "id": "feb2f28f-e40b-4945-a6c8-d805b7656909",
   "metadata": {},
   "outputs": [],
   "source": [
    "pipe = make_pipeline(preproc)"
   ]
  },
  {
   "cell_type": "code",
   "execution_count": 28,
   "id": "aab03bb1-9d9f-4db2-89fb-fd3ec9a57748",
   "metadata": {},
   "outputs": [],
   "source": [
    "temp_2021 = temp[temp['year'] == '2021'].copy()"
   ]
  },
  {
   "cell_type": "code",
   "execution_count": 29,
   "id": "3eaa6950-119c-4e94-a027-7f9ed5b63fa9",
   "metadata": {},
   "outputs": [
    {
     "data": {
      "text/html": [
       "<style>#sk-a06e8423-0e61-4692-93b1-a44cf2aa29a9 {color: black;background-color: white;}#sk-a06e8423-0e61-4692-93b1-a44cf2aa29a9 pre{padding: 0;}#sk-a06e8423-0e61-4692-93b1-a44cf2aa29a9 div.sk-toggleable {background-color: white;}#sk-a06e8423-0e61-4692-93b1-a44cf2aa29a9 label.sk-toggleable__label {cursor: pointer;display: block;width: 100%;margin-bottom: 0;padding: 0.3em;box-sizing: border-box;text-align: center;}#sk-a06e8423-0e61-4692-93b1-a44cf2aa29a9 label.sk-toggleable__label-arrow:before {content: \"▸\";float: left;margin-right: 0.25em;color: #696969;}#sk-a06e8423-0e61-4692-93b1-a44cf2aa29a9 label.sk-toggleable__label-arrow:hover:before {color: black;}#sk-a06e8423-0e61-4692-93b1-a44cf2aa29a9 div.sk-estimator:hover label.sk-toggleable__label-arrow:before {color: black;}#sk-a06e8423-0e61-4692-93b1-a44cf2aa29a9 div.sk-toggleable__content {max-height: 0;max-width: 0;overflow: hidden;text-align: left;background-color: #f0f8ff;}#sk-a06e8423-0e61-4692-93b1-a44cf2aa29a9 div.sk-toggleable__content pre {margin: 0.2em;color: black;border-radius: 0.25em;background-color: #f0f8ff;}#sk-a06e8423-0e61-4692-93b1-a44cf2aa29a9 input.sk-toggleable__control:checked~div.sk-toggleable__content {max-height: 200px;max-width: 100%;overflow: auto;}#sk-a06e8423-0e61-4692-93b1-a44cf2aa29a9 input.sk-toggleable__control:checked~label.sk-toggleable__label-arrow:before {content: \"▾\";}#sk-a06e8423-0e61-4692-93b1-a44cf2aa29a9 div.sk-estimator input.sk-toggleable__control:checked~label.sk-toggleable__label {background-color: #d4ebff;}#sk-a06e8423-0e61-4692-93b1-a44cf2aa29a9 div.sk-label input.sk-toggleable__control:checked~label.sk-toggleable__label {background-color: #d4ebff;}#sk-a06e8423-0e61-4692-93b1-a44cf2aa29a9 input.sk-hidden--visually {border: 0;clip: rect(1px 1px 1px 1px);clip: rect(1px, 1px, 1px, 1px);height: 1px;margin: -1px;overflow: hidden;padding: 0;position: absolute;width: 1px;}#sk-a06e8423-0e61-4692-93b1-a44cf2aa29a9 div.sk-estimator {font-family: monospace;background-color: #f0f8ff;border: 1px dotted black;border-radius: 0.25em;box-sizing: border-box;margin-bottom: 0.5em;}#sk-a06e8423-0e61-4692-93b1-a44cf2aa29a9 div.sk-estimator:hover {background-color: #d4ebff;}#sk-a06e8423-0e61-4692-93b1-a44cf2aa29a9 div.sk-parallel-item::after {content: \"\";width: 100%;border-bottom: 1px solid gray;flex-grow: 1;}#sk-a06e8423-0e61-4692-93b1-a44cf2aa29a9 div.sk-label:hover label.sk-toggleable__label {background-color: #d4ebff;}#sk-a06e8423-0e61-4692-93b1-a44cf2aa29a9 div.sk-serial::before {content: \"\";position: absolute;border-left: 1px solid gray;box-sizing: border-box;top: 2em;bottom: 0;left: 50%;}#sk-a06e8423-0e61-4692-93b1-a44cf2aa29a9 div.sk-serial {display: flex;flex-direction: column;align-items: center;background-color: white;padding-right: 0.2em;padding-left: 0.2em;}#sk-a06e8423-0e61-4692-93b1-a44cf2aa29a9 div.sk-item {z-index: 1;}#sk-a06e8423-0e61-4692-93b1-a44cf2aa29a9 div.sk-parallel {display: flex;align-items: stretch;justify-content: center;background-color: white;}#sk-a06e8423-0e61-4692-93b1-a44cf2aa29a9 div.sk-parallel::before {content: \"\";position: absolute;border-left: 1px solid gray;box-sizing: border-box;top: 2em;bottom: 0;left: 50%;}#sk-a06e8423-0e61-4692-93b1-a44cf2aa29a9 div.sk-parallel-item {display: flex;flex-direction: column;position: relative;background-color: white;}#sk-a06e8423-0e61-4692-93b1-a44cf2aa29a9 div.sk-parallel-item:first-child::after {align-self: flex-end;width: 50%;}#sk-a06e8423-0e61-4692-93b1-a44cf2aa29a9 div.sk-parallel-item:last-child::after {align-self: flex-start;width: 50%;}#sk-a06e8423-0e61-4692-93b1-a44cf2aa29a9 div.sk-parallel-item:only-child::after {width: 0;}#sk-a06e8423-0e61-4692-93b1-a44cf2aa29a9 div.sk-dashed-wrapped {border: 1px dashed gray;margin: 0 0.4em 0.5em 0.4em;box-sizing: border-box;padding-bottom: 0.4em;background-color: white;position: relative;}#sk-a06e8423-0e61-4692-93b1-a44cf2aa29a9 div.sk-label label {font-family: monospace;font-weight: bold;background-color: white;display: inline-block;line-height: 1.2em;}#sk-a06e8423-0e61-4692-93b1-a44cf2aa29a9 div.sk-label-container {position: relative;z-index: 2;text-align: center;}#sk-a06e8423-0e61-4692-93b1-a44cf2aa29a9 div.sk-container {/* jupyter's `normalize.less` sets `[hidden] { display: none; }` but bootstrap.min.css set `[hidden] { display: none !important; }` so we also need the `!important` here to be able to override the default hidden behavior on the sphinx rendered scikit-learn.org. See: https://github.com/scikit-learn/scikit-learn/issues/21755 */display: inline-block !important;position: relative;}#sk-a06e8423-0e61-4692-93b1-a44cf2aa29a9 div.sk-text-repr-fallback {display: none;}</style><div id=\"sk-a06e8423-0e61-4692-93b1-a44cf2aa29a9\" class=\"sk-top-container\"><div class=\"sk-text-repr-fallback\"><pre>Pipeline(steps=[(&#x27;columntransformer&#x27;,\n",
       "                 ColumnTransformer(remainder=&#x27;passthrough&#x27;,\n",
       "                                   transformers=[(&#x27;standardscaler&#x27;,\n",
       "                                                  StandardScaler(),\n",
       "                                                  Index([&#x27;reservations_count&#x27;, &#x27;time&#x27;, &#x27;feels_like&#x27;, &#x27;weekday&#x27;, &#x27;month&#x27;,\n",
       "       &#x27;hour_sin&#x27;, &#x27;hour_cos&#x27;, &#x27;weekday_sin&#x27;, &#x27;weekday_cos&#x27;, &#x27;month_sin&#x27;,\n",
       "       &#x27;month_cos&#x27;],\n",
       "      dtype=&#x27;object&#x27;)),\n",
       "                                                 (&#x27;onehotencoder&#x27;,\n",
       "                                                  OneHotEncoder(handle_unknown=&#x27;ignore&#x27;,\n",
       "                                                                sparse=False),\n",
       "                                                  Index([&#x27;number&#x27;, &#x27;holidays&#x27;, &#x27;weather_main&#x27;, &#x27;year&#x27;], dtype=&#x27;object&#x27;))]))])</pre><b>Please rerun this cell to show the HTML repr or trust the notebook.</b></div><div class=\"sk-container\" hidden><div class=\"sk-item sk-dashed-wrapped\"><div class=\"sk-label-container\"><div class=\"sk-label sk-toggleable\"><input class=\"sk-toggleable__control sk-hidden--visually\" id=\"b2cf59a1-865d-4f2a-a803-162f9eefe475\" type=\"checkbox\" ><label for=\"b2cf59a1-865d-4f2a-a803-162f9eefe475\" class=\"sk-toggleable__label sk-toggleable__label-arrow\">Pipeline</label><div class=\"sk-toggleable__content\"><pre>Pipeline(steps=[(&#x27;columntransformer&#x27;,\n",
       "                 ColumnTransformer(remainder=&#x27;passthrough&#x27;,\n",
       "                                   transformers=[(&#x27;standardscaler&#x27;,\n",
       "                                                  StandardScaler(),\n",
       "                                                  Index([&#x27;reservations_count&#x27;, &#x27;time&#x27;, &#x27;feels_like&#x27;, &#x27;weekday&#x27;, &#x27;month&#x27;,\n",
       "       &#x27;hour_sin&#x27;, &#x27;hour_cos&#x27;, &#x27;weekday_sin&#x27;, &#x27;weekday_cos&#x27;, &#x27;month_sin&#x27;,\n",
       "       &#x27;month_cos&#x27;],\n",
       "      dtype=&#x27;object&#x27;)),\n",
       "                                                 (&#x27;onehotencoder&#x27;,\n",
       "                                                  OneHotEncoder(handle_unknown=&#x27;ignore&#x27;,\n",
       "                                                                sparse=False),\n",
       "                                                  Index([&#x27;number&#x27;, &#x27;holidays&#x27;, &#x27;weather_main&#x27;, &#x27;year&#x27;], dtype=&#x27;object&#x27;))]))])</pre></div></div></div><div class=\"sk-serial\"><div class=\"sk-item sk-dashed-wrapped\"><div class=\"sk-label-container\"><div class=\"sk-label sk-toggleable\"><input class=\"sk-toggleable__control sk-hidden--visually\" id=\"a07f5ad0-5a0e-4bc1-801a-cdcf30787317\" type=\"checkbox\" ><label for=\"a07f5ad0-5a0e-4bc1-801a-cdcf30787317\" class=\"sk-toggleable__label sk-toggleable__label-arrow\">columntransformer: ColumnTransformer</label><div class=\"sk-toggleable__content\"><pre>ColumnTransformer(remainder=&#x27;passthrough&#x27;,\n",
       "                  transformers=[(&#x27;standardscaler&#x27;, StandardScaler(),\n",
       "                                 Index([&#x27;reservations_count&#x27;, &#x27;time&#x27;, &#x27;feels_like&#x27;, &#x27;weekday&#x27;, &#x27;month&#x27;,\n",
       "       &#x27;hour_sin&#x27;, &#x27;hour_cos&#x27;, &#x27;weekday_sin&#x27;, &#x27;weekday_cos&#x27;, &#x27;month_sin&#x27;,\n",
       "       &#x27;month_cos&#x27;],\n",
       "      dtype=&#x27;object&#x27;)),\n",
       "                                (&#x27;onehotencoder&#x27;,\n",
       "                                 OneHotEncoder(handle_unknown=&#x27;ignore&#x27;,\n",
       "                                               sparse=False),\n",
       "                                 Index([&#x27;number&#x27;, &#x27;holidays&#x27;, &#x27;weather_main&#x27;, &#x27;year&#x27;], dtype=&#x27;object&#x27;))])</pre></div></div></div><div class=\"sk-parallel\"><div class=\"sk-parallel-item\"><div class=\"sk-item\"><div class=\"sk-label-container\"><div class=\"sk-label sk-toggleable\"><input class=\"sk-toggleable__control sk-hidden--visually\" id=\"0a27d155-e77f-4ed9-8988-66bfb0df0177\" type=\"checkbox\" ><label for=\"0a27d155-e77f-4ed9-8988-66bfb0df0177\" class=\"sk-toggleable__label sk-toggleable__label-arrow\">standardscaler</label><div class=\"sk-toggleable__content\"><pre>Index([&#x27;reservations_count&#x27;, &#x27;time&#x27;, &#x27;feels_like&#x27;, &#x27;weekday&#x27;, &#x27;month&#x27;,\n",
       "       &#x27;hour_sin&#x27;, &#x27;hour_cos&#x27;, &#x27;weekday_sin&#x27;, &#x27;weekday_cos&#x27;, &#x27;month_sin&#x27;,\n",
       "       &#x27;month_cos&#x27;],\n",
       "      dtype=&#x27;object&#x27;)</pre></div></div></div><div class=\"sk-serial\"><div class=\"sk-item\"><div class=\"sk-estimator sk-toggleable\"><input class=\"sk-toggleable__control sk-hidden--visually\" id=\"6ed8406b-0052-4f9e-af16-933acb90129b\" type=\"checkbox\" ><label for=\"6ed8406b-0052-4f9e-af16-933acb90129b\" class=\"sk-toggleable__label sk-toggleable__label-arrow\">StandardScaler</label><div class=\"sk-toggleable__content\"><pre>StandardScaler()</pre></div></div></div></div></div></div><div class=\"sk-parallel-item\"><div class=\"sk-item\"><div class=\"sk-label-container\"><div class=\"sk-label sk-toggleable\"><input class=\"sk-toggleable__control sk-hidden--visually\" id=\"8c96d36a-b6d0-4f32-978d-f58544d09631\" type=\"checkbox\" ><label for=\"8c96d36a-b6d0-4f32-978d-f58544d09631\" class=\"sk-toggleable__label sk-toggleable__label-arrow\">onehotencoder</label><div class=\"sk-toggleable__content\"><pre>Index([&#x27;number&#x27;, &#x27;holidays&#x27;, &#x27;weather_main&#x27;, &#x27;year&#x27;], dtype=&#x27;object&#x27;)</pre></div></div></div><div class=\"sk-serial\"><div class=\"sk-item\"><div class=\"sk-estimator sk-toggleable\"><input class=\"sk-toggleable__control sk-hidden--visually\" id=\"0241851f-5ac8-4705-8c8a-b271109c2ec0\" type=\"checkbox\" ><label for=\"0241851f-5ac8-4705-8c8a-b271109c2ec0\" class=\"sk-toggleable__label sk-toggleable__label-arrow\">OneHotEncoder</label><div class=\"sk-toggleable__content\"><pre>OneHotEncoder(handle_unknown=&#x27;ignore&#x27;, sparse=False)</pre></div></div></div></div></div></div><div class=\"sk-parallel-item\"><div class=\"sk-item\"><div class=\"sk-label-container\"><div class=\"sk-label sk-toggleable\"><input class=\"sk-toggleable__control sk-hidden--visually\" id=\"6f26ceec-6f3b-4054-b135-9e528abb8fb3\" type=\"checkbox\" ><label for=\"6f26ceec-6f3b-4054-b135-9e528abb8fb3\" class=\"sk-toggleable__label sk-toggleable__label-arrow\">remainder</label><div class=\"sk-toggleable__content\"><pre>[&#x27;dock_bikes&#x27;]</pre></div></div></div><div class=\"sk-serial\"><div class=\"sk-item\"><div class=\"sk-estimator sk-toggleable\"><input class=\"sk-toggleable__control sk-hidden--visually\" id=\"26cd3416-492c-46a8-a9ff-fa95cd10dcd2\" type=\"checkbox\" ><label for=\"26cd3416-492c-46a8-a9ff-fa95cd10dcd2\" class=\"sk-toggleable__label sk-toggleable__label-arrow\">passthrough</label><div class=\"sk-toggleable__content\"><pre>passthrough</pre></div></div></div></div></div></div></div></div></div></div></div></div>"
      ],
      "text/plain": [
       "Pipeline(steps=[('columntransformer',\n",
       "                 ColumnTransformer(remainder='passthrough',\n",
       "                                   transformers=[('standardscaler',\n",
       "                                                  StandardScaler(),\n",
       "                                                  Index(['reservations_count', 'time', 'feels_like', 'weekday', 'month',\n",
       "       'hour_sin', 'hour_cos', 'weekday_sin', 'weekday_cos', 'month_sin',\n",
       "       'month_cos'],\n",
       "      dtype='object')),\n",
       "                                                 ('onehotencoder',\n",
       "                                                  OneHotEncoder(handle_unknown='ignore',\n",
       "                                                                sparse=False),\n",
       "                                                  Index(['number', 'holidays', 'weather_main', 'year'], dtype='object'))]))])"
      ]
     },
     "execution_count": 29,
     "metadata": {},
     "output_type": "execute_result"
    }
   ],
   "source": [
    "# Training in a part of the model that has all the stations\n",
    "pipe.fit(temp_2021)"
   ]
  },
  {
   "cell_type": "code",
   "execution_count": 30,
   "id": "c7fa8a7a-f2ad-40ff-bff5-d036ce6b641b",
   "metadata": {},
   "outputs": [],
   "source": [
    "# Exporting Pipeline as pickle file\n",
    "#with open(\"pipe.pkl\", \"wb\") as file:\n",
    "    #pickle.dump(pipe, file)"
   ]
  },
  {
   "cell_type": "code",
   "execution_count": 31,
   "id": "1d8ca47a-a03d-4b66-9ed5-bbff52d7c9e7",
   "metadata": {},
   "outputs": [],
   "source": [
    "columns = list(preproc.named_transformers_['standardscaler'].get_feature_names_out()) + list(preproc.named_transformers_['onehotencoder'].get_feature_names_out()) + ['dock_bikes']"
   ]
  },
  {
   "cell_type": "code",
   "execution_count": 32,
   "id": "074e82a1-797d-4580-a274-8e77a780e59e",
   "metadata": {},
   "outputs": [],
   "source": [
    "chunk1 = pipe.transform(temp.iloc[0:3_000_000])"
   ]
  },
  {
   "cell_type": "code",
   "execution_count": 33,
   "id": "f89d0aec-77b3-4336-a666-bf3cff271356",
   "metadata": {},
   "outputs": [],
   "source": [
    "chunk2= pipe.transform(temp.iloc[3_000_000:(len(temp)+1)])"
   ]
  },
  {
   "cell_type": "code",
   "execution_count": 34,
   "id": "71d6877d-3790-4755-a516-3b24ba3a0472",
   "metadata": {},
   "outputs": [],
   "source": [
    "temp_model = np.concatenate((chunk1, chunk2))"
   ]
  },
  {
   "cell_type": "code",
   "execution_count": 35,
   "id": "9165b271-a595-49e5-8322-c837f8d95571",
   "metadata": {},
   "outputs": [
    {
     "data": {
      "text/plain": [
       "(5365214, 16)"
      ]
     },
     "execution_count": 35,
     "metadata": {},
     "output_type": "execute_result"
    }
   ],
   "source": [
    "temp.shape"
   ]
  },
  {
   "cell_type": "code",
   "execution_count": 36,
   "id": "e7484547-a3fa-4698-9dfd-6738f46c3fb5",
   "metadata": {},
   "outputs": [],
   "source": [
    "chunk = 500_000\n",
    "\n",
    "first = pipe.transform(temp.iloc[0:(chunk)])\n",
    "for i in range(chunk, (len(temp)+1), chunk):\n",
    "    if (i+chunk)<=(len(temp)+1):\n",
    "        temp_proc = pipe.transform(temp.iloc[i:(i+chunk)])\n",
    "    else:\n",
    "        temp_proc = pipe.transform(temp.iloc[i:(len(temp)+1)])\n",
    "    temp_model = np.concatenate((first, temp_proc))"
   ]
  },
  {
   "cell_type": "code",
   "execution_count": 37,
   "id": "3a0dece0-b8cf-4561-bf59-c2a882faae53",
   "metadata": {},
   "outputs": [],
   "source": [
    "temp_model = pd.DataFrame(temp_model, columns=columns, index= temp.index)"
   ]
  },
  {
   "cell_type": "code",
   "execution_count": 38,
   "id": "0b7e3fe0-68b5-4339-8501-3e25e4825536",
   "metadata": {},
   "outputs": [
    {
     "name": "stdout",
     "output_type": "stream",
     "text": [
      "old dataframe size:  11829.73 MB\n",
      "optimized size by 50.0 %\n",
      "new dataframe size:  5935.33  MB\n"
     ]
    }
   ],
   "source": [
    "temp_model = compress(temp_model, verbose=True)"
   ]
  },
  {
   "cell_type": "code",
   "execution_count": 39,
   "id": "157a7c79-9007-4758-aa65-794b648c0472",
   "metadata": {},
   "outputs": [
    {
     "data": {
      "text/plain": [
       "array([dtype('float32')], dtype=object)"
      ]
     },
     "execution_count": 39,
     "metadata": {},
     "output_type": "execute_result"
    }
   ],
   "source": [
    "temp_model.dtypes.unique()"
   ]
  },
  {
   "cell_type": "code",
   "execution_count": 40,
   "id": "187ee265-1786-49fa-9592-409a52d4503a",
   "metadata": {},
   "outputs": [
    {
     "data": {
      "text/html": [
       "<div>\n",
       "<style scoped>\n",
       "    .dataframe tbody tr th:only-of-type {\n",
       "        vertical-align: middle;\n",
       "    }\n",
       "\n",
       "    .dataframe tbody tr th {\n",
       "        vertical-align: top;\n",
       "    }\n",
       "\n",
       "    .dataframe thead th {\n",
       "        text-align: right;\n",
       "    }\n",
       "</style>\n",
       "<table border=\"1\" class=\"dataframe\">\n",
       "  <thead>\n",
       "    <tr style=\"text-align: right;\">\n",
       "      <th></th>\n",
       "      <th>reservations_count</th>\n",
       "      <th>time</th>\n",
       "      <th>feels_like</th>\n",
       "      <th>weekday</th>\n",
       "      <th>month</th>\n",
       "      <th>hour_sin</th>\n",
       "      <th>hour_cos</th>\n",
       "      <th>weekday_sin</th>\n",
       "      <th>weekday_cos</th>\n",
       "      <th>month_sin</th>\n",
       "      <th>...</th>\n",
       "      <th>weather_main_Clouds</th>\n",
       "      <th>weather_main_Drizzle</th>\n",
       "      <th>weather_main_Fog</th>\n",
       "      <th>weather_main_Haze</th>\n",
       "      <th>weather_main_Mist</th>\n",
       "      <th>weather_main_Rain</th>\n",
       "      <th>weather_main_Snow</th>\n",
       "      <th>weather_main_Thunderstorm</th>\n",
       "      <th>year_2021</th>\n",
       "      <th>dock_bikes</th>\n",
       "    </tr>\n",
       "    <tr>\n",
       "      <th>datetime</th>\n",
       "      <th></th>\n",
       "      <th></th>\n",
       "      <th></th>\n",
       "      <th></th>\n",
       "      <th></th>\n",
       "      <th></th>\n",
       "      <th></th>\n",
       "      <th></th>\n",
       "      <th></th>\n",
       "      <th></th>\n",
       "      <th></th>\n",
       "      <th></th>\n",
       "      <th></th>\n",
       "      <th></th>\n",
       "      <th></th>\n",
       "      <th></th>\n",
       "      <th></th>\n",
       "      <th></th>\n",
       "      <th></th>\n",
       "      <th></th>\n",
       "      <th></th>\n",
       "    </tr>\n",
       "  </thead>\n",
       "  <tbody>\n",
       "    <tr>\n",
       "      <th>2021-05-31 23:00:00</th>\n",
       "      <td>-0.230483</td>\n",
       "      <td>1.656331</td>\n",
       "      <td>0.780904</td>\n",
       "      <td>-1.501293</td>\n",
       "      <td>0.88969</td>\n",
       "      <td>-0.366077</td>\n",
       "      <td>1.361562</td>\n",
       "      <td>0.005253</td>\n",
       "      <td>1.416714</td>\n",
       "      <td>0.85595</td>\n",
       "      <td>...</td>\n",
       "      <td>1.0</td>\n",
       "      <td>0.0</td>\n",
       "      <td>0.0</td>\n",
       "      <td>0.0</td>\n",
       "      <td>0.0</td>\n",
       "      <td>0.0</td>\n",
       "      <td>0.0</td>\n",
       "      <td>0.0</td>\n",
       "      <td>1.0</td>\n",
       "      <td>3.0</td>\n",
       "    </tr>\n",
       "    <tr>\n",
       "      <th>2021-05-31 23:00:00</th>\n",
       "      <td>-0.230483</td>\n",
       "      <td>1.656331</td>\n",
       "      <td>0.780904</td>\n",
       "      <td>-1.501293</td>\n",
       "      <td>0.88969</td>\n",
       "      <td>-0.366077</td>\n",
       "      <td>1.361562</td>\n",
       "      <td>0.005253</td>\n",
       "      <td>1.416714</td>\n",
       "      <td>0.85595</td>\n",
       "      <td>...</td>\n",
       "      <td>1.0</td>\n",
       "      <td>0.0</td>\n",
       "      <td>0.0</td>\n",
       "      <td>0.0</td>\n",
       "      <td>0.0</td>\n",
       "      <td>0.0</td>\n",
       "      <td>0.0</td>\n",
       "      <td>0.0</td>\n",
       "      <td>1.0</td>\n",
       "      <td>14.0</td>\n",
       "    </tr>\n",
       "    <tr>\n",
       "      <th>2021-05-31 23:00:00</th>\n",
       "      <td>-0.230483</td>\n",
       "      <td>1.656331</td>\n",
       "      <td>0.780904</td>\n",
       "      <td>-1.501293</td>\n",
       "      <td>0.88969</td>\n",
       "      <td>-0.366077</td>\n",
       "      <td>1.361562</td>\n",
       "      <td>0.005253</td>\n",
       "      <td>1.416714</td>\n",
       "      <td>0.85595</td>\n",
       "      <td>...</td>\n",
       "      <td>1.0</td>\n",
       "      <td>0.0</td>\n",
       "      <td>0.0</td>\n",
       "      <td>0.0</td>\n",
       "      <td>0.0</td>\n",
       "      <td>0.0</td>\n",
       "      <td>0.0</td>\n",
       "      <td>0.0</td>\n",
       "      <td>1.0</td>\n",
       "      <td>1.0</td>\n",
       "    </tr>\n",
       "    <tr>\n",
       "      <th>2021-05-31 23:00:00</th>\n",
       "      <td>-0.230483</td>\n",
       "      <td>1.656331</td>\n",
       "      <td>0.780904</td>\n",
       "      <td>-1.501293</td>\n",
       "      <td>0.88969</td>\n",
       "      <td>-0.366077</td>\n",
       "      <td>1.361562</td>\n",
       "      <td>0.005253</td>\n",
       "      <td>1.416714</td>\n",
       "      <td>0.85595</td>\n",
       "      <td>...</td>\n",
       "      <td>1.0</td>\n",
       "      <td>0.0</td>\n",
       "      <td>0.0</td>\n",
       "      <td>0.0</td>\n",
       "      <td>0.0</td>\n",
       "      <td>0.0</td>\n",
       "      <td>0.0</td>\n",
       "      <td>0.0</td>\n",
       "      <td>1.0</td>\n",
       "      <td>2.0</td>\n",
       "    </tr>\n",
       "    <tr>\n",
       "      <th>2021-05-31 23:00:00</th>\n",
       "      <td>-0.230483</td>\n",
       "      <td>1.656331</td>\n",
       "      <td>0.780904</td>\n",
       "      <td>-1.501293</td>\n",
       "      <td>0.88969</td>\n",
       "      <td>-0.366077</td>\n",
       "      <td>1.361562</td>\n",
       "      <td>0.005253</td>\n",
       "      <td>1.416714</td>\n",
       "      <td>0.85595</td>\n",
       "      <td>...</td>\n",
       "      <td>1.0</td>\n",
       "      <td>0.0</td>\n",
       "      <td>0.0</td>\n",
       "      <td>0.0</td>\n",
       "      <td>0.0</td>\n",
       "      <td>0.0</td>\n",
       "      <td>0.0</td>\n",
       "      <td>0.0</td>\n",
       "      <td>1.0</td>\n",
       "      <td>10.0</td>\n",
       "    </tr>\n",
       "    <tr>\n",
       "      <th>...</th>\n",
       "      <td>...</td>\n",
       "      <td>...</td>\n",
       "      <td>...</td>\n",
       "      <td>...</td>\n",
       "      <td>...</td>\n",
       "      <td>...</td>\n",
       "      <td>...</td>\n",
       "      <td>...</td>\n",
       "      <td>...</td>\n",
       "      <td>...</td>\n",
       "      <td>...</td>\n",
       "      <td>...</td>\n",
       "      <td>...</td>\n",
       "      <td>...</td>\n",
       "      <td>...</td>\n",
       "      <td>...</td>\n",
       "      <td>...</td>\n",
       "      <td>...</td>\n",
       "      <td>...</td>\n",
       "      <td>...</td>\n",
       "      <td>...</td>\n",
       "    </tr>\n",
       "    <tr>\n",
       "      <th>2021-05-31 23:00:00</th>\n",
       "      <td>-0.230483</td>\n",
       "      <td>1.656331</td>\n",
       "      <td>0.780904</td>\n",
       "      <td>-1.501293</td>\n",
       "      <td>0.88969</td>\n",
       "      <td>-0.366077</td>\n",
       "      <td>1.361562</td>\n",
       "      <td>0.005253</td>\n",
       "      <td>1.416714</td>\n",
       "      <td>0.85595</td>\n",
       "      <td>...</td>\n",
       "      <td>1.0</td>\n",
       "      <td>0.0</td>\n",
       "      <td>0.0</td>\n",
       "      <td>0.0</td>\n",
       "      <td>0.0</td>\n",
       "      <td>0.0</td>\n",
       "      <td>0.0</td>\n",
       "      <td>0.0</td>\n",
       "      <td>1.0</td>\n",
       "      <td>11.0</td>\n",
       "    </tr>\n",
       "    <tr>\n",
       "      <th>2021-05-31 23:00:00</th>\n",
       "      <td>-0.230483</td>\n",
       "      <td>1.656331</td>\n",
       "      <td>0.780904</td>\n",
       "      <td>-1.501293</td>\n",
       "      <td>0.88969</td>\n",
       "      <td>-0.366077</td>\n",
       "      <td>1.361562</td>\n",
       "      <td>0.005253</td>\n",
       "      <td>1.416714</td>\n",
       "      <td>0.85595</td>\n",
       "      <td>...</td>\n",
       "      <td>1.0</td>\n",
       "      <td>0.0</td>\n",
       "      <td>0.0</td>\n",
       "      <td>0.0</td>\n",
       "      <td>0.0</td>\n",
       "      <td>0.0</td>\n",
       "      <td>0.0</td>\n",
       "      <td>0.0</td>\n",
       "      <td>1.0</td>\n",
       "      <td>1.0</td>\n",
       "    </tr>\n",
       "    <tr>\n",
       "      <th>2021-05-31 23:00:00</th>\n",
       "      <td>-0.230483</td>\n",
       "      <td>1.656331</td>\n",
       "      <td>0.780904</td>\n",
       "      <td>-1.501293</td>\n",
       "      <td>0.88969</td>\n",
       "      <td>-0.366077</td>\n",
       "      <td>1.361562</td>\n",
       "      <td>0.005253</td>\n",
       "      <td>1.416714</td>\n",
       "      <td>0.85595</td>\n",
       "      <td>...</td>\n",
       "      <td>1.0</td>\n",
       "      <td>0.0</td>\n",
       "      <td>0.0</td>\n",
       "      <td>0.0</td>\n",
       "      <td>0.0</td>\n",
       "      <td>0.0</td>\n",
       "      <td>0.0</td>\n",
       "      <td>0.0</td>\n",
       "      <td>1.0</td>\n",
       "      <td>1.0</td>\n",
       "    </tr>\n",
       "    <tr>\n",
       "      <th>2021-05-31 23:00:00</th>\n",
       "      <td>-0.230483</td>\n",
       "      <td>1.656331</td>\n",
       "      <td>0.780904</td>\n",
       "      <td>-1.501293</td>\n",
       "      <td>0.88969</td>\n",
       "      <td>-0.366077</td>\n",
       "      <td>1.361562</td>\n",
       "      <td>0.005253</td>\n",
       "      <td>1.416714</td>\n",
       "      <td>0.85595</td>\n",
       "      <td>...</td>\n",
       "      <td>1.0</td>\n",
       "      <td>0.0</td>\n",
       "      <td>0.0</td>\n",
       "      <td>0.0</td>\n",
       "      <td>0.0</td>\n",
       "      <td>0.0</td>\n",
       "      <td>0.0</td>\n",
       "      <td>0.0</td>\n",
       "      <td>1.0</td>\n",
       "      <td>1.0</td>\n",
       "    </tr>\n",
       "    <tr>\n",
       "      <th>2021-05-31 23:00:00</th>\n",
       "      <td>-0.230483</td>\n",
       "      <td>1.656331</td>\n",
       "      <td>0.780904</td>\n",
       "      <td>-1.501293</td>\n",
       "      <td>0.88969</td>\n",
       "      <td>-0.366077</td>\n",
       "      <td>1.361562</td>\n",
       "      <td>0.005253</td>\n",
       "      <td>1.416714</td>\n",
       "      <td>0.85595</td>\n",
       "      <td>...</td>\n",
       "      <td>1.0</td>\n",
       "      <td>0.0</td>\n",
       "      <td>0.0</td>\n",
       "      <td>0.0</td>\n",
       "      <td>0.0</td>\n",
       "      <td>0.0</td>\n",
       "      <td>0.0</td>\n",
       "      <td>0.0</td>\n",
       "      <td>1.0</td>\n",
       "      <td>18.0</td>\n",
       "    </tr>\n",
       "  </tbody>\n",
       "</table>\n",
       "<p>264 rows × 288 columns</p>\n",
       "</div>"
      ],
      "text/plain": [
       "                     reservations_count      time  feels_like   weekday  \\\n",
       "datetime                                                                  \n",
       "2021-05-31 23:00:00           -0.230483  1.656331    0.780904 -1.501293   \n",
       "2021-05-31 23:00:00           -0.230483  1.656331    0.780904 -1.501293   \n",
       "2021-05-31 23:00:00           -0.230483  1.656331    0.780904 -1.501293   \n",
       "2021-05-31 23:00:00           -0.230483  1.656331    0.780904 -1.501293   \n",
       "2021-05-31 23:00:00           -0.230483  1.656331    0.780904 -1.501293   \n",
       "...                                 ...       ...         ...       ...   \n",
       "2021-05-31 23:00:00           -0.230483  1.656331    0.780904 -1.501293   \n",
       "2021-05-31 23:00:00           -0.230483  1.656331    0.780904 -1.501293   \n",
       "2021-05-31 23:00:00           -0.230483  1.656331    0.780904 -1.501293   \n",
       "2021-05-31 23:00:00           -0.230483  1.656331    0.780904 -1.501293   \n",
       "2021-05-31 23:00:00           -0.230483  1.656331    0.780904 -1.501293   \n",
       "\n",
       "                       month  hour_sin  hour_cos  weekday_sin  weekday_cos  \\\n",
       "datetime                                                                     \n",
       "2021-05-31 23:00:00  0.88969 -0.366077  1.361562     0.005253     1.416714   \n",
       "2021-05-31 23:00:00  0.88969 -0.366077  1.361562     0.005253     1.416714   \n",
       "2021-05-31 23:00:00  0.88969 -0.366077  1.361562     0.005253     1.416714   \n",
       "2021-05-31 23:00:00  0.88969 -0.366077  1.361562     0.005253     1.416714   \n",
       "2021-05-31 23:00:00  0.88969 -0.366077  1.361562     0.005253     1.416714   \n",
       "...                      ...       ...       ...          ...          ...   \n",
       "2021-05-31 23:00:00  0.88969 -0.366077  1.361562     0.005253     1.416714   \n",
       "2021-05-31 23:00:00  0.88969 -0.366077  1.361562     0.005253     1.416714   \n",
       "2021-05-31 23:00:00  0.88969 -0.366077  1.361562     0.005253     1.416714   \n",
       "2021-05-31 23:00:00  0.88969 -0.366077  1.361562     0.005253     1.416714   \n",
       "2021-05-31 23:00:00  0.88969 -0.366077  1.361562     0.005253     1.416714   \n",
       "\n",
       "                     month_sin  ...  weather_main_Clouds  \\\n",
       "datetime                        ...                        \n",
       "2021-05-31 23:00:00    0.85595  ...                  1.0   \n",
       "2021-05-31 23:00:00    0.85595  ...                  1.0   \n",
       "2021-05-31 23:00:00    0.85595  ...                  1.0   \n",
       "2021-05-31 23:00:00    0.85595  ...                  1.0   \n",
       "2021-05-31 23:00:00    0.85595  ...                  1.0   \n",
       "...                        ...  ...                  ...   \n",
       "2021-05-31 23:00:00    0.85595  ...                  1.0   \n",
       "2021-05-31 23:00:00    0.85595  ...                  1.0   \n",
       "2021-05-31 23:00:00    0.85595  ...                  1.0   \n",
       "2021-05-31 23:00:00    0.85595  ...                  1.0   \n",
       "2021-05-31 23:00:00    0.85595  ...                  1.0   \n",
       "\n",
       "                     weather_main_Drizzle  weather_main_Fog  \\\n",
       "datetime                                                      \n",
       "2021-05-31 23:00:00                   0.0               0.0   \n",
       "2021-05-31 23:00:00                   0.0               0.0   \n",
       "2021-05-31 23:00:00                   0.0               0.0   \n",
       "2021-05-31 23:00:00                   0.0               0.0   \n",
       "2021-05-31 23:00:00                   0.0               0.0   \n",
       "...                                   ...               ...   \n",
       "2021-05-31 23:00:00                   0.0               0.0   \n",
       "2021-05-31 23:00:00                   0.0               0.0   \n",
       "2021-05-31 23:00:00                   0.0               0.0   \n",
       "2021-05-31 23:00:00                   0.0               0.0   \n",
       "2021-05-31 23:00:00                   0.0               0.0   \n",
       "\n",
       "                     weather_main_Haze  weather_main_Mist  weather_main_Rain  \\\n",
       "datetime                                                                       \n",
       "2021-05-31 23:00:00                0.0                0.0                0.0   \n",
       "2021-05-31 23:00:00                0.0                0.0                0.0   \n",
       "2021-05-31 23:00:00                0.0                0.0                0.0   \n",
       "2021-05-31 23:00:00                0.0                0.0                0.0   \n",
       "2021-05-31 23:00:00                0.0                0.0                0.0   \n",
       "...                                ...                ...                ...   \n",
       "2021-05-31 23:00:00                0.0                0.0                0.0   \n",
       "2021-05-31 23:00:00                0.0                0.0                0.0   \n",
       "2021-05-31 23:00:00                0.0                0.0                0.0   \n",
       "2021-05-31 23:00:00                0.0                0.0                0.0   \n",
       "2021-05-31 23:00:00                0.0                0.0                0.0   \n",
       "\n",
       "                     weather_main_Snow  weather_main_Thunderstorm  year_2021  \\\n",
       "datetime                                                                       \n",
       "2021-05-31 23:00:00                0.0                        0.0        1.0   \n",
       "2021-05-31 23:00:00                0.0                        0.0        1.0   \n",
       "2021-05-31 23:00:00                0.0                        0.0        1.0   \n",
       "2021-05-31 23:00:00                0.0                        0.0        1.0   \n",
       "2021-05-31 23:00:00                0.0                        0.0        1.0   \n",
       "...                                ...                        ...        ...   \n",
       "2021-05-31 23:00:00                0.0                        0.0        1.0   \n",
       "2021-05-31 23:00:00                0.0                        0.0        1.0   \n",
       "2021-05-31 23:00:00                0.0                        0.0        1.0   \n",
       "2021-05-31 23:00:00                0.0                        0.0        1.0   \n",
       "2021-05-31 23:00:00                0.0                        0.0        1.0   \n",
       "\n",
       "                     dock_bikes  \n",
       "datetime                         \n",
       "2021-05-31 23:00:00         3.0  \n",
       "2021-05-31 23:00:00        14.0  \n",
       "2021-05-31 23:00:00         1.0  \n",
       "2021-05-31 23:00:00         2.0  \n",
       "2021-05-31 23:00:00        10.0  \n",
       "...                         ...  \n",
       "2021-05-31 23:00:00        11.0  \n",
       "2021-05-31 23:00:00         1.0  \n",
       "2021-05-31 23:00:00         1.0  \n",
       "2021-05-31 23:00:00         1.0  \n",
       "2021-05-31 23:00:00        18.0  \n",
       "\n",
       "[264 rows x 288 columns]"
      ]
     },
     "execution_count": 40,
     "metadata": {},
     "output_type": "execute_result"
    }
   ],
   "source": [
    "some_list = ['2021-05-31 23:00:00']\n",
    "temp_model[temp_model.index.isin(some_list)]"
   ]
  },
  {
   "cell_type": "markdown",
   "id": "ecdf179b",
   "metadata": {
    "id": "ecdf179b"
   },
   "source": [
    "### Creating Sequences"
   ]
  },
  {
   "cell_type": "code",
   "execution_count": 41,
   "id": "dced95ba",
   "metadata": {
    "id": "dced95ba"
   },
   "outputs": [],
   "source": [
    "def create_dataset(X, y, time_steps=1):\n",
    "    Xs, ys = [], []\n",
    "    for i in range(len(X) - time_steps):\n",
    "        v = X.iloc[i:(i + time_steps)].values\n",
    "        Xs.append(v)        \n",
    "        ys.append(y.iloc[i + time_steps])\n",
    "    return np.array(Xs), np.array(ys)"
   ]
  },
  {
   "cell_type": "code",
   "execution_count": 42,
   "id": "d01e659e",
   "metadata": {
    "colab": {
     "base_uri": "https://localhost:8080/"
    },
    "id": "d01e659e",
    "outputId": "35f34da3-b19b-47d5-d08f-ec6761e8ff8d"
   },
   "outputs": [
    {
     "name": "stdout",
     "output_type": "stream",
     "text": [
      "4292171 1073043\n"
     ]
    }
   ],
   "source": [
    "train_size = int(len(temp_model) * 0.8)\n",
    "test_size = len(temp_model) - train_size\n",
    "train, test = temp_model.iloc[0:train_size], temp_model.iloc[train_size:len(temp_model)]\n",
    "print(len(train), len(test))"
   ]
  },
  {
   "cell_type": "code",
   "execution_count": 43,
   "id": "53ab8b55-0ecb-49e8-a9b5-d095d862fcbd",
   "metadata": {},
   "outputs": [
    {
     "data": {
      "text/plain": [
       "(4292171, 288)"
      ]
     },
     "execution_count": 43,
     "metadata": {},
     "output_type": "execute_result"
    }
   ],
   "source": [
    "train.shape"
   ]
  },
  {
   "cell_type": "code",
   "execution_count": 45,
   "id": "9ee7a2b4",
   "metadata": {
    "colab": {
     "base_uri": "https://localhost:8080/"
    },
    "id": "9ee7a2b4",
    "outputId": "cde2d934-433d-4fc3-abb9-d1d0adcbfc0e"
   },
   "outputs": [],
   "source": [
    "# time_steps = 266\n",
    "\n",
    "# # reshape to [samples, time_steps, n_features]\n",
    "\n",
    "# X_train1, y_train1 = create_dataset(train.iloc[:1000000,:], train.iloc[:1000000,:].dock_bikes, time_steps)\n",
    "# X_test, y_test = create_dataset(test.iloc[:1000000,:], test.iloc[:1000000,:].dock_bikes, time_steps)\n",
    "\n",
    "# #X_train2, y_train2= create_dataset(train.iloc[2000000:(len(temp_model)+1),:], train.iloc[3000000:(len(temp_model)+1),:].dock_bikes, time_steps)\n",
    "\n",
    "\n",
    "# print(X_train.shape, y_train.shape)"
   ]
  },
  {
   "cell_type": "code",
   "execution_count": 46,
   "id": "24305233-818e-42c9-991f-b2243e80996d",
   "metadata": {},
   "outputs": [],
   "source": [
    "# X_train = np.concatenate((X_train1,X_train2))"
   ]
  },
  {
   "cell_type": "code",
   "execution_count": 47,
   "id": "7035b6a8-b830-43b6-83a9-208019e3af51",
   "metadata": {},
   "outputs": [],
   "source": [
    "# X = temp_model.drop(columns='dock_bikes')\n",
    "# y= temp_model.dock_bikes\n",
    "# X_train, X_test, y_train, y_test = train_test_split(X, y, test_size=0.20)"
   ]
  },
  {
   "cell_type": "markdown",
   "id": "ae5a5548-372e-4848-a94f-a6c8ba812677",
   "metadata": {},
   "source": [
    "# TRYING another approach using FOLDS"
   ]
  },
  {
   "cell_type": "code",
   "execution_count": 43,
   "id": "e5c2042c-f7ca-49e9-9365-2adf7b3d224e",
   "metadata": {},
   "outputs": [],
   "source": [
    "# Let's consider FOLDS with a length of 3 years       #\n",
    "# (2 years will be used for train, 1 for test!)       #\n",
    "# --------------------------------------------------- #\n",
    "\n",
    "FOLD_LENGTH = 24*365 * 3 # every hour = 24h\n",
    "                        # three years\n",
    "\n",
    "# --------------------------------------------------- #\n",
    "# Let's consider FOLDS starting every year       #\n",
    "# --------------------------------------------------- #\n",
    "    \n",
    "FOLD_STRIDE = 24*365 # every year\n",
    "\n",
    "# --------------------------------------------------- #\n",
    "# Let's consider a train-test-split ratio of 2/3      #\n",
    "# --------------------------------------------------- #\n",
    "\n",
    "TRAIN_TEST_RATIO = 0.66"
   ]
  },
  {
   "cell_type": "code",
   "execution_count": 44,
   "id": "6eafd273-62b1-4dcf-b0c4-859f09234cfe",
   "metadata": {},
   "outputs": [],
   "source": [
    "def get_folds(\n",
    "    df: pd.DataFrame, \n",
    "    fold_length: int,\n",
    "    fold_stride: int) -> List[pd.DataFrame]:\n",
    "    '''\n",
    "    This function slides through the Time Series dataframe of shape (n_timesteps, n_features) to create folds\n",
    "    - of equal `fold_length`\n",
    "    - using `fold_stride` between each fold\n",
    "    \n",
    "    Returns a list of folds, each as a DataFrame\n",
    "    '''\n",
    "    # $CHALLENGIFY_BEGIN\n",
    "    folds = []\n",
    "    for idx in range(0, len(df), fold_stride):\n",
    "        # Exits the loop as soon as the last fold index would exceed the last index\n",
    "        if (idx + fold_length) > len(df):\n",
    "            break\n",
    "        fold = df.iloc[idx:idx + fold_length, :]\n",
    "        folds.append(fold)\n",
    "    return folds"
   ]
  },
  {
   "cell_type": "code",
   "execution_count": 45,
   "id": "51ad97b8-89c8-43da-8887-b218a15dcb04",
   "metadata": {},
   "outputs": [],
   "source": [
    "folds = get_folds(temp_model, FOLD_LENGTH, FOLD_STRIDE)"
   ]
  },
  {
   "cell_type": "code",
   "execution_count": 46,
   "id": "48b5d0d2-d51c-4f4b-8d79-1cb983ed0dbe",
   "metadata": {},
   "outputs": [
    {
     "name": "stdout",
     "output_type": "stream",
     "text": [
      "The function generated 610 folds.\n",
      "Each fold has a shape equal to (26280, 288).\n"
     ]
    }
   ],
   "source": [
    "print(f'The function generated {len(folds)} folds.')\n",
    "print(f'Each fold has a shape equal to {folds[0].shape}.')"
   ]
  },
  {
   "cell_type": "code",
   "execution_count": 47,
   "id": "080a07cc-fdb5-41fc-8eaf-3d857943828a",
   "metadata": {},
   "outputs": [],
   "source": [
    "# starting by one\n",
    "fold = folds[0]"
   ]
  },
  {
   "cell_type": "markdown",
   "id": "3226bf7f-5f6d-4c4c-a730-dae77e5f6cce",
   "metadata": {},
   "source": [
    " -> Now, we want to split this fold **chronologically** into:\n",
    "\n",
    "- a <font color=blue>train</font> dataframe\n",
    "- a <font color=\"#ff8005\">test</font> dataframe\n",
    "\n",
    "that will contain all the data we need to be able to sample many `(X_i, y_i)` pairs in each dataframe in a next step! "
   ]
  },
  {
   "cell_type": "code",
   "execution_count": 48,
   "id": "ab1ee591-1548-4db7-9879-f993141f40b6",
   "metadata": {},
   "outputs": [],
   "source": [
    "INPUT_LENGTH = 24 * 31 # records every hour\n",
    "                      # 1 month"
   ]
  },
  {
   "cell_type": "code",
   "execution_count": 49,
   "id": "82571cdb-d1ca-4da3-ac59-175ec5409a6c",
   "metadata": {},
   "outputs": [],
   "source": [
    "def train_test_split(fold:pd.DataFrame,\n",
    "                     train_test_ratio: float,\n",
    "                     input_length: int) -> Tuple[pd.DataFrame]:\n",
    "    '''\n",
    "    Returns a train dataframe and a test dataframe (fold_train, fold_test)\n",
    "    from which we can sample (X,y) sequences.\n",
    "    df_train should contain all the timesteps until round(train_test_ratio * len(fold))   \n",
    "    '''\n",
    "    \n",
    "    # TRAIN SET\n",
    "    # ======================\n",
    "    last_train_idx = round(train_test_ratio * len(fold))\n",
    "    fold_train = fold.iloc[0:last_train_idx, :]\n",
    "\n",
    "    # TEST SET\n",
    "    # ======================    \n",
    "    first_test_idx = last_train_idx - input_length\n",
    "    fold_test = fold.iloc[first_test_idx:, :]\n",
    "\n",
    "    return (fold_train, fold_test)"
   ]
  },
  {
   "cell_type": "code",
   "execution_count": 50,
   "id": "3074d6ec-4a2a-45e9-bdcf-8ac5095e4e87",
   "metadata": {},
   "outputs": [],
   "source": [
    "(fold_train, fold_test) = train_test_split(fold, TRAIN_TEST_RATIO, INPUT_LENGTH)"
   ]
  },
  {
   "cell_type": "markdown",
   "id": "8a5b9391-34c7-439c-b530-e9bad8db3e0b",
   "metadata": {},
   "source": [
    "#### Generating Sequences:"
   ]
  },
  {
   "cell_type": "code",
   "execution_count": 51,
   "id": "09485095-cffa-464c-b6c0-49669d54da7f",
   "metadata": {},
   "outputs": [],
   "source": [
    "#Let's only predict 1 value ahead of us\n",
    "OUTPUT_LENGTH = 1\n",
    "# Let's define the global variables of our dataset\n",
    "TARGET = 'dock_bikes'\n",
    "N_TARGETS = 1\n",
    "N_FEATURES = 288\n",
    "SEQUENCE_STRIDE = 1"
   ]
  },
  {
   "cell_type": "code",
   "execution_count": 52,
   "id": "74cefcbf-ad95-47c7-aedc-f512153ad4b6",
   "metadata": {},
   "outputs": [],
   "source": [
    "def get_X_y_strides(fold: pd.DataFrame, input_length: int, output_length: int, sequence_stride: int):\n",
    "    '''\n",
    "    - slides through a `fold` Time Series (2D array) to create sequences of equal\n",
    "        * `input_length` for X,\n",
    "        * `output_length` for y,\n",
    "    using a temporal gap `sequence_stride` between each sequence\n",
    "    - returns a list of sequences, each as a 2D-array time series\n",
    "    '''\n",
    "\n",
    "    X, y = [], []\n",
    "\n",
    "    for i in range(0, len(fold), sequence_stride):\n",
    "        # Exits the loop as soon as the last fold index would exceed the last index\n",
    "        if (i + input_length + output_length) > len(fold):\n",
    "            break\n",
    "        X_i = fold.iloc[i:i + input_length, :]\n",
    "        y_i = fold.iloc[i + input_length:i + input_length + output_length, :][[TARGET]]\n",
    "        X.append(X_i)\n",
    "        y.append(y_i)\n",
    "\n",
    "    return np.array(X), np.array(y)"
   ]
  },
  {
   "cell_type": "code",
   "execution_count": 53,
   "id": "549ce449-448f-4c25-bc64-56592756430e",
   "metadata": {},
   "outputs": [
    {
     "name": "stdout",
     "output_type": "stream",
     "text": [
      "(16601, 744, 288)\n",
      "(16601, 1, 1)\n"
     ]
    }
   ],
   "source": [
    "X_train, y_train = get_X_y_strides(fold_train, INPUT_LENGTH, OUTPUT_LENGTH, SEQUENCE_STRIDE)\n",
    "X_test, y_test = get_X_y_strides(fold_test, INPUT_LENGTH, OUTPUT_LENGTH, SEQUENCE_STRIDE)\n",
    "\n",
    "print(X_train.shape)\n",
    "print(y_train.shape)"
   ]
  },
  {
   "cell_type": "code",
   "execution_count": null,
   "id": "24c386f9-3053-47e8-a2d4-913519960dae",
   "metadata": {},
   "outputs": [],
   "source": []
  },
  {
   "cell_type": "code",
   "execution_count": null,
   "id": "c6f6c582-e759-4363-b650-98df793cddba",
   "metadata": {},
   "outputs": [],
   "source": []
  },
  {
   "cell_type": "markdown",
   "id": "93842973",
   "metadata": {
    "id": "93842973"
   },
   "source": [
    "Model 1: "
   ]
  },
  {
   "cell_type": "code",
   "execution_count": null,
   "id": "GV_pA5p4Nln6",
   "metadata": {
    "colab": {
     "base_uri": "https://localhost:8080/"
    },
    "id": "GV_pA5p4Nln6",
    "outputId": "73c3f799-99eb-4fe3-c3c3-9a4c2847699b"
   },
   "outputs": [],
   "source": [
    "mlflow.set_tracking_uri(\"https://mlflow.lewagon.ai\")\n",
    "mlflow.set_experiment(experiment_name=\"BiciMad\")"
   ]
  },
  {
   "cell_type": "code",
   "execution_count": 54,
   "id": "c751a859",
   "metadata": {
    "id": "c751a859"
   },
   "outputs": [
    {
     "name": "stderr",
     "output_type": "stream",
     "text": [
      "2022-09-04 21:14:37.352849: I tensorflow/core/common_runtime/process_util.cc:146] Creating new thread pool with default inter op setting: 2. Tune using inter_op_parallelism_threads for best performance.\n"
     ]
    }
   ],
   "source": [
    "model = Sequential()\n",
    "model.add(\n",
    "    layers.Bidirectional(\n",
    "    layers.LSTM(\n",
    "      units=50,\n",
    "      input_shape=(X_train.shape[1], X_train.shape[2]),\n",
    "    ), \n",
    "  )\n",
    ")\n",
    "model.add(layers.Dropout(rate=0.2))\n",
    "model.add(layers.Dense(units=1))\n",
    "\n",
    "model.compile(loss='mean_squared_error', optimizer='adam')"
   ]
  },
  {
   "cell_type": "code",
   "execution_count": 55,
   "id": "beea5e27",
   "metadata": {
    "id": "beea5e27"
   },
   "outputs": [],
   "source": [
    "from tensorflow.keras.callbacks import EarlyStopping\n",
    "early_stop = EarlyStopping(monitor=\"val_loss\", verbose=1, patience = 5)"
   ]
  },
  {
   "cell_type": "code",
   "execution_count": null,
   "id": "e5282279",
   "metadata": {
    "colab": {
     "base_uri": "https://localhost:8080/"
    },
    "id": "e5282279",
    "outputId": "f5b32916-7cc7-4c39-d8ba-7c6866b33e27"
   },
   "outputs": [
    {
     "name": "stdout",
     "output_type": "stream",
     "text": [
      "Epoch 1/30\n",
      "260/260 [==============================] - ETA: 0s - loss: 42.1034"
     ]
    }
   ],
   "source": [
    "batch_size = 64\n",
    "epochs = 30\n",
    "\n",
    "history = model.fit(\n",
    "    X_train, y_train, \n",
    "    epochs=epochs, \n",
    "    batch_size=batch_size, \n",
    "    validation_data=(X_test, y_test),\n",
    "    shuffle=False,\n",
    "    callbacks = [early_stop]\n",
    ")"
   ]
  },
  {
   "cell_type": "code",
   "execution_count": null,
   "id": "t1FHnUlBOOA9",
   "metadata": {
    "colab": {
     "base_uri": "https://localhost:8080/"
    },
    "id": "t1FHnUlBOOA9",
    "outputId": "2e96f802-51b7-429b-e191-faf85dc7a4cf"
   },
   "outputs": [
    {
     "data": {
      "text/plain": [
       "6.711449146270752"
      ]
     },
     "execution_count": 118,
     "metadata": {},
     "output_type": "execute_result"
    }
   ],
   "source": [
    "min(history.history['loss'])"
   ]
  },
  {
   "cell_type": "code",
   "execution_count": null,
   "id": "6chiDNi0NhJD",
   "metadata": {
    "colab": {
     "base_uri": "https://localhost:8080/"
    },
    "id": "6chiDNi0NhJD",
    "outputId": "7434736f-aae2-4aa3-81a6-431b048475d7"
   },
   "outputs": [
    {
     "name": "stderr",
     "output_type": "stream",
     "text": [
      "WARNING:absl:Found untraced functions such as lstm_cell_1_layer_call_fn, lstm_cell_1_layer_call_and_return_conditional_losses, lstm_cell_2_layer_call_fn, lstm_cell_2_layer_call_and_return_conditional_losses while saving (showing 4 of 4). These functions will not be directly callable after loading.\n",
      "WARNING:absl:<keras.layers.recurrent.LSTMCell object at 0x7fb2c9d1be90> has the same name 'LSTMCell' as a built-in Keras object. Consider renaming <class 'keras.layers.recurrent.LSTMCell'> to avoid naming conflicts when loading with `tf.keras.models.load_model`. If renaming is not possible, pass the object in the `custom_objects` parameter of the load function.\n",
      "WARNING:absl:<keras.layers.recurrent.LSTMCell object at 0x7fb2c9a698d0> has the same name 'LSTMCell' as a built-in Keras object. Consider renaming <class 'keras.layers.recurrent.LSTMCell'> to avoid naming conflicts when loading with `tf.keras.models.load_model`. If renaming is not possible, pass the object in the `custom_objects` parameter of the load function.\n",
      "2022/08/31 17:49:20 WARNING mlflow.utils.requirements_utils: Found tensorflow version (2.8.2+zzzcolab20220719082949) contains a local version label (+zzzcolab20220719082949). MLflow logged a pip requirement for this package as 'tensorflow==2.8.2' without the local version label to make it installable from PyPI. To specify pip requirements containing local version labels, please use `conda_env` or `pip_requirements`.\n",
      "2022/08/31 17:49:32 WARNING mlflow.utils.requirements_utils: Found tensorflow version (2.8.2+zzzcolab20220719082949) contains a local version label (+zzzcolab20220719082949). MLflow logged a pip requirement for this package as 'tensorflow==2.8.2' without the local version label to make it installable from PyPI. To specify pip requirements containing local version labels, please use `conda_env` or `pip_requirements`.\n",
      "2022/08/31 17:49:32 WARNING mlflow.utils.requirements_utils: Found jaxlib version (0.3.14+cuda11.cudnn805) contains a local version label (+cuda11.cudnn805). MLflow logged a pip requirement for this package as 'jaxlib==0.3.14' without the local version label to make it installable from PyPI. To specify pip requirements containing local version labels, please use `conda_env` or `pip_requirements`.\n",
      "Successfully registered model 'bicimad_model1_ALLDATA_Bidirectional_LSTM100_Drop_Dense'.\n",
      "2022/08/31 17:49:38 INFO mlflow.tracking._model_registry.client: Waiting up to 300 seconds for model version to finish creation.                     Model name: bicimad_model1_ALLDATA_Bidirectional_LSTM100_Drop_Dense, version 1\n",
      "Created version '1' of model 'bicimad_model1_ALLDATA_Bidirectional_LSTM100_Drop_Dense'.\n"
     ]
    }
   ],
   "source": [
    "with mlflow.start_run():\n",
    "\n",
    "    params = dict(batch_size=batch_size, epochs=epochs)\n",
    "    metrics = dict(loss=min(history.history['loss']))\n",
    "\n",
    "    mlflow.log_params(params)\n",
    "    mlflow.log_metrics(metrics)\n",
    "\n",
    "    mlflow.keras.log_model(keras_model=model,\n",
    "                           artifact_path=\"model\",\n",
    "                           keras_module=\"tensorflow.keras\",\n",
    "                           registered_model_name=\"bicimad_model1_ALLDATA_Bidirectional_LSTM100_Drop_Dense\")"
   ]
  },
  {
   "cell_type": "code",
   "execution_count": null,
   "id": "-jkTrnyI8-Sx",
   "metadata": {
    "colab": {
     "base_uri": "https://localhost:8080/",
     "height": 265
    },
    "id": "-jkTrnyI8-Sx",
    "outputId": "21e4b577-454f-4f7b-9be5-7ff7cce02d81"
   },
   "outputs": [
    {
     "data": {
      "image/png": "[encoded data removed]",
      "text/plain": [
       "<Figure size 432x288 with 1 Axes>"
      ]
     },
     "metadata": {
      "needs_background": "light"
     },
     "output_type": "display_data"
    }
   ],
   "source": [
    "plt.plot(history.history['loss'], label='train')\n",
    "plt.plot(history.history['val_loss'], label='test')\n",
    "plt.legend();"
   ]
  },
  {
   "cell_type": "markdown",
   "id": "f3e1138a",
   "metadata": {
    "id": "f3e1138a"
   },
   "source": [
    "Model 2:"
   ]
  },
  {
   "cell_type": "code",
   "execution_count": null,
   "id": "58904d88",
   "metadata": {
    "id": "58904d88"
   },
   "outputs": [],
   "source": [
    "model = Sequential()\n",
    "\n",
    "model.add(layers.Bidirectional(layers.LSTM(units=128,return_sequences=True,input_shape=(X_train.shape[1], X_train.shape[2]))))\n",
    "\n",
    "model.add(layers.LSTM(units= 128, return_sequences=True))\n",
    "model.add(layers.Dropout(0.2))\n",
    "model.add(layers.LSTM(units= 128))\n",
    "model.add(layers.Dropout(0.2))\n",
    "model.add(layers.Dense(units = 1))\n",
    "\n",
    "model.compile(optimizer=\"adam\", loss=\"mean_squared_error\", metrics=[\"acc\"])\n"
   ]
  },
  {
   "cell_type": "code",
   "execution_count": null,
   "id": "5351a083",
   "metadata": {
    "id": "5351a083"
   },
   "outputs": [],
   "source": [
    "from tensorflow.keras.callbacks import EarlyStopping\n",
    "early_stop = EarlyStopping(monitor=\"val_loss\", mode=\"min\", verbose=1, patience = 15)"
   ]
  },
  {
   "cell_type": "code",
   "execution_count": null,
   "id": "7cf45ad6",
   "metadata": {
    "colab": {
     "base_uri": "https://localhost:8080/"
    },
    "id": "7cf45ad6",
    "outputId": "afe578da-55bd-4377-9bba-6f313a3cd131"
   },
   "outputs": [
    {
     "name": "stdout",
     "output_type": "stream",
     "text": [
      "Epoch 1/124\n",
      "1380/1380 [==============================] - 25s 13ms/step - loss: 9.8158 - acc: 0.1343 - val_loss: 3.3573 - val_acc: 0.1999\n",
      "Epoch 2/124\n",
      "1380/1380 [==============================] - 17s 13ms/step - loss: 6.8637 - acc: 0.1494 - val_loss: 3.4469 - val_acc: 0.1983\n",
      "Epoch 3/124\n",
      "1380/1380 [==============================] - 17s 13ms/step - loss: 6.4835 - acc: 0.1572 - val_loss: 3.3548 - val_acc: 0.2149\n",
      "Epoch 4/124\n",
      "1380/1380 [==============================] - 18s 13ms/step - loss: 6.3618 - acc: 0.1593 - val_loss: 3.1000 - val_acc: 0.2162\n",
      "Epoch 5/124\n",
      "1380/1380 [==============================] - 17s 13ms/step - loss: 6.1413 - acc: 0.1608 - val_loss: 3.1320 - val_acc: 0.2185\n",
      "Epoch 6/124\n",
      "1380/1380 [==============================] - 17s 12ms/step - loss: 6.0802 - acc: 0.1617 - val_loss: 2.9661 - val_acc: 0.2112\n",
      "Epoch 7/124\n",
      "1380/1380 [==============================] - 17s 13ms/step - loss: 5.9275 - acc: 0.1598 - val_loss: 2.8891 - val_acc: 0.2159\n",
      "Epoch 8/124\n",
      "1380/1380 [==============================] - 17s 12ms/step - loss: 5.8336 - acc: 0.1626 - val_loss: 2.8685 - val_acc: 0.2227\n",
      "Epoch 9/124\n",
      "1380/1380 [==============================] - 17s 13ms/step - loss: 5.7237 - acc: 0.1633 - val_loss: 2.8264 - val_acc: 0.2235\n",
      "Epoch 10/124\n",
      "1380/1380 [==============================] - 17s 13ms/step - loss: 5.5993 - acc: 0.1630 - val_loss: 2.9423 - val_acc: 0.2289\n",
      "Epoch 11/124\n",
      "1380/1380 [==============================] - 17s 13ms/step - loss: 5.4941 - acc: 0.1635 - val_loss: 2.9814 - val_acc: 0.2231\n",
      "Epoch 12/124\n",
      "1380/1380 [==============================] - 17s 13ms/step - loss: 5.3716 - acc: 0.1656 - val_loss: 3.0226 - val_acc: 0.2276\n",
      "Epoch 13/124\n",
      "1380/1380 [==============================] - 17s 13ms/step - loss: 5.2693 - acc: 0.1646 - val_loss: 3.1476 - val_acc: 0.2338\n",
      "Epoch 14/124\n",
      "1380/1380 [==============================] - 17s 13ms/step - loss: 5.1224 - acc: 0.1642 - val_loss: 3.3721 - val_acc: 0.2256\n",
      "Epoch 15/124\n",
      "1380/1380 [==============================] - 18s 13ms/step - loss: 4.9903 - acc: 0.1661 - val_loss: 3.3090 - val_acc: 0.2295\n",
      "Epoch 16/124\n",
      "1380/1380 [==============================] - 17s 13ms/step - loss: 4.8196 - acc: 0.1651 - val_loss: 3.4860 - val_acc: 0.2365\n",
      "Epoch 17/124\n",
      "1380/1380 [==============================] - 17s 13ms/step - loss: 4.6992 - acc: 0.1658 - val_loss: 3.4558 - val_acc: 0.2313\n",
      "Epoch 18/124\n",
      "1380/1380 [==============================] - 17s 13ms/step - loss: 4.5663 - acc: 0.1647 - val_loss: 3.7875 - val_acc: 0.2277\n",
      "Epoch 19/124\n",
      "1380/1380 [==============================] - 17s 12ms/step - loss: 4.4730 - acc: 0.1649 - val_loss: 3.8144 - val_acc: 0.2335\n",
      "Epoch 20/124\n",
      "1380/1380 [==============================] - 17s 13ms/step - loss: 4.3554 - acc: 0.1661 - val_loss: 3.9024 - val_acc: 0.2318\n",
      "Epoch 21/124\n",
      "1380/1380 [==============================] - 17s 13ms/step - loss: 4.1939 - acc: 0.1653 - val_loss: 3.7622 - val_acc: 0.2299\n",
      "Epoch 22/124\n",
      "1380/1380 [==============================] - 18s 13ms/step - loss: 4.0774 - acc: 0.1654 - val_loss: 3.7243 - val_acc: 0.2308\n",
      "Epoch 23/124\n",
      "1380/1380 [==============================] - 17s 13ms/step - loss: 3.9810 - acc: 0.1647 - val_loss: 3.7538 - val_acc: 0.2341\n",
      "Epoch 24/124\n",
      "1380/1380 [==============================] - 17s 13ms/step - loss: 3.8402 - acc: 0.1673 - val_loss: 3.8680 - val_acc: 0.2340\n",
      "Epoch 24: early stopping\n"
     ]
    }
   ],
   "source": [
    "batch_size = 124\n",
    "epochs = 30\n",
    "\n",
    "history = model.fit(\n",
    "    X_train, y_train, \n",
    "    epochs=batch_size, \n",
    "    batch_size=epochs, \n",
    "    validation_data=(X_test, y_test),\n",
    "    shuffle=False,\n",
    "    callbacks = [early_stop]\n",
    ")"
   ]
  },
  {
   "cell_type": "code",
   "execution_count": null,
   "id": "SG7sCXrpP8B-",
   "metadata": {
    "colab": {
     "base_uri": "https://localhost:8080/"
    },
    "id": "SG7sCXrpP8B-",
    "outputId": "376ed59e-53f5-4c81-b4bb-7686d41c66cb"
   },
   "outputs": [
    {
     "name": "stderr",
     "output_type": "stream",
     "text": [
      "WARNING:absl:Found untraced functions such as lstm_cell_6_layer_call_fn, lstm_cell_6_layer_call_and_return_conditional_losses, lstm_cell_7_layer_call_fn, lstm_cell_7_layer_call_and_return_conditional_losses, lstm_cell_4_layer_call_fn while saving (showing 5 of 8). These functions will not be directly callable after loading.\n",
      "WARNING:absl:<keras.layers.recurrent.LSTMCell object at 0x7fb227da6cd0> has the same name 'LSTMCell' as a built-in Keras object. Consider renaming <class 'keras.layers.recurrent.LSTMCell'> to avoid naming conflicts when loading with `tf.keras.models.load_model`. If renaming is not possible, pass the object in the `custom_objects` parameter of the load function.\n",
      "WARNING:absl:<keras.layers.recurrent.LSTMCell object at 0x7fb227daba90> has the same name 'LSTMCell' as a built-in Keras object. Consider renaming <class 'keras.layers.recurrent.LSTMCell'> to avoid naming conflicts when loading with `tf.keras.models.load_model`. If renaming is not possible, pass the object in the `custom_objects` parameter of the load function.\n",
      "WARNING:absl:<keras.layers.recurrent.LSTMCell object at 0x7fb227da4d90> has the same name 'LSTMCell' as a built-in Keras object. Consider renaming <class 'keras.layers.recurrent.LSTMCell'> to avoid naming conflicts when loading with `tf.keras.models.load_model`. If renaming is not possible, pass the object in the `custom_objects` parameter of the load function.\n",
      "WARNING:absl:<keras.layers.recurrent.LSTMCell object at 0x7fb227e5f110> has the same name 'LSTMCell' as a built-in Keras object. Consider renaming <class 'keras.layers.recurrent.LSTMCell'> to avoid naming conflicts when loading with `tf.keras.models.load_model`. If renaming is not possible, pass the object in the `custom_objects` parameter of the load function.\n",
      "2022/08/31 17:59:06 WARNING mlflow.utils.requirements_utils: Found tensorflow version (2.8.2+zzzcolab20220719082949) contains a local version label (+zzzcolab20220719082949). MLflow logged a pip requirement for this package as 'tensorflow==2.8.2' without the local version label to make it installable from PyPI. To specify pip requirements containing local version labels, please use `conda_env` or `pip_requirements`.\n",
      "2022/08/31 17:59:20 WARNING mlflow.utils.requirements_utils: Found tensorflow version (2.8.2+zzzcolab20220719082949) contains a local version label (+zzzcolab20220719082949). MLflow logged a pip requirement for this package as 'tensorflow==2.8.2' without the local version label to make it installable from PyPI. To specify pip requirements containing local version labels, please use `conda_env` or `pip_requirements`.\n",
      "2022/08/31 17:59:20 WARNING mlflow.utils.requirements_utils: Found jaxlib version (0.3.14+cuda11.cudnn805) contains a local version label (+cuda11.cudnn805). MLflow logged a pip requirement for this package as 'jaxlib==0.3.14' without the local version label to make it installable from PyPI. To specify pip requirements containing local version labels, please use `conda_env` or `pip_requirements`.\n",
      "Successfully registered model 'bicimad_model2_ALLDATA_Bidirectional_LSTM128_LSTM128_Drop_LSTM128_Drop_Dense'.\n",
      "2022/08/31 17:59:26 INFO mlflow.tracking._model_registry.client: Waiting up to 300 seconds for model version to finish creation.                     Model name: bicimad_model2_ALLDATA_Bidirectional_LSTM128_LSTM128_Drop_LSTM128_Drop_Dense, version 1\n",
      "Created version '1' of model 'bicimad_model2_ALLDATA_Bidirectional_LSTM128_LSTM128_Drop_LSTM128_Drop_Dense'.\n"
     ]
    }
   ],
   "source": [
    "from keras.metrics import accuracy\n",
    "with mlflow.start_run():\n",
    "\n",
    "    params = dict(batch_size=batch_size, epochs=epochs)\n",
    "    metrics = dict(loss=min(history.history['loss']), accuracy=max(history.history['acc']))\n",
    "\n",
    "    mlflow.log_params(params)\n",
    "    mlflow.log_metrics(metrics)\n",
    "\n",
    "    mlflow.keras.log_model(keras_model=model,\n",
    "                           artifact_path=\"model\",\n",
    "                           keras_module=\"tensorflow.keras\",\n",
    "                           registered_model_name=\"bicimad_model2_ALLDATA_Bidirectional_LSTM128_LSTM128_Drop_LSTM128_Drop_Dense\")"
   ]
  },
  {
   "cell_type": "code",
   "execution_count": null,
   "id": "DGngF4sUBuNM",
   "metadata": {
    "id": "DGngF4sUBuNM"
   },
   "outputs": [],
   "source": [
    "## MODEL 3"
   ]
  },
  {
   "cell_type": "code",
   "execution_count": null,
   "id": "C1_FYGRMBuQS",
   "metadata": {
    "id": "C1_FYGRMBuQS"
   },
   "outputs": [],
   "source": [
    "# importing libraries\n",
    "from keras.models import Sequential\n",
    "from keras.layers import Dense\n",
    "from keras.layers import SimpleRNN\n",
    "from keras.layers import Dropout\n",
    "\n",
    "# initializing the RNN\n",
    "regressor = Sequential()\n",
    "\n",
    "# adding first RNN layer and dropout regulatization\n",
    "regressor.add(SimpleRNN(units = 50, activation = \"tanh\", return_sequences = True, input_shape = (X_train.shape[1], X_train.shape[2])))\n",
    "regressor.add(Dropout(0.2))\n",
    "\n",
    "# adding second RNN layer and dropout regulatization\n",
    "regressor.add(SimpleRNN(units = 50, activation = \"tanh\",return_sequences = True))\n",
    "regressor.add(Dropout(0.2))\n",
    "\n",
    "# adding third RNN layer and dropout regulatization\n",
    "regressor.add(SimpleRNN(units = 50,activation = \"tanh\", return_sequences = True))\n",
    "regressor.add(Dropout(0.2))\n",
    "\n",
    "# adding fourth RNN layer and dropout regulatization\n",
    "regressor.add(SimpleRNN(units = 50))\n",
    "regressor.add(Dropout(0.2))\n",
    "\n",
    "# adding the output layer\n",
    "regressor.add(Dense(units = 1))\n",
    "\n",
    "# compiling RNN\n",
    "regressor.compile(optimizer = \"adam\", loss = \"mean_squared_error\",metrics = [\"accuracy\"]) #rmspr\n"
   ]
  },
  {
   "cell_type": "code",
   "execution_count": null,
   "id": "n0Ri1PMiB5R7",
   "metadata": {
    "id": "n0Ri1PMiB5R7"
   },
   "outputs": [],
   "source": [
    "from tensorflow.keras.callbacks import EarlyStopping\n",
    "early_stop = EarlyStopping(monitor=\"val_loss\", mode=\"min\", verbose=1, patience = 15)"
   ]
  },
  {
   "cell_type": "code",
   "execution_count": null,
   "id": "Wa7lYbCzB5V7",
   "metadata": {
    "colab": {
     "base_uri": "https://localhost:8080/",
     "height": 1000
    },
    "id": "Wa7lYbCzB5V7",
    "outputId": "2be94f17-ba07-42b1-8638-c3627d310f47"
   },
   "outputs": [
    {
     "name": "stdout",
     "output_type": "stream",
     "text": [
      "Epoch 1/30\n",
      "334/334 [==============================] - 33s 91ms/step - loss: 30.7136 - accuracy: 0.1181 - val_loss: 3.8490 - val_accuracy: 0.1844\n",
      "Epoch 2/30\n",
      "334/334 [==============================] - 30s 91ms/step - loss: 12.8714 - accuracy: 0.1262 - val_loss: 4.8852 - val_accuracy: 0.1838\n",
      "Epoch 3/30\n",
      "334/334 [==============================] - 31s 94ms/step - loss: 10.7582 - accuracy: 0.1218 - val_loss: 4.3635 - val_accuracy: 0.1830\n",
      "Epoch 4/30\n",
      "334/334 [==============================] - 29s 88ms/step - loss: 10.0002 - accuracy: 0.1223 - val_loss: 6.4167 - val_accuracy: 0.1814\n",
      "Epoch 5/30\n",
      "334/334 [==============================] - 30s 89ms/step - loss: 9.6522 - accuracy: 0.1227 - val_loss: 4.9744 - val_accuracy: 0.1813\n",
      "Epoch 6/30\n",
      "334/334 [==============================] - 30s 89ms/step - loss: 9.4622 - accuracy: 0.1245 - val_loss: 3.3950 - val_accuracy: 0.1761\n",
      "Epoch 7/30\n",
      "334/334 [==============================] - 32s 96ms/step - loss: 9.3466 - accuracy: 0.1213 - val_loss: 3.4262 - val_accuracy: 0.1811\n",
      "Epoch 8/30\n",
      "334/334 [==============================] - 30s 89ms/step - loss: 9.3162 - accuracy: 0.1202 - val_loss: 4.3792 - val_accuracy: 0.2037\n",
      "Epoch 9/30\n",
      "334/334 [==============================] - 29s 88ms/step - loss: 9.1885 - accuracy: 0.1224 - val_loss: 4.4661 - val_accuracy: 0.2093\n",
      "Epoch 10/30\n",
      "334/334 [==============================] - 30s 90ms/step - loss: 9.0945 - accuracy: 0.1175 - val_loss: 3.6585 - val_accuracy: 0.2096\n",
      "Epoch 11/30\n",
      "334/334 [==============================] - 30s 90ms/step - loss: 8.9486 - accuracy: 0.1203 - val_loss: 3.4371 - val_accuracy: 0.2072\n",
      "Epoch 12/30\n",
      "334/334 [==============================] - 30s 90ms/step - loss: 8.8564 - accuracy: 0.1199 - val_loss: 3.9958 - val_accuracy: 0.2013\n",
      "Epoch 13/30\n",
      "334/334 [==============================] - 30s 89ms/step - loss: 8.7825 - accuracy: 0.1214 - val_loss: 3.3976 - val_accuracy: 0.1852\n",
      "Epoch 14/30\n",
      "334/334 [==============================] - 29s 88ms/step - loss: 8.7275 - accuracy: 0.1211 - val_loss: 3.4956 - val_accuracy: 0.1813\n",
      "Epoch 15/30\n",
      "334/334 [==============================] - 29s 87ms/step - loss: 8.7775 - accuracy: 0.1199 - val_loss: 3.9697 - val_accuracy: 0.1896\n",
      "Epoch 16/30\n",
      "334/334 [==============================] - 30s 89ms/step - loss: 8.7414 - accuracy: 0.1211 - val_loss: 4.1418 - val_accuracy: 0.1846\n",
      "Epoch 17/30\n",
      "334/334 [==============================] - 29s 88ms/step - loss: 8.5875 - accuracy: 0.1206 - val_loss: 4.1803 - val_accuracy: 0.1815\n",
      "Epoch 18/30\n",
      "334/334 [==============================] - 29s 87ms/step - loss: 8.5924 - accuracy: 0.1206 - val_loss: 5.2994 - val_accuracy: 0.1690\n",
      "Epoch 19/30\n",
      " 62/334 [====>.........................] - ETA: 23s - loss: 12.0355 - accuracy: 0.0916"
     ]
    },
    {
     "ename": "KeyboardInterrupt",
     "evalue": "ignored",
     "output_type": "error",
     "traceback": [
      "\u001b[0;31m---------------------------------------------------------------------------\u001b[0m",
      "\u001b[0;31mKeyboardInterrupt\u001b[0m                         Traceback (most recent call last)",
      "\u001b[0;32m<ipython-input-44-88dde3ba8afd>\u001b[0m in \u001b[0;36m<module>\u001b[0;34m\u001b[0m\n\u001b[1;32m      1\u001b[0m \u001b[0mbatch_size\u001b[0m\u001b[0;34m=\u001b[0m \u001b[0;36m124\u001b[0m\u001b[0;34m\u001b[0m\u001b[0;34m\u001b[0m\u001b[0m\n\u001b[1;32m      2\u001b[0m \u001b[0mepochs\u001b[0m\u001b[0;34m=\u001b[0m\u001b[0;36m30\u001b[0m\u001b[0;34m\u001b[0m\u001b[0;34m\u001b[0m\u001b[0m\n\u001b[0;32m----> 3\u001b[0;31m \u001b[0mhistory\u001b[0m \u001b[0;34m=\u001b[0m \u001b[0mregressor\u001b[0m\u001b[0;34m.\u001b[0m\u001b[0mfit\u001b[0m\u001b[0;34m(\u001b[0m\u001b[0mX_train\u001b[0m\u001b[0;34m,\u001b[0m \u001b[0my_train\u001b[0m\u001b[0;34m,\u001b[0m \u001b[0mepochs\u001b[0m\u001b[0;34m=\u001b[0m\u001b[0mepochs\u001b[0m\u001b[0;34m,\u001b[0m \u001b[0mbatch_size\u001b[0m\u001b[0;34m=\u001b[0m\u001b[0mbatch_size\u001b[0m\u001b[0;34m,\u001b[0m \u001b[0mvalidation_data\u001b[0m\u001b[0;34m=\u001b[0m\u001b[0;34m(\u001b[0m\u001b[0mX_test\u001b[0m\u001b[0;34m,\u001b[0m \u001b[0my_test\u001b[0m\u001b[0;34m)\u001b[0m\u001b[0;34m,\u001b[0m \u001b[0mshuffle\u001b[0m\u001b[0;34m=\u001b[0m\u001b[0;32mFalse\u001b[0m\u001b[0;34m,\u001b[0m \u001b[0mcallbacks\u001b[0m \u001b[0;34m=\u001b[0m \u001b[0;34m[\u001b[0m\u001b[0mearly_stop\u001b[0m\u001b[0;34m]\u001b[0m\u001b[0;34m)\u001b[0m\u001b[0;34m\u001b[0m\u001b[0;34m\u001b[0m\u001b[0m\n\u001b[0m",
      "\u001b[0;32m/usr/local/lib/python3.7/dist-packages/keras/utils/traceback_utils.py\u001b[0m in \u001b[0;36merror_handler\u001b[0;34m(*args, **kwargs)\u001b[0m\n\u001b[1;32m     62\u001b[0m     \u001b[0mfiltered_tb\u001b[0m \u001b[0;34m=\u001b[0m \u001b[0;32mNone\u001b[0m\u001b[0;34m\u001b[0m\u001b[0;34m\u001b[0m\u001b[0m\n\u001b[1;32m     63\u001b[0m     \u001b[0;32mtry\u001b[0m\u001b[0;34m:\u001b[0m\u001b[0;34m\u001b[0m\u001b[0;34m\u001b[0m\u001b[0m\n\u001b[0;32m---> 64\u001b[0;31m       \u001b[0;32mreturn\u001b[0m \u001b[0mfn\u001b[0m\u001b[0;34m(\u001b[0m\u001b[0;34m*\u001b[0m\u001b[0margs\u001b[0m\u001b[0;34m,\u001b[0m \u001b[0;34m**\u001b[0m\u001b[0mkwargs\u001b[0m\u001b[0;34m)\u001b[0m\u001b[0;34m\u001b[0m\u001b[0;34m\u001b[0m\u001b[0m\n\u001b[0m\u001b[1;32m     65\u001b[0m     \u001b[0;32mexcept\u001b[0m \u001b[0mException\u001b[0m \u001b[0;32mas\u001b[0m \u001b[0me\u001b[0m\u001b[0;34m:\u001b[0m  \u001b[0;31m# pylint: disable=broad-except\u001b[0m\u001b[0;34m\u001b[0m\u001b[0;34m\u001b[0m\u001b[0m\n\u001b[1;32m     66\u001b[0m       \u001b[0mfiltered_tb\u001b[0m \u001b[0;34m=\u001b[0m \u001b[0m_process_traceback_frames\u001b[0m\u001b[0;34m(\u001b[0m\u001b[0me\u001b[0m\u001b[0;34m.\u001b[0m\u001b[0m__traceback__\u001b[0m\u001b[0;34m)\u001b[0m\u001b[0;34m\u001b[0m\u001b[0;34m\u001b[0m\u001b[0m\n",
      "\u001b[0;32m/usr/local/lib/python3.7/dist-packages/keras/engine/training.py\u001b[0m in \u001b[0;36mfit\u001b[0;34m(self, x, y, batch_size, epochs, verbose, callbacks, validation_split, validation_data, shuffle, class_weight, sample_weight, initial_epoch, steps_per_epoch, validation_steps, validation_batch_size, validation_freq, max_queue_size, workers, use_multiprocessing)\u001b[0m\n\u001b[1;32m   1382\u001b[0m                 _r=1):\n\u001b[1;32m   1383\u001b[0m               \u001b[0mcallbacks\u001b[0m\u001b[0;34m.\u001b[0m\u001b[0mon_train_batch_begin\u001b[0m\u001b[0;34m(\u001b[0m\u001b[0mstep\u001b[0m\u001b[0;34m)\u001b[0m\u001b[0;34m\u001b[0m\u001b[0;34m\u001b[0m\u001b[0m\n\u001b[0;32m-> 1384\u001b[0;31m               \u001b[0mtmp_logs\u001b[0m \u001b[0;34m=\u001b[0m \u001b[0mself\u001b[0m\u001b[0;34m.\u001b[0m\u001b[0mtrain_function\u001b[0m\u001b[0;34m(\u001b[0m\u001b[0miterator\u001b[0m\u001b[0;34m)\u001b[0m\u001b[0;34m\u001b[0m\u001b[0;34m\u001b[0m\u001b[0m\n\u001b[0m\u001b[1;32m   1385\u001b[0m               \u001b[0;32mif\u001b[0m \u001b[0mdata_handler\u001b[0m\u001b[0;34m.\u001b[0m\u001b[0mshould_sync\u001b[0m\u001b[0;34m:\u001b[0m\u001b[0;34m\u001b[0m\u001b[0;34m\u001b[0m\u001b[0m\n\u001b[1;32m   1386\u001b[0m                 \u001b[0mcontext\u001b[0m\u001b[0;34m.\u001b[0m\u001b[0masync_wait\u001b[0m\u001b[0;34m(\u001b[0m\u001b[0;34m)\u001b[0m\u001b[0;34m\u001b[0m\u001b[0;34m\u001b[0m\u001b[0m\n",
      "\u001b[0;32m/usr/local/lib/python3.7/dist-packages/tensorflow/python/util/traceback_utils.py\u001b[0m in \u001b[0;36merror_handler\u001b[0;34m(*args, **kwargs)\u001b[0m\n\u001b[1;32m    148\u001b[0m     \u001b[0mfiltered_tb\u001b[0m \u001b[0;34m=\u001b[0m \u001b[0;32mNone\u001b[0m\u001b[0;34m\u001b[0m\u001b[0;34m\u001b[0m\u001b[0m\n\u001b[1;32m    149\u001b[0m     \u001b[0;32mtry\u001b[0m\u001b[0;34m:\u001b[0m\u001b[0;34m\u001b[0m\u001b[0;34m\u001b[0m\u001b[0m\n\u001b[0;32m--> 150\u001b[0;31m       \u001b[0;32mreturn\u001b[0m \u001b[0mfn\u001b[0m\u001b[0;34m(\u001b[0m\u001b[0;34m*\u001b[0m\u001b[0margs\u001b[0m\u001b[0;34m,\u001b[0m \u001b[0;34m**\u001b[0m\u001b[0mkwargs\u001b[0m\u001b[0;34m)\u001b[0m\u001b[0;34m\u001b[0m\u001b[0;34m\u001b[0m\u001b[0m\n\u001b[0m\u001b[1;32m    151\u001b[0m     \u001b[0;32mexcept\u001b[0m \u001b[0mException\u001b[0m \u001b[0;32mas\u001b[0m \u001b[0me\u001b[0m\u001b[0;34m:\u001b[0m\u001b[0;34m\u001b[0m\u001b[0;34m\u001b[0m\u001b[0m\n\u001b[1;32m    152\u001b[0m       \u001b[0mfiltered_tb\u001b[0m \u001b[0;34m=\u001b[0m \u001b[0m_process_traceback_frames\u001b[0m\u001b[0;34m(\u001b[0m\u001b[0me\u001b[0m\u001b[0;34m.\u001b[0m\u001b[0m__traceback__\u001b[0m\u001b[0;34m)\u001b[0m\u001b[0;34m\u001b[0m\u001b[0;34m\u001b[0m\u001b[0m\n",
      "\u001b[0;32m/usr/local/lib/python3.7/dist-packages/tensorflow/python/eager/def_function.py\u001b[0m in \u001b[0;36m__call__\u001b[0;34m(self, *args, **kwds)\u001b[0m\n\u001b[1;32m    913\u001b[0m \u001b[0;34m\u001b[0m\u001b[0m\n\u001b[1;32m    914\u001b[0m       \u001b[0;32mwith\u001b[0m \u001b[0mOptionalXlaContext\u001b[0m\u001b[0;34m(\u001b[0m\u001b[0mself\u001b[0m\u001b[0;34m.\u001b[0m\u001b[0m_jit_compile\u001b[0m\u001b[0;34m)\u001b[0m\u001b[0;34m:\u001b[0m\u001b[0;34m\u001b[0m\u001b[0;34m\u001b[0m\u001b[0m\n\u001b[0;32m--> 915\u001b[0;31m         \u001b[0mresult\u001b[0m \u001b[0;34m=\u001b[0m \u001b[0mself\u001b[0m\u001b[0;34m.\u001b[0m\u001b[0m_call\u001b[0m\u001b[0;34m(\u001b[0m\u001b[0;34m*\u001b[0m\u001b[0margs\u001b[0m\u001b[0;34m,\u001b[0m \u001b[0;34m**\u001b[0m\u001b[0mkwds\u001b[0m\u001b[0;34m)\u001b[0m\u001b[0;34m\u001b[0m\u001b[0;34m\u001b[0m\u001b[0m\n\u001b[0m\u001b[1;32m    916\u001b[0m \u001b[0;34m\u001b[0m\u001b[0m\n\u001b[1;32m    917\u001b[0m       \u001b[0mnew_tracing_count\u001b[0m \u001b[0;34m=\u001b[0m \u001b[0mself\u001b[0m\u001b[0;34m.\u001b[0m\u001b[0mexperimental_get_tracing_count\u001b[0m\u001b[0;34m(\u001b[0m\u001b[0;34m)\u001b[0m\u001b[0;34m\u001b[0m\u001b[0;34m\u001b[0m\u001b[0m\n",
      "\u001b[0;32m/usr/local/lib/python3.7/dist-packages/tensorflow/python/eager/def_function.py\u001b[0m in \u001b[0;36m_call\u001b[0;34m(self, *args, **kwds)\u001b[0m\n\u001b[1;32m    945\u001b[0m       \u001b[0;31m# In this case we have created variables on the first call, so we run the\u001b[0m\u001b[0;34m\u001b[0m\u001b[0;34m\u001b[0m\u001b[0;34m\u001b[0m\u001b[0m\n\u001b[1;32m    946\u001b[0m       \u001b[0;31m# defunned version which is guaranteed to never create variables.\u001b[0m\u001b[0;34m\u001b[0m\u001b[0;34m\u001b[0m\u001b[0;34m\u001b[0m\u001b[0m\n\u001b[0;32m--> 947\u001b[0;31m       \u001b[0;32mreturn\u001b[0m \u001b[0mself\u001b[0m\u001b[0;34m.\u001b[0m\u001b[0m_stateless_fn\u001b[0m\u001b[0;34m(\u001b[0m\u001b[0;34m*\u001b[0m\u001b[0margs\u001b[0m\u001b[0;34m,\u001b[0m \u001b[0;34m**\u001b[0m\u001b[0mkwds\u001b[0m\u001b[0;34m)\u001b[0m  \u001b[0;31m# pylint: disable=not-callable\u001b[0m\u001b[0;34m\u001b[0m\u001b[0;34m\u001b[0m\u001b[0m\n\u001b[0m\u001b[1;32m    948\u001b[0m     \u001b[0;32melif\u001b[0m \u001b[0mself\u001b[0m\u001b[0;34m.\u001b[0m\u001b[0m_stateful_fn\u001b[0m \u001b[0;32mis\u001b[0m \u001b[0;32mnot\u001b[0m \u001b[0;32mNone\u001b[0m\u001b[0;34m:\u001b[0m\u001b[0;34m\u001b[0m\u001b[0;34m\u001b[0m\u001b[0m\n\u001b[1;32m    949\u001b[0m       \u001b[0;31m# Release the lock early so that multiple threads can perform the call\u001b[0m\u001b[0;34m\u001b[0m\u001b[0;34m\u001b[0m\u001b[0;34m\u001b[0m\u001b[0m\n",
      "\u001b[0;32m/usr/local/lib/python3.7/dist-packages/tensorflow/python/eager/function.py\u001b[0m in \u001b[0;36m__call__\u001b[0;34m(self, *args, **kwargs)\u001b[0m\n\u001b[1;32m   2955\u001b[0m        filtered_flat_args) = self._maybe_define_function(args, kwargs)\n\u001b[1;32m   2956\u001b[0m     return graph_function._call_flat(\n\u001b[0;32m-> 2957\u001b[0;31m         filtered_flat_args, captured_inputs=graph_function.captured_inputs)  # pylint: disable=protected-access\n\u001b[0m\u001b[1;32m   2958\u001b[0m \u001b[0;34m\u001b[0m\u001b[0m\n\u001b[1;32m   2959\u001b[0m   \u001b[0;34m@\u001b[0m\u001b[0mproperty\u001b[0m\u001b[0;34m\u001b[0m\u001b[0;34m\u001b[0m\u001b[0m\n",
      "\u001b[0;32m/usr/local/lib/python3.7/dist-packages/tensorflow/python/eager/function.py\u001b[0m in \u001b[0;36m_call_flat\u001b[0;34m(self, args, captured_inputs, cancellation_manager)\u001b[0m\n\u001b[1;32m   1852\u001b[0m       \u001b[0;31m# No tape is watching; skip to running the function.\u001b[0m\u001b[0;34m\u001b[0m\u001b[0;34m\u001b[0m\u001b[0;34m\u001b[0m\u001b[0m\n\u001b[1;32m   1853\u001b[0m       return self._build_call_outputs(self._inference_function.call(\n\u001b[0;32m-> 1854\u001b[0;31m           ctx, args, cancellation_manager=cancellation_manager))\n\u001b[0m\u001b[1;32m   1855\u001b[0m     forward_backward = self._select_forward_and_backward_functions(\n\u001b[1;32m   1856\u001b[0m         \u001b[0margs\u001b[0m\u001b[0;34m,\u001b[0m\u001b[0;34m\u001b[0m\u001b[0;34m\u001b[0m\u001b[0m\n",
      "\u001b[0;32m/usr/local/lib/python3.7/dist-packages/tensorflow/python/eager/function.py\u001b[0m in \u001b[0;36mcall\u001b[0;34m(self, ctx, args, cancellation_manager)\u001b[0m\n\u001b[1;32m    502\u001b[0m               \u001b[0minputs\u001b[0m\u001b[0;34m=\u001b[0m\u001b[0margs\u001b[0m\u001b[0;34m,\u001b[0m\u001b[0;34m\u001b[0m\u001b[0;34m\u001b[0m\u001b[0m\n\u001b[1;32m    503\u001b[0m               \u001b[0mattrs\u001b[0m\u001b[0;34m=\u001b[0m\u001b[0mattrs\u001b[0m\u001b[0;34m,\u001b[0m\u001b[0;34m\u001b[0m\u001b[0;34m\u001b[0m\u001b[0m\n\u001b[0;32m--> 504\u001b[0;31m               ctx=ctx)\n\u001b[0m\u001b[1;32m    505\u001b[0m         \u001b[0;32melse\u001b[0m\u001b[0;34m:\u001b[0m\u001b[0;34m\u001b[0m\u001b[0;34m\u001b[0m\u001b[0m\n\u001b[1;32m    506\u001b[0m           outputs = execute.execute_with_cancellation(\n",
      "\u001b[0;32m/usr/local/lib/python3.7/dist-packages/tensorflow/python/eager/execute.py\u001b[0m in \u001b[0;36mquick_execute\u001b[0;34m(op_name, num_outputs, inputs, attrs, ctx, name)\u001b[0m\n\u001b[1;32m     53\u001b[0m     \u001b[0mctx\u001b[0m\u001b[0;34m.\u001b[0m\u001b[0mensure_initialized\u001b[0m\u001b[0;34m(\u001b[0m\u001b[0;34m)\u001b[0m\u001b[0;34m\u001b[0m\u001b[0;34m\u001b[0m\u001b[0m\n\u001b[1;32m     54\u001b[0m     tensors = pywrap_tfe.TFE_Py_Execute(ctx._handle, device_name, op_name,\n\u001b[0;32m---> 55\u001b[0;31m                                         inputs, attrs, num_outputs)\n\u001b[0m\u001b[1;32m     56\u001b[0m   \u001b[0;32mexcept\u001b[0m \u001b[0mcore\u001b[0m\u001b[0;34m.\u001b[0m\u001b[0m_NotOkStatusException\u001b[0m \u001b[0;32mas\u001b[0m \u001b[0me\u001b[0m\u001b[0;34m:\u001b[0m\u001b[0;34m\u001b[0m\u001b[0;34m\u001b[0m\u001b[0m\n\u001b[1;32m     57\u001b[0m     \u001b[0;32mif\u001b[0m \u001b[0mname\u001b[0m \u001b[0;32mis\u001b[0m \u001b[0;32mnot\u001b[0m \u001b[0;32mNone\u001b[0m\u001b[0;34m:\u001b[0m\u001b[0;34m\u001b[0m\u001b[0;34m\u001b[0m\u001b[0m\n",
      "\u001b[0;31mKeyboardInterrupt\u001b[0m: "
     ]
    }
   ],
   "source": [
    "batch_size= 124\n",
    "epochs=30\n",
    "history = regressor.fit(X_train, y_train, epochs=epochs, batch_size=batch_size, validation_data=(X_test, y_test), shuffle=False, callbacks = [early_stop])"
   ]
  },
  {
   "cell_type": "code",
   "execution_count": null,
   "id": "hS8K5DvVaJBM",
   "metadata": {
    "colab": {
     "base_uri": "https://localhost:8080/"
    },
    "id": "hS8K5DvVaJBM",
    "outputId": "c9be6da1-c440-4739-db6a-ffd8306f55d3"
   },
   "outputs": [
    {
     "name": "stderr",
     "output_type": "stream",
     "text": [
      "2022/08/31 15:06:30 WARNING mlflow.utils.requirements_utils: Found tensorflow version (2.8.2+zzzcolab20220719082949) contains a local version label (+zzzcolab20220719082949). MLflow logged a pip requirement for this package as 'tensorflow==2.8.2' without the local version label to make it installable from PyPI. To specify pip requirements containing local version labels, please use `conda_env` or `pip_requirements`.\n",
      "2022/08/31 15:06:36 WARNING mlflow.utils.requirements_utils: Found tensorflow version (2.8.2+zzzcolab20220719082949) contains a local version label (+zzzcolab20220719082949). MLflow logged a pip requirement for this package as 'tensorflow==2.8.2' without the local version label to make it installable from PyPI. To specify pip requirements containing local version labels, please use `conda_env` or `pip_requirements`.\n",
      "2022/08/31 15:06:36 WARNING mlflow.utils.requirements_utils: Found jaxlib version (0.3.14+cuda11.cudnn805) contains a local version label (+cuda11.cudnn805). MLflow logged a pip requirement for this package as 'jaxlib==0.3.14' without the local version label to make it installable from PyPI. To specify pip requirements containing local version labels, please use `conda_env` or `pip_requirements`.\n",
      "Successfully registered model 'bicimad_model3_Thierry_SimpleRNN50_Drop_SimpleRNN50_Drop_SimpleRNN50_Drop_tanh.all_SimpleRNN50_Drop_Dense'.\n",
      "2022/08/31 15:06:40 INFO mlflow.tracking._model_registry.client: Waiting up to 300 seconds for model version to finish creation.                     Model name: bicimad_model3_Thierry_SimpleRNN50_Drop_SimpleRNN50_Drop_SimpleRNN50_Drop_tanh.all_SimpleRNN50_Drop_Dense, version 1\n",
      "Created version '1' of model 'bicimad_model3_Thierry_SimpleRNN50_Drop_SimpleRNN50_Drop_SimpleRNN50_Drop_tanh.all_SimpleRNN50_Drop_Dense'.\n"
     ]
    }
   ],
   "source": [
    "with mlflow.start_run():\n",
    "\n",
    "    params = dict(batch_size=batch_size, epochs=epochs)\n",
    "    metrics = dict(loss=min(history.history['loss']), accuracy=max(history.history['accuracy']))\n",
    "\n",
    "    mlflow.log_params(params)\n",
    "    mlflow.log_metrics(metrics)\n",
    "\n",
    "    mlflow.keras.log_model(keras_model=regressor,\n",
    "                           artifact_path=\"model\",\n",
    "                           keras_module=\"tensorflow.keras\",\n",
    "                           registered_model_name=\"bicimad_model3_Thierry_SimpleRNN50_Drop_SimpleRNN50_Drop_SimpleRNN50_Drop_tanh.all_SimpleRNN50_Drop_Dense\")"
   ]
  },
  {
   "cell_type": "code",
   "execution_count": null,
   "id": "XNaTkIIJB5iB",
   "metadata": {
    "id": "XNaTkIIJB5iB"
   },
   "outputs": [],
   "source": [
    "### MODEL 4"
   ]
  },
  {
   "cell_type": "code",
   "execution_count": null,
   "id": "uz-0qwcDBuTP",
   "metadata": {
    "id": "uz-0qwcDBuTP"
   },
   "outputs": [],
   "source": [
    "from tensorflow.keras.layers.experimental.preprocessing import Normalization\n",
    "from tensorflow.keras.optimizers import RMSprop\n",
    "\n",
    "\n",
    "def create_model(X_train, y_train):\n",
    "    \n",
    "    \n",
    "    print(X_train.shape)\n",
    "    print(y_train.shape)\n",
    "    \n",
    "    #tf.random.set_seed(30)\n",
    "    normalizer = Normalization() # Instantiate a \"normalizer\" layer\n",
    "    normalizer.adapt(X_train) # \"Fit\" it on the train set\n",
    "    model = Sequential()\n",
    "    model.add(normalizer)\n",
    "    model.add(layers.LSTM(25, return_sequences=False, input_shape=(X_train.shape[1],X_train.shape[2])))\n",
    "\n",
    "    model.add(layers.Dropout(0.2))\n",
    "    model.add(layers.Dense(15, activation='relu'))\n",
    "    model.add(layers.Dropout(0.2))\n",
    "    model.add(layers.Dense(y_train.shape[-1], activation='linear'))\n",
    "    model.compile(loss='mse',optimizer=RMSprop(learning_rate=0.01), metrics=['mae', 'mape'])\n",
    "    print(model.summary())\n",
    "    print(X_train.shape)\n",
    "\n",
    "    return model\n"
   ]
  },
  {
   "cell_type": "code",
   "execution_count": null,
   "id": "9QxRJJdQCd6w",
   "metadata": {
    "colab": {
     "base_uri": "https://localhost:8080/"
    },
    "id": "9QxRJJdQCd6w",
    "outputId": "d9466a16-46c8-419b-fc82-d4dc5a8f725d"
   },
   "outputs": [
    {
     "name": "stdout",
     "output_type": "stream",
     "text": [
      "(41397, 24, 52)\n",
      "(41397,)\n",
      "Model: \"sequential_3\"\n",
      "_________________________________________________________________\n",
      " Layer (type)                Output Shape              Param #   \n",
      "=================================================================\n",
      " normalization (Normalizatio  (None, None, 52)         105       \n",
      " n)                                                              \n",
      "                                                                 \n",
      " lstm_4 (LSTM)               (None, 25)                7800      \n",
      "                                                                 \n",
      " dropout_7 (Dropout)         (None, 25)                0         \n",
      "                                                                 \n",
      " dense_3 (Dense)             (None, 15)                390       \n",
      "                                                                 \n",
      " dropout_8 (Dropout)         (None, 15)                0         \n",
      "                                                                 \n",
      " dense_4 (Dense)             (None, 41397)             662352    \n",
      "                                                                 \n",
      "=================================================================\n",
      "Total params: 670,647\n",
      "Trainable params: 670,542\n",
      "Non-trainable params: 105\n",
      "_________________________________________________________________\n",
      "None\n",
      "(41397, 24, 52)\n"
     ]
    }
   ],
   "source": [
    "model = create_model(X_train, y_train)"
   ]
  },
  {
   "cell_type": "code",
   "execution_count": null,
   "id": "vr3F3g3LCd9_",
   "metadata": {
    "id": "vr3F3g3LCd9_"
   },
   "outputs": [],
   "source": [
    "from tensorflow.keras.callbacks import EarlyStopping\n",
    "early_stop = EarlyStopping(monitor=\"val_loss\", mode=\"min\", verbose=1, patience = 10)"
   ]
  },
  {
   "cell_type": "code",
   "execution_count": null,
   "id": "m1OIAgH0CeBV",
   "metadata": {
    "colab": {
     "base_uri": "https://localhost:8080/"
    },
    "id": "m1OIAgH0CeBV",
    "outputId": "392c5750-b37e-4865-d3d0-8eb579716060"
   },
   "outputs": [
    {
     "name": "stdout",
     "output_type": "stream",
     "text": [
      "Epoch 1/20\n",
      "414/414 [==============================] - 6s 10ms/step - loss: 15.3948 - mae: 2.7868 - mape: 268126048.0000 - val_loss: 3.6146 - val_mae: 1.3889 - val_mape: 189569392.0000\n",
      "Epoch 2/20\n",
      "414/414 [==============================] - 3s 8ms/step - loss: 10.5636 - mae: 2.3375 - mape: 246379840.0000 - val_loss: 3.3753 - val_mae: 1.3365 - val_mape: 186625520.0000\n",
      "Epoch 3/20\n",
      "414/414 [==============================] - 3s 8ms/step - loss: 9.7731 - mae: 2.2908 - mape: 266324480.0000 - val_loss: 3.4864 - val_mae: 1.3911 - val_mape: 212873696.0000\n",
      "Epoch 4/20\n",
      "414/414 [==============================] - 4s 10ms/step - loss: 9.6048 - mae: 2.2758 - mape: 275603008.0000 - val_loss: 3.4626 - val_mae: 1.3942 - val_mape: 222267440.0000\n",
      "Epoch 5/20\n",
      "414/414 [==============================] - 4s 9ms/step - loss: 9.3519 - mae: 2.2458 - mape: 272484960.0000 - val_loss: 3.4802 - val_mae: 1.3936 - val_mape: 221189376.0000\n",
      "Epoch 6/20\n",
      "414/414 [==============================] - 4s 9ms/step - loss: 9.2488 - mae: 2.2356 - mape: 271240864.0000 - val_loss: 3.4651 - val_mae: 1.3908 - val_mape: 227891536.0000\n",
      "Epoch 7/20\n",
      "414/414 [==============================] - 4s 9ms/step - loss: 9.1045 - mae: 2.2147 - mape: 270413024.0000 - val_loss: 3.3822 - val_mae: 1.3575 - val_mape: 221128848.0000\n",
      "Epoch 8/20\n",
      "414/414 [==============================] - 4s 9ms/step - loss: 9.1125 - mae: 2.2197 - mape: 271980160.0000 - val_loss: 3.5354 - val_mae: 1.3989 - val_mape: 213104624.0000\n",
      "Epoch 9/20\n",
      "414/414 [==============================] - 4s 9ms/step - loss: 8.9966 - mae: 2.2019 - mape: 267464384.0000 - val_loss: 3.3984 - val_mae: 1.3677 - val_mape: 212701904.0000\n",
      "Epoch 10/20\n",
      "414/414 [==============================] - 3s 8ms/step - loss: 8.9246 - mae: 2.1939 - mape: 263138656.0000 - val_loss: 3.4762 - val_mae: 1.3738 - val_mape: 213950560.0000\n",
      "Epoch 11/20\n",
      "414/414 [==============================] - 4s 9ms/step - loss: 8.7464 - mae: 2.1752 - mape: 264943920.0000 - val_loss: 3.3931 - val_mae: 1.3620 - val_mape: 217456080.0000\n",
      "Epoch 12/20\n",
      "414/414 [==============================] - 4s 9ms/step - loss: 8.7606 - mae: 2.1597 - mape: 258358976.0000 - val_loss: 3.6631 - val_mae: 1.3999 - val_mape: 208456944.0000\n",
      "Epoch 12: early stopping\n"
     ]
    }
   ],
   "source": [
    "batch_size = 100\n",
    "epochs = 20\n",
    "\n",
    "history = model.fit(\n",
    "    X_train, y_train, \n",
    "    epochs=epochs, \n",
    "    batch_size=batch_size, \n",
    "    validation_data=(X_test, y_test),\n",
    "    shuffle=False,\n",
    "    callbacks = [early_stop]\n",
    ")"
   ]
  },
  {
   "cell_type": "code",
   "execution_count": null,
   "id": "nv635BSLCw5G",
   "metadata": {
    "colab": {
     "base_uri": "https://localhost:8080/"
    },
    "id": "nv635BSLCw5G",
    "outputId": "63ff25fd-4ac0-4e49-a4f2-2afab9f8a14f"
   },
   "outputs": [
    {
     "name": "stderr",
     "output_type": "stream",
     "text": [
      "WARNING:absl:Found untraced functions such as lstm_cell_27_layer_call_fn, lstm_cell_27_layer_call_and_return_conditional_losses while saving (showing 2 of 2). These functions will not be directly callable after loading.\n",
      "WARNING:absl:<keras.layers.recurrent.LSTMCell object at 0x7f2a6919b490> has the same name 'LSTMCell' as a built-in Keras object. Consider renaming <class 'keras.layers.recurrent.LSTMCell'> to avoid naming conflicts when loading with `tf.keras.models.load_model`. If renaming is not possible, pass the object in the `custom_objects` parameter of the load function.\n",
      "2022/08/31 15:15:39 WARNING mlflow.utils.requirements_utils: Found tensorflow version (2.8.2+zzzcolab20220719082949) contains a local version label (+zzzcolab20220719082949). MLflow logged a pip requirement for this package as 'tensorflow==2.8.2' without the local version label to make it installable from PyPI. To specify pip requirements containing local version labels, please use `conda_env` or `pip_requirements`.\n",
      "2022/08/31 15:15:44 WARNING mlflow.utils.requirements_utils: Found tensorflow version (2.8.2+zzzcolab20220719082949) contains a local version label (+zzzcolab20220719082949). MLflow logged a pip requirement for this package as 'tensorflow==2.8.2' without the local version label to make it installable from PyPI. To specify pip requirements containing local version labels, please use `conda_env` or `pip_requirements`.\n",
      "2022/08/31 15:15:44 WARNING mlflow.utils.requirements_utils: Found jaxlib version (0.3.14+cuda11.cudnn805) contains a local version label (+cuda11.cudnn805). MLflow logged a pip requirement for this package as 'jaxlib==0.3.14' without the local version label to make it installable from PyPI. To specify pip requirements containing local version labels, please use `conda_env` or `pip_requirements`.\n",
      "Successfully registered model 'bicimad_model4_Thierry_LSTM25_Drop_Dense15_Drop_Dense'.\n",
      "2022/08/31 15:15:49 INFO mlflow.tracking._model_registry.client: Waiting up to 300 seconds for model version to finish creation.                     Model name: bicimad_model4_Thierry_LSTM25_Drop_Dense15_Drop_Dense, version 1\n",
      "Created version '1' of model 'bicimad_model4_Thierry_LSTM25_Drop_Dense15_Drop_Dense'.\n"
     ]
    }
   ],
   "source": [
    "with mlflow.start_run():\n",
    "\n",
    "    params = dict(batch_size=batch_size, epochs=epochs)\n",
    "    metrics = dict(loss=min(history.history['loss']), accuracy=min(history.history['mae']))\n",
    "\n",
    "    mlflow.log_params(params)\n",
    "    mlflow.log_metrics(metrics)\n",
    "\n",
    "    mlflow.keras.log_model(keras_model=model,\n",
    "                           artifact_path=\"model\",\n",
    "                           keras_module=\"tensorflow.keras\",\n",
    "                           registered_model_name=\"bicimad_model4_Thierry_LSTM25_Drop_Dense15_Drop_Dense\")"
   ]
  },
  {
   "cell_type": "markdown",
   "id": "sm6P0BHuhIuu",
   "metadata": {
    "id": "sm6P0BHuhIuu"
   },
   "source": [
    "Model 5"
   ]
  },
  {
   "cell_type": "code",
   "execution_count": null,
   "id": "dmiGd1izCw72",
   "metadata": {
    "id": "dmiGd1izCw72"
   },
   "outputs": [],
   "source": [
    "model = Sequential()\n",
    "model.add(\n",
    "    layers.Bidirectional(\n",
    "    layers.LSTM(\n",
    "      units=75,\n",
    "      input_shape=(X_train.shape[1], X_train.shape[2]),\n",
    "    ), \n",
    "  )\n",
    ")\n",
    "model.add(layers.Dropout(rate=0.2))\n",
    "model.add(layers.Dense(units=1))\n",
    "\n",
    "model.compile(loss='mean_squared_error', optimizer='adam')"
   ]
  },
  {
   "cell_type": "code",
   "execution_count": null,
   "id": "3JNY8vvNCw_o",
   "metadata": {
    "id": "3JNY8vvNCw_o"
   },
   "outputs": [],
   "source": [
    "from tensorflow.keras.callbacks import EarlyStopping\n",
    "early_stop = EarlyStopping(monitor=\"val_loss\", verbose=1, patience = 10)"
   ]
  },
  {
   "cell_type": "code",
   "execution_count": null,
   "id": "X44HrhXgiWk6",
   "metadata": {
    "colab": {
     "base_uri": "https://localhost:8080/"
    },
    "id": "X44HrhXgiWk6",
    "outputId": "c9bba9f8-fac4-472b-83ac-1a9ca13fce65"
   },
   "outputs": [
    {
     "name": "stdout",
     "output_type": "stream",
     "text": [
      "Epoch 1/35\n",
      "334/334 [==============================] - 31s 11ms/step - loss: 21.7559 - val_loss: 4.1245\n",
      "Epoch 2/35\n",
      "334/334 [==============================] - 3s 9ms/step - loss: 7.8488 - val_loss: 5.2139\n",
      "Epoch 3/35\n",
      "334/334 [==============================] - 3s 9ms/step - loss: 7.2521 - val_loss: 4.1773\n",
      "Epoch 4/35\n",
      "334/334 [==============================] - 3s 9ms/step - loss: 6.8220 - val_loss: 3.8563\n",
      "Epoch 5/35\n",
      "334/334 [==============================] - 3s 9ms/step - loss: 6.5783 - val_loss: 3.1690\n",
      "Epoch 6/35\n",
      "334/334 [==============================] - 3s 9ms/step - loss: 6.5566 - val_loss: 4.0877\n",
      "Epoch 7/35\n",
      "334/334 [==============================] - 3s 9ms/step - loss: 6.3657 - val_loss: 2.7335\n",
      "Epoch 8/35\n",
      "334/334 [==============================] - 3s 9ms/step - loss: 6.2056 - val_loss: 3.0586\n",
      "Epoch 9/35\n",
      "334/334 [==============================] - 3s 9ms/step - loss: 6.1318 - val_loss: 2.9861\n",
      "Epoch 10/35\n",
      "334/334 [==============================] - 3s 9ms/step - loss: 6.0594 - val_loss: 3.0319\n",
      "Epoch 11/35\n",
      "334/334 [==============================] - 3s 9ms/step - loss: 5.9658 - val_loss: 2.8615\n",
      "Epoch 12/35\n",
      "334/334 [==============================] - 3s 9ms/step - loss: 6.0055 - val_loss: 3.3215\n",
      "Epoch 13/35\n",
      "334/334 [==============================] - 3s 9ms/step - loss: 5.9264 - val_loss: 3.3469\n",
      "Epoch 14/35\n",
      "334/334 [==============================] - 3s 9ms/step - loss: 5.7487 - val_loss: 3.0789\n",
      "Epoch 15/35\n",
      "334/334 [==============================] - 3s 9ms/step - loss: 5.6459 - val_loss: 3.0547\n",
      "Epoch 16/35\n",
      "334/334 [==============================] - 3s 9ms/step - loss: 5.5873 - val_loss: 2.9464\n",
      "Epoch 17/35\n",
      "334/334 [==============================] - 3s 9ms/step - loss: 5.5138 - val_loss: 2.6734\n",
      "Epoch 18/35\n",
      "334/334 [==============================] - 3s 9ms/step - loss: 5.4498 - val_loss: 2.8967\n",
      "Epoch 19/35\n",
      "334/334 [==============================] - 3s 9ms/step - loss: 5.4261 - val_loss: 3.1978\n",
      "Epoch 20/35\n",
      "334/334 [==============================] - 3s 9ms/step - loss: 5.4734 - val_loss: 2.8300\n",
      "Epoch 21/35\n",
      "334/334 [==============================] - 3s 8ms/step - loss: 5.3251 - val_loss: 2.8096\n",
      "Epoch 22/35\n",
      "334/334 [==============================] - 3s 9ms/step - loss: 5.2731 - val_loss: 2.9127\n",
      "Epoch 23/35\n",
      "334/334 [==============================] - 3s 9ms/step - loss: 5.2431 - val_loss: 2.8941\n",
      "Epoch 24/35\n",
      "334/334 [==============================] - 3s 9ms/step - loss: 5.1206 - val_loss: 2.9499\n",
      "Epoch 25/35\n",
      "334/334 [==============================] - 3s 9ms/step - loss: 5.0967 - val_loss: 2.8940\n",
      "Epoch 26/35\n",
      "334/334 [==============================] - 3s 9ms/step - loss: 5.0997 - val_loss: 2.9779\n",
      "Epoch 27/35\n",
      "334/334 [==============================] - 3s 9ms/step - loss: 5.0941 - val_loss: 3.3150\n",
      "Epoch 27: early stopping\n"
     ]
    }
   ],
   "source": [
    "batch_size = 124\n",
    "epochs = 35\n",
    "\n",
    "history = model.fit(\n",
    "    X_train, y_train, \n",
    "    epochs=epochs, \n",
    "    batch_size=batch_size, \n",
    "    validation_data=(X_test, y_test),\n",
    "    shuffle=False,\n",
    "    callbacks = [early_stop]\n",
    ")"
   ]
  },
  {
   "cell_type": "code",
   "execution_count": null,
   "id": "RPyzKzkNiWoS",
   "metadata": {
    "colab": {
     "base_uri": "https://localhost:8080/"
    },
    "id": "RPyzKzkNiWoS",
    "outputId": "acf88420-cbb5-4078-d20e-8ca266e132ea"
   },
   "outputs": [
    {
     "name": "stderr",
     "output_type": "stream",
     "text": [
      "WARNING:absl:Found untraced functions such as lstm_cell_49_layer_call_fn, lstm_cell_49_layer_call_and_return_conditional_losses, lstm_cell_50_layer_call_fn, lstm_cell_50_layer_call_and_return_conditional_losses while saving (showing 4 of 4). These functions will not be directly callable after loading.\n",
      "WARNING:absl:<keras.layers.recurrent.LSTMCell object at 0x7f2a6a772fd0> has the same name 'LSTMCell' as a built-in Keras object. Consider renaming <class 'keras.layers.recurrent.LSTMCell'> to avoid naming conflicts when loading with `tf.keras.models.load_model`. If renaming is not possible, pass the object in the `custom_objects` parameter of the load function.\n",
      "WARNING:absl:<keras.layers.recurrent.LSTMCell object at 0x7f2a681db490> has the same name 'LSTMCell' as a built-in Keras object. Consider renaming <class 'keras.layers.recurrent.LSTMCell'> to avoid naming conflicts when loading with `tf.keras.models.load_model`. If renaming is not possible, pass the object in the `custom_objects` parameter of the load function.\n",
      "2022/08/31 15:53:15 WARNING mlflow.utils.requirements_utils: Found tensorflow version (2.8.2+zzzcolab20220719082949) contains a local version label (+zzzcolab20220719082949). MLflow logged a pip requirement for this package as 'tensorflow==2.8.2' without the local version label to make it installable from PyPI. To specify pip requirements containing local version labels, please use `conda_env` or `pip_requirements`.\n",
      "2022/08/31 15:53:25 WARNING mlflow.utils.requirements_utils: Found tensorflow version (2.8.2+zzzcolab20220719082949) contains a local version label (+zzzcolab20220719082949). MLflow logged a pip requirement for this package as 'tensorflow==2.8.2' without the local version label to make it installable from PyPI. To specify pip requirements containing local version labels, please use `conda_env` or `pip_requirements`.\n",
      "2022/08/31 15:53:25 WARNING mlflow.utils.requirements_utils: Found jaxlib version (0.3.14+cuda11.cudnn805) contains a local version label (+cuda11.cudnn805). MLflow logged a pip requirement for this package as 'jaxlib==0.3.14' without the local version label to make it installable from PyPI. To specify pip requirements containing local version labels, please use `conda_env` or `pip_requirements`.\n",
      "Successfully registered model 'bicimad_model5_Bidirectional_LSTM75_Drop_Dense'.\n",
      "2022/08/31 15:53:30 INFO mlflow.tracking._model_registry.client: Waiting up to 300 seconds for model version to finish creation.                     Model name: bicimad_model5_Bidirectional_LSTM75_Drop_Dense, version 1\n",
      "Created version '1' of model 'bicimad_model5_Bidirectional_LSTM75_Drop_Dense'.\n"
     ]
    }
   ],
   "source": [
    "with mlflow.start_run():\n",
    "\n",
    "    params = dict(batch_size=batch_size, epochs=epochs)\n",
    "    metrics = dict(loss=min(history.history['loss']))\n",
    "\n",
    "    mlflow.log_params(params)\n",
    "    mlflow.log_metrics(metrics)\n",
    "\n",
    "    mlflow.keras.log_model(keras_model=model,\n",
    "                           artifact_path=\"model\",\n",
    "                           keras_module=\"tensorflow.keras\",\n",
    "                           registered_model_name=\"bicimad_model5_Bidirectional_LSTM75_Drop_Dense\")"
   ]
  },
  {
   "cell_type": "code",
   "execution_count": null,
   "id": "__lugUHgmJDk",
   "metadata": {
    "id": "__lugUHgmJDk"
   },
   "outputs": [],
   "source": [
    "## MODEL 6"
   ]
  },
  {
   "cell_type": "code",
   "execution_count": null,
   "id": "kM_Fc9g-mJIF",
   "metadata": {
    "id": "kM_Fc9g-mJIF"
   },
   "outputs": [],
   "source": [
    "model = Sequential()\n",
    "model.add(\n",
    "    layers.Bidirectional(\n",
    "    layers.LSTM(\n",
    "      units=50,\n",
    "      input_shape=(X_train.shape[1], X_train.shape[2]),\n",
    "    ), \n",
    "  )\n",
    ")\n",
    "model.add(layers.Dropout(rate=0.2))\n",
    "model.add(layers.Dense(units=1))\n",
    "\n",
    "model.compile(loss='mean_squared_error', optimizer='adam')"
   ]
  },
  {
   "cell_type": "code",
   "execution_count": null,
   "id": "fFThBlLGm3Ub",
   "metadata": {
    "id": "fFThBlLGm3Ub"
   },
   "outputs": [],
   "source": [
    "from tensorflow.keras.callbacks import EarlyStopping\n",
    "early_stop = EarlyStopping(monitor=\"val_loss\", verbose=1, patience = 10)"
   ]
  },
  {
   "cell_type": "code",
   "execution_count": null,
   "id": "l6uZZefVm3XU",
   "metadata": {
    "colab": {
     "base_uri": "https://localhost:8080/"
    },
    "id": "l6uZZefVm3XU",
    "outputId": "eab56f8c-4f73-49cf-f472-4dee0acaa2e5"
   },
   "outputs": [
    {
     "name": "stdout",
     "output_type": "stream",
     "text": [
      "Epoch 1/35\n",
      "323/323 [==============================] - 9s 19ms/step - loss: 27.7078 - val_loss: 13.9503\n",
      "Epoch 2/35\n",
      "323/323 [==============================] - 8s 23ms/step - loss: 10.0961 - val_loss: 8.6504\n",
      "Epoch 3/35\n",
      "323/323 [==============================] - 6s 17ms/step - loss: 8.6099 - val_loss: 6.5694\n",
      "Epoch 4/35\n",
      "323/323 [==============================] - 5s 17ms/step - loss: 8.3423 - val_loss: 5.7810\n",
      "Epoch 5/35\n",
      "323/323 [==============================] - 6s 20ms/step - loss: 8.0289 - val_loss: 5.6022\n",
      "Epoch 6/35\n",
      "323/323 [==============================] - 6s 18ms/step - loss: 7.9329 - val_loss: 5.5850\n",
      "Epoch 7/35\n",
      "323/323 [==============================] - 5s 16ms/step - loss: 7.8637 - val_loss: 5.4663\n",
      "Epoch 8/35\n",
      "323/323 [==============================] - 5s 16ms/step - loss: 7.6484 - val_loss: 5.4769\n",
      "Epoch 9/35\n",
      "323/323 [==============================] - 5s 17ms/step - loss: 7.5537 - val_loss: 5.3467\n",
      "Epoch 10/35\n",
      "323/323 [==============================] - 5s 17ms/step - loss: 7.4938 - val_loss: 5.2963\n",
      "Epoch 11/35\n",
      "323/323 [==============================] - 5s 17ms/step - loss: 7.3744 - val_loss: 5.2829\n",
      "Epoch 12/35\n",
      "323/323 [==============================] - 5s 17ms/step - loss: 7.3169 - val_loss: 5.4512\n",
      "Epoch 13/35\n",
      "323/323 [==============================] - 5s 16ms/step - loss: 7.3079 - val_loss: 5.7810\n",
      "Epoch 14/35\n",
      "323/323 [==============================] - 5s 16ms/step - loss: 7.1425 - val_loss: 5.8932\n",
      "Epoch 15/35\n",
      "323/323 [==============================] - 5s 17ms/step - loss: 7.1334 - val_loss: 5.8270\n",
      "Epoch 16/35\n",
      "323/323 [==============================] - 5s 16ms/step - loss: 7.0540 - val_loss: 5.6357\n",
      "Epoch 17/35\n",
      "323/323 [==============================] - 5s 16ms/step - loss: 6.9269 - val_loss: 5.6211\n",
      "Epoch 18/35\n",
      "323/323 [==============================] - 5s 16ms/step - loss: 6.8847 - val_loss: 5.8517\n",
      "Epoch 19/35\n",
      "323/323 [==============================] - 5s 16ms/step - loss: 6.8227 - val_loss: 5.7655\n",
      "Epoch 20/35\n",
      "323/323 [==============================] - 5s 16ms/step - loss: 6.8181 - val_loss: 5.7003\n",
      "Epoch 21/35\n",
      "323/323 [==============================] - 5s 16ms/step - loss: 6.7525 - val_loss: 5.6152\n",
      "Epoch 21: early stopping\n"
     ]
    }
   ],
   "source": [
    "batch_size = 64\n",
    "epochs = 35\n",
    "\n",
    "history = model.fit(\n",
    "    X_train, y_train, \n",
    "    epochs=epochs, \n",
    "    batch_size=batch_size, \n",
    "    validation_data=(X_test, y_test),\n",
    "    shuffle=False,\n",
    "    callbacks = [early_stop]\n",
    ")"
   ]
  },
  {
   "cell_type": "code",
   "execution_count": null,
   "id": "sO3Ngsmlm3iW",
   "metadata": {
    "colab": {
     "base_uri": "https://localhost:8080/"
    },
    "id": "sO3Ngsmlm3iW",
    "outputId": "bddf76cf-1bca-4c17-f5cf-3f35f8cfedbd"
   },
   "outputs": [
    {
     "name": "stderr",
     "output_type": "stream",
     "text": [
      "WARNING:absl:Found untraced functions such as lstm_cell_52_layer_call_fn, lstm_cell_52_layer_call_and_return_conditional_losses, lstm_cell_53_layer_call_fn, lstm_cell_53_layer_call_and_return_conditional_losses while saving (showing 4 of 4). These functions will not be directly callable after loading.\n",
      "WARNING:absl:<keras.layers.recurrent.LSTMCell object at 0x7f2a67b68390> has the same name 'LSTMCell' as a built-in Keras object. Consider renaming <class 'keras.layers.recurrent.LSTMCell'> to avoid naming conflicts when loading with `tf.keras.models.load_model`. If renaming is not possible, pass the object in the `custom_objects` parameter of the load function.\n",
      "WARNING:absl:<keras.layers.recurrent.LSTMCell object at 0x7f2a70fcead0> has the same name 'LSTMCell' as a built-in Keras object. Consider renaming <class 'keras.layers.recurrent.LSTMCell'> to avoid naming conflicts when loading with `tf.keras.models.load_model`. If renaming is not possible, pass the object in the `custom_objects` parameter of the load function.\n",
      "2022/08/31 15:57:10 WARNING mlflow.utils.requirements_utils: Found tensorflow version (2.8.2+zzzcolab20220719082949) contains a local version label (+zzzcolab20220719082949). MLflow logged a pip requirement for this package as 'tensorflow==2.8.2' without the local version label to make it installable from PyPI. To specify pip requirements containing local version labels, please use `conda_env` or `pip_requirements`.\n",
      "2022/08/31 15:57:18 WARNING mlflow.utils.requirements_utils: Found tensorflow version (2.8.2+zzzcolab20220719082949) contains a local version label (+zzzcolab20220719082949). MLflow logged a pip requirement for this package as 'tensorflow==2.8.2' without the local version label to make it installable from PyPI. To specify pip requirements containing local version labels, please use `conda_env` or `pip_requirements`.\n",
      "2022/08/31 15:57:18 WARNING mlflow.utils.requirements_utils: Found jaxlib version (0.3.14+cuda11.cudnn805) contains a local version label (+cuda11.cudnn805). MLflow logged a pip requirement for this package as 'jaxlib==0.3.14' without the local version label to make it installable from PyPI. To specify pip requirements containing local version labels, please use `conda_env` or `pip_requirements`.\n",
      "Successfully registered model 'bicimad_model6_Bidirectional_LSTM50_Drop_Dense'.\n",
      "2022/08/31 15:57:23 INFO mlflow.tracking._model_registry.client: Waiting up to 300 seconds for model version to finish creation.                     Model name: bicimad_model6_Bidirectional_LSTM50_Drop_Dense, version 1\n",
      "Created version '1' of model 'bicimad_model6_Bidirectional_LSTM50_Drop_Dense'.\n"
     ]
    }
   ],
   "source": [
    "with mlflow.start_run():\n",
    "\n",
    "    params = dict(batch_size=batch_size, epochs=epochs)\n",
    "    metrics = dict(loss=min(history.history['loss']))\n",
    "\n",
    "    mlflow.log_params(params)\n",
    "    mlflow.log_metrics(metrics)\n",
    "\n",
    "    mlflow.keras.log_model(keras_model=model,\n",
    "                           artifact_path=\"model\",\n",
    "                           keras_module=\"tensorflow.keras\",\n",
    "                           registered_model_name=\"bicimad_model6_Bidirectional_LSTM50_Drop_Dense\")"
   ]
  },
  {
   "cell_type": "code",
   "execution_count": null,
   "id": "ZTQMV8o4nAF_",
   "metadata": {
    "id": "ZTQMV8o4nAF_"
   },
   "outputs": [],
   "source": [
    "### MODEL 7"
   ]
  },
  {
   "cell_type": "code",
   "execution_count": null,
   "id": "ERxux_6anAKC",
   "metadata": {
    "id": "ERxux_6anAKC"
   },
   "outputs": [],
   "source": [
    "model = Sequential()\n",
    "\n",
    "model.add(layers.Bidirectional(layers.LSTM(units=100,return_sequences=True,input_shape=(X_train.shape[1], X_train.shape[2]))))\n",
    "\n",
    "model.add(layers.LSTM(units= 100, return_sequences=True))\n",
    "model.add(layers.Dropout(0.2))\n",
    "model.add(layers.LSTM(units= 75))\n",
    "model.add(layers.Dropout(0.2))\n",
    "model.add(layers.Dense(units = 1))\n",
    "\n",
    "model.compile(optimizer=\"adam\", loss=\"mean_squared_error\", metrics=[\"acc\"])"
   ]
  },
  {
   "cell_type": "code",
   "execution_count": null,
   "id": "d9c0iPO4n49g",
   "metadata": {
    "id": "d9c0iPO4n49g"
   },
   "outputs": [],
   "source": [
    "from tensorflow.keras.callbacks import EarlyStopping\n",
    "early_stop = EarlyStopping(monitor=\"val_loss\", mode=\"min\", verbose=1, patience = 10)"
   ]
  },
  {
   "cell_type": "code",
   "execution_count": null,
   "id": "tUtT12Han4_8",
   "metadata": {
    "colab": {
     "base_uri": "https://localhost:8080/"
    },
    "id": "tUtT12Han4_8",
    "outputId": "f1c9e45b-58ec-4501-f138-3f40f58fdec9"
   },
   "outputs": [
    {
     "name": "stdout",
     "output_type": "stream",
     "text": [
      "Epoch 1/64\n",
      "689/689 [==============================] - 50s 64ms/step - loss: 15.6916 - acc: 0.1388 - val_loss: 8.3173 - val_acc: 0.0157\n",
      "Epoch 2/64\n",
      "689/689 [==============================] - 36s 52ms/step - loss: 8.7827 - acc: 0.1452 - val_loss: 6.1036 - val_acc: 0.0157\n",
      "Epoch 3/64\n",
      "689/689 [==============================] - 36s 52ms/step - loss: 8.2082 - acc: 0.1618 - val_loss: 5.4982 - val_acc: 0.0157\n",
      "Epoch 4/64\n",
      "689/689 [==============================] - 37s 54ms/step - loss: 8.0589 - acc: 0.1641 - val_loss: 5.4008 - val_acc: 0.0157\n",
      "Epoch 5/64\n",
      "689/689 [==============================] - 36s 52ms/step - loss: 7.9290 - acc: 0.1648 - val_loss: 5.5827 - val_acc: 0.0157\n",
      "Epoch 6/64\n",
      "689/689 [==============================] - 38s 55ms/step - loss: 7.8548 - acc: 0.1660 - val_loss: 5.5120 - val_acc: 0.0157\n",
      "Epoch 7/64\n",
      "689/689 [==============================] - 35s 51ms/step - loss: 7.7282 - acc: 0.1669 - val_loss: 5.7141 - val_acc: 0.0157\n",
      "Epoch 8/64\n",
      "689/689 [==============================] - 36s 52ms/step - loss: 7.6229 - acc: 0.1669 - val_loss: 5.6079 - val_acc: 0.0157\n",
      "Epoch 9/64\n",
      "689/689 [==============================] - 36s 53ms/step - loss: 7.5382 - acc: 0.1673 - val_loss: 6.0391 - val_acc: 0.0167\n",
      "Epoch 10/64\n",
      "689/689 [==============================] - 36s 52ms/step - loss: 7.3405 - acc: 0.1671 - val_loss: 6.0094 - val_acc: 0.0157\n",
      "Epoch 11/64\n",
      "689/689 [==============================] - 36s 52ms/step - loss: 7.2850 - acc: 0.1666 - val_loss: 5.9679 - val_acc: 0.0157\n",
      "Epoch 12/64\n",
      "689/689 [==============================] - 35s 51ms/step - loss: 7.3268 - acc: 0.1640 - val_loss: 5.8364 - val_acc: 0.0157\n",
      "Epoch 13/64\n",
      "689/689 [==============================] - 36s 53ms/step - loss: 7.1693 - acc: 0.1686 - val_loss: 6.0939 - val_acc: 0.0161\n",
      "Epoch 14/64\n",
      "689/689 [==============================] - 36s 52ms/step - loss: 7.1014 - acc: 0.1685 - val_loss: 6.3061 - val_acc: 0.0177\n",
      "Epoch 14: early stopping\n"
     ]
    }
   ],
   "source": [
    "batch_size = 64\n",
    "epochs = 30\n",
    "\n",
    "history = model.fit(\n",
    "    X_train, y_train, \n",
    "    epochs=batch_size, \n",
    "    batch_size=epochs, \n",
    "    validation_data=(X_test, y_test),\n",
    "    shuffle=False,\n",
    "    callbacks = [early_stop]\n",
    ")"
   ]
  },
  {
   "cell_type": "code",
   "execution_count": null,
   "id": "sHxT6PjQoQEa",
   "metadata": {
    "colab": {
     "base_uri": "https://localhost:8080/"
    },
    "id": "sHxT6PjQoQEa",
    "outputId": "83fb344d-3c91-48f5-aaad-166577d496d3"
   },
   "outputs": [
    {
     "name": "stderr",
     "output_type": "stream",
     "text": [
      "WARNING:absl:Found untraced functions such as lstm_cell_57_layer_call_fn, lstm_cell_57_layer_call_and_return_conditional_losses, lstm_cell_58_layer_call_fn, lstm_cell_58_layer_call_and_return_conditional_losses, lstm_cell_55_layer_call_fn while saving (showing 5 of 8). These functions will not be directly callable after loading.\n",
      "WARNING:absl:<keras.layers.recurrent.LSTMCell object at 0x7f2a6ce09410> has the same name 'LSTMCell' as a built-in Keras object. Consider renaming <class 'keras.layers.recurrent.LSTMCell'> to avoid naming conflicts when loading with `tf.keras.models.load_model`. If renaming is not possible, pass the object in the `custom_objects` parameter of the load function.\n",
      "WARNING:absl:<keras.layers.recurrent.LSTMCell object at 0x7f2a6b60a4d0> has the same name 'LSTMCell' as a built-in Keras object. Consider renaming <class 'keras.layers.recurrent.LSTMCell'> to avoid naming conflicts when loading with `tf.keras.models.load_model`. If renaming is not possible, pass the object in the `custom_objects` parameter of the load function.\n",
      "WARNING:absl:<keras.layers.recurrent.LSTMCell object at 0x7f2a6d0ca150> has the same name 'LSTMCell' as a built-in Keras object. Consider renaming <class 'keras.layers.recurrent.LSTMCell'> to avoid naming conflicts when loading with `tf.keras.models.load_model`. If renaming is not possible, pass the object in the `custom_objects` parameter of the load function.\n",
      "WARNING:absl:<keras.layers.recurrent.LSTMCell object at 0x7f2a68f4d9d0> has the same name 'LSTMCell' as a built-in Keras object. Consider renaming <class 'keras.layers.recurrent.LSTMCell'> to avoid naming conflicts when loading with `tf.keras.models.load_model`. If renaming is not possible, pass the object in the `custom_objects` parameter of the load function.\n",
      "2022/08/31 16:09:21 WARNING mlflow.utils.requirements_utils: Found tensorflow version (2.8.2+zzzcolab20220719082949) contains a local version label (+zzzcolab20220719082949). MLflow logged a pip requirement for this package as 'tensorflow==2.8.2' without the local version label to make it installable from PyPI. To specify pip requirements containing local version labels, please use `conda_env` or `pip_requirements`.\n",
      "2022/08/31 16:09:34 WARNING mlflow.utils.requirements_utils: Found tensorflow version (2.8.2+zzzcolab20220719082949) contains a local version label (+zzzcolab20220719082949). MLflow logged a pip requirement for this package as 'tensorflow==2.8.2' without the local version label to make it installable from PyPI. To specify pip requirements containing local version labels, please use `conda_env` or `pip_requirements`.\n",
      "2022/08/31 16:09:34 WARNING mlflow.utils.requirements_utils: Found jaxlib version (0.3.14+cuda11.cudnn805) contains a local version label (+cuda11.cudnn805). MLflow logged a pip requirement for this package as 'jaxlib==0.3.14' without the local version label to make it installable from PyPI. To specify pip requirements containing local version labels, please use `conda_env` or `pip_requirements`.\n",
      "Successfully registered model 'bicimad_model7_Bidirectional_LSTM100_LSTM100_Drop_LSTM75_Drop_Dense'.\n",
      "2022/08/31 16:09:39 INFO mlflow.tracking._model_registry.client: Waiting up to 300 seconds for model version to finish creation.                     Model name: bicimad_model7_Bidirectional_LSTM100_LSTM100_Drop_LSTM75_Drop_Dense, version 1\n",
      "Created version '1' of model 'bicimad_model7_Bidirectional_LSTM100_LSTM100_Drop_LSTM75_Drop_Dense'.\n"
     ]
    }
   ],
   "source": [
    "from keras.metrics import accuracy\n",
    "with mlflow.start_run():\n",
    "\n",
    "    params = dict(batch_size=batch_size, epochs=epochs)\n",
    "    metrics = dict(loss=min(history.history['loss']), accuracy=max(history.history['acc']))\n",
    "\n",
    "    mlflow.log_params(params)\n",
    "    mlflow.log_metrics(metrics)\n",
    "\n",
    "    mlflow.keras.log_model(keras_model=model,\n",
    "                           artifact_path=\"model\",\n",
    "                           keras_module=\"tensorflow.keras\",\n",
    "                           registered_model_name=\"bicimad_model7_Bidirectional_LSTM100_LSTM100_Drop_LSTM75_Drop_Dense\")"
   ]
  },
  {
   "cell_type": "code",
   "execution_count": null,
   "id": "CHv0GjYgoQHu",
   "metadata": {
    "id": "CHv0GjYgoQHu"
   },
   "outputs": [],
   "source": []
  },
  {
   "cell_type": "code",
   "execution_count": null,
   "id": "ff009eec",
   "metadata": {
    "id": "ff009eec",
    "outputId": "9546121b-b60e-4167-e32e-4778096cd3e5"
   },
   "outputs": [
    {
     "name": "stdout",
     "output_type": "stream",
     "text": [
      "4/4 [==============================] - 5s 54ms/step\n"
     ]
    }
   ],
   "source": [
    "y_pred = model.predict(X_test)"
   ]
  },
  {
   "cell_type": "code",
   "execution_count": null,
   "id": "fd77c6c6",
   "metadata": {
    "id": "fd77c6c6",
    "outputId": "287d7d61-d8e3-40ac-eb2b-ab03230fc7ac"
   },
   "outputs": [
    {
     "data": {
      "text/plain": [
       "(array([  0.,   0.,   0.,   0.,   0., 127.,   0.,   0.,   0.,   0.]),\n",
       " array([ 9.688438,  9.788439,  9.888438,  9.988439, 10.088438, 10.188438,\n",
       "        10.288439, 10.388438, 10.488439, 10.588438, 10.688438],\n",
       "       dtype=float32),\n",
       " <BarContainer object of 10 artists>)"
      ]
     },
     "execution_count": 185,
     "metadata": {},
     "output_type": "execute_result"
    },
    {
     "data": {
      "image/png": "[encoded data removed]",
      "text/plain": [
       "<Figure size 640x480 with 1 Axes>"
      ]
     },
     "metadata": {},
     "output_type": "display_data"
    }
   ],
   "source": [
    "plt.hist(y_pred)"
   ]
  }
 ],
 "metadata": {
  "accelerator": "GPU",
  "colab": {
   "collapsed_sections": [],
   "name": "Three_years_weather_giulia_file.ipynb",
   "provenance": []
  },
  "environment": {
   "kernel": "python3",
   "name": "tf2-gpu.2-8.m95",
   "type": "gcloud",
   "uri": "gcr.io/deeplearning-platform-release/tf2-gpu.2-8:m95"
  },
  "gpuClass": "standard",
  "kernelspec": {
   "display_name": "Python 3",
   "language": "python",
   "name": "python3"
  },
  "language_info": {
   "codemirror_mode": {
    "name": "ipython",
    "version": 3
   },
   "file_extension": ".py",
   "mimetype": "text/x-python",
   "name": "python",
   "nbconvert_exporter": "python",
   "pygments_lexer": "ipython3",
   "version": "3.7.12"
  },
  "toc": {
   "base_numbering": 1,
   "nav_menu": {},
   "number_sections": true,
   "sideBar": true,
   "skip_h1_title": false,
   "title_cell": "Table of Contents",
   "title_sidebar": "Contents",
   "toc_cell": false,
   "toc_position": {},
   "toc_section_display": true,
   "toc_window_display": false
  },
  "toc-autonumbering": false,
  "toc-showcode": true
 },
 "nbformat": 4,
 "nbformat_minor": 5
}
