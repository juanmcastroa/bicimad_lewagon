{
 "cells": [
  {
   "cell_type": "code",
   "execution_count": 74,
   "id": "c0e50cf0-45c9-4e08-80da-7e119f46eafe",
   "metadata": {},
   "outputs": [],
   "source": [
    "from sklearn import preprocessing\n",
    "import pandas as pd\n",
    "import numpy as np\n",
    "from math import pi, sin, cos\n",
    "from datetime import datetime\n",
    "from holidays_es import get_provinces, Province\n",
    "import sys\n",
    "import seaborn as sns\n",
    "import matplotlib.pyplot as plt\n",
    "from tensorflow.keras.models import Sequential\n",
    "from tensorflow.keras.layers import Dense\n",
    "from tensorflow.keras import layers\n",
    "from sklearn.preprocessing import StandardScaler, OneHotEncoder\n",
    "from sklearn.linear_model import LinearRegression\n",
    "from sklearn.model_selection import train_test_split, GridSearchCV\n",
    "import mlflow\n",
    "from sklearn.pipeline import make_pipeline\n",
    "from sklearn.compose import make_column_transformer\n",
    "from sklearn import set_config; set_config(display='diagram')\n",
    "import pickle\n",
    "from typing import Dict, List, Tuple, Sequence\n",
    "from sklearn.metrics import mean_squared_error as MSE"
   ]
  },
  {
   "cell_type": "code",
   "execution_count": 1,
   "id": "6b730326-2a59-4705-bc5b-be4aebc7d630",
   "metadata": {},
   "outputs": [],
   "source": [
    "from google.cloud import storage\n",
    "\n",
    "BUCKET_NAME = \"bicimad_data\"\n",
    "\n",
    "storage_filename = \"alldata.csv\"\n",
    "local_filename = \"alldata.csv\"\n",
    "\n",
    "client = storage.Client()\n",
    "bucket = client.bucket(BUCKET_NAME)\n",
    "blob = bucket.blob(storage_filename)\n",
    "blob.download_to_filename(f'../raw_data/{local_filename}')"
   ]
  },
  {
   "cell_type": "code",
   "execution_count": 4,
   "id": "eb0f77cb-2c54-4f76-8664-ef9cf59fdc57",
   "metadata": {},
   "outputs": [
    {
     "name": "stderr",
     "output_type": "stream",
     "text": [
      "/opt/conda/lib/python3.7/site-packages/IPython/core/interactiveshell.py:3552: DtypeWarning: Columns (6,7,10) have mixed types.Specify dtype option on import or set low_memory=False.\n",
      "  exec(code_obj, self.user_global_ns, self.user_ns)\n"
     ]
    }
   ],
   "source": [
    "df = pd.read_csv('../raw_data/alldata.csv')"
   ]
  },
  {
   "cell_type": "code",
   "execution_count": 5,
   "id": "2fea22b6-825d-447b-9905-b0a9b017f4d6",
   "metadata": {},
   "outputs": [
    {
     "data": {
      "text/plain": [
       "(5373414, 28)"
      ]
     },
     "execution_count": 5,
     "metadata": {},
     "output_type": "execute_result"
    }
   ],
   "source": [
    "df.shape"
   ]
  },
  {
   "cell_type": "code",
   "execution_count": 6,
   "id": "eb554971-a07d-489d-9fe8-990b9d9abdf3",
   "metadata": {},
   "outputs": [],
   "source": [
    "def compress(df, **kwargs):\n",
    "    \"\"\"\n",
    "    Reduces size of dataframe by downcasting numerical columns\n",
    "    \"\"\"\n",
    "    input_size = df.memory_usage(index=True).sum()/ 1024**2\n",
    "    print(\"old dataframe size: \", round(input_size,2), 'MB')\n",
    "    \n",
    "    in_size = df.memory_usage(index=True).sum()\n",
    "    for t in [\"float\", \"integer\"]:\n",
    "        l_cols = list(df.select_dtypes(include=t))\n",
    "        for col in l_cols:\n",
    "            df[col] = pd.to_numeric(df[col], downcast=t)\n",
    "    out_size = df.memory_usage(index=True).sum()\n",
    "    ratio = (1 - round(out_size / in_size, 2)) * 100\n",
    "    \n",
    "    print(\"optimized size by {} %\".format(round(ratio,2)))\n",
    "    print(\"new dataframe size: \", round(out_size / 1024**2,2), \" MB\")\n",
    "    return df"
   ]
  },
  {
   "cell_type": "code",
   "execution_count": 8,
   "id": "471cc8f0-bf17-4fd2-8fbd-3de871c11414",
   "metadata": {},
   "outputs": [
    {
     "name": "stdout",
     "output_type": "stream",
     "text": [
      "old dataframe size:  579.07 MB\n",
      "optimized size by 0.0 %\n",
      "new dataframe size:  579.07  MB\n"
     ]
    }
   ],
   "source": [
    "df = compress(df)"
   ]
  },
  {
   "cell_type": "code",
   "execution_count": 10,
   "id": "aed43924-767c-41d4-8af5-2bf517a8d4c1",
   "metadata": {},
   "outputs": [],
   "source": [
    "df = df.drop(columns=['activate', 'name', 'light', 'total_bases', 'free_bases', \n",
    "                      'longitude', 'no_available', 'address', 'latitude', 'id', 'date'])"
   ]
  },
  {
   "cell_type": "code",
   "execution_count": 9,
   "id": "dfe2ae5d-5d27-40eb-94c8-062ef01400f8",
   "metadata": {},
   "outputs": [],
   "source": [
    "df.year = df.year.astype(str)"
   ]
  },
  {
   "cell_type": "code",
   "execution_count": 11,
   "id": "f16f3c83-1e77-491c-b51a-55cf222581f6",
   "metadata": {},
   "outputs": [],
   "source": [
    "df['datetime'] = df['datetime'].apply(lambda x: x[0:10]+' '+x[10:]+':00')"
   ]
  },
  {
   "cell_type": "code",
   "execution_count": 12,
   "id": "04438eb1-277e-4670-9782-5c1f23b97af8",
   "metadata": {},
   "outputs": [],
   "source": [
    "df['datetime']=pd.to_datetime(df['datetime'], format='%Y-%m-%d %H:%M:%S')"
   ]
  },
  {
   "cell_type": "code",
   "execution_count": 13,
   "id": "a1a67ad2-4886-43f9-b719-1e81662a74e1",
   "metadata": {},
   "outputs": [],
   "source": [
    "df = df.set_index('datetime')"
   ]
  },
  {
   "cell_type": "code",
   "execution_count": 29,
   "id": "469ab228-2352-4667-8fba-df26c602ed80",
   "metadata": {},
   "outputs": [],
   "source": [
    "df.number = df.number.astype(str)"
   ]
  },
  {
   "cell_type": "code",
   "execution_count": 30,
   "id": "302c412d-bd2d-4445-a9de-9ac57594ef76",
   "metadata": {},
   "outputs": [],
   "source": [
    "num_col = df.select_dtypes(['int8','float32']).drop(columns='dock_bikes')"
   ]
  },
  {
   "cell_type": "code",
   "execution_count": 31,
   "id": "781939a7-f096-4002-8332-1354d519f4d8",
   "metadata": {},
   "outputs": [],
   "source": [
    "cat_col = df.select_dtypes(['object','bool'])"
   ]
  },
  {
   "cell_type": "code",
   "execution_count": 32,
   "id": "fdfc0359-6c1d-4fe2-8136-2575d11dee67",
   "metadata": {},
   "outputs": [],
   "source": [
    "num_transformer = StandardScaler()\n",
    "cat_transformer = OneHotEncoder(sparse=False, handle_unknown='ignore')"
   ]
  },
  {
   "cell_type": "code",
   "execution_count": 33,
   "id": "e74b3f3f-ba8f-4ebd-b792-4a8b4cadeb62",
   "metadata": {},
   "outputs": [],
   "source": [
    "preproc = make_column_transformer(\n",
    "    (num_transformer, num_col.columns),\n",
    "    (cat_transformer, cat_col.columns),\n",
    "    remainder='passthrough')"
   ]
  },
  {
   "cell_type": "code",
   "execution_count": 34,
   "id": "43406f87-03d7-4e59-a84e-f110838f8de6",
   "metadata": {},
   "outputs": [],
   "source": [
    "pipe = make_pipeline(preproc)"
   ]
  },
  {
   "cell_type": "code",
   "execution_count": 35,
   "id": "a7d778a5-39a3-48bf-a764-28fef922803d",
   "metadata": {},
   "outputs": [],
   "source": [
    "df_2021 = df[df['year'] == '2021'].copy()"
   ]
  },
  {
   "cell_type": "code",
   "execution_count": 36,
   "id": "3251f0f5-4fc3-4ef2-9fc5-76b15e7df548",
   "metadata": {},
   "outputs": [
    {
     "data": {
      "text/html": [
       "<style>#sk-29737de5-60ec-4b9d-8e1d-0961cd82f570 {color: black;background-color: white;}#sk-29737de5-60ec-4b9d-8e1d-0961cd82f570 pre{padding: 0;}#sk-29737de5-60ec-4b9d-8e1d-0961cd82f570 div.sk-toggleable {background-color: white;}#sk-29737de5-60ec-4b9d-8e1d-0961cd82f570 label.sk-toggleable__label {cursor: pointer;display: block;width: 100%;margin-bottom: 0;padding: 0.3em;box-sizing: border-box;text-align: center;}#sk-29737de5-60ec-4b9d-8e1d-0961cd82f570 label.sk-toggleable__label-arrow:before {content: \"▸\";float: left;margin-right: 0.25em;color: #696969;}#sk-29737de5-60ec-4b9d-8e1d-0961cd82f570 label.sk-toggleable__label-arrow:hover:before {color: black;}#sk-29737de5-60ec-4b9d-8e1d-0961cd82f570 div.sk-estimator:hover label.sk-toggleable__label-arrow:before {color: black;}#sk-29737de5-60ec-4b9d-8e1d-0961cd82f570 div.sk-toggleable__content {max-height: 0;max-width: 0;overflow: hidden;text-align: left;background-color: #f0f8ff;}#sk-29737de5-60ec-4b9d-8e1d-0961cd82f570 div.sk-toggleable__content pre {margin: 0.2em;color: black;border-radius: 0.25em;background-color: #f0f8ff;}#sk-29737de5-60ec-4b9d-8e1d-0961cd82f570 input.sk-toggleable__control:checked~div.sk-toggleable__content {max-height: 200px;max-width: 100%;overflow: auto;}#sk-29737de5-60ec-4b9d-8e1d-0961cd82f570 input.sk-toggleable__control:checked~label.sk-toggleable__label-arrow:before {content: \"▾\";}#sk-29737de5-60ec-4b9d-8e1d-0961cd82f570 div.sk-estimator input.sk-toggleable__control:checked~label.sk-toggleable__label {background-color: #d4ebff;}#sk-29737de5-60ec-4b9d-8e1d-0961cd82f570 div.sk-label input.sk-toggleable__control:checked~label.sk-toggleable__label {background-color: #d4ebff;}#sk-29737de5-60ec-4b9d-8e1d-0961cd82f570 input.sk-hidden--visually {border: 0;clip: rect(1px 1px 1px 1px);clip: rect(1px, 1px, 1px, 1px);height: 1px;margin: -1px;overflow: hidden;padding: 0;position: absolute;width: 1px;}#sk-29737de5-60ec-4b9d-8e1d-0961cd82f570 div.sk-estimator {font-family: monospace;background-color: #f0f8ff;border: 1px dotted black;border-radius: 0.25em;box-sizing: border-box;margin-bottom: 0.5em;}#sk-29737de5-60ec-4b9d-8e1d-0961cd82f570 div.sk-estimator:hover {background-color: #d4ebff;}#sk-29737de5-60ec-4b9d-8e1d-0961cd82f570 div.sk-parallel-item::after {content: \"\";width: 100%;border-bottom: 1px solid gray;flex-grow: 1;}#sk-29737de5-60ec-4b9d-8e1d-0961cd82f570 div.sk-label:hover label.sk-toggleable__label {background-color: #d4ebff;}#sk-29737de5-60ec-4b9d-8e1d-0961cd82f570 div.sk-serial::before {content: \"\";position: absolute;border-left: 1px solid gray;box-sizing: border-box;top: 2em;bottom: 0;left: 50%;}#sk-29737de5-60ec-4b9d-8e1d-0961cd82f570 div.sk-serial {display: flex;flex-direction: column;align-items: center;background-color: white;padding-right: 0.2em;padding-left: 0.2em;}#sk-29737de5-60ec-4b9d-8e1d-0961cd82f570 div.sk-item {z-index: 1;}#sk-29737de5-60ec-4b9d-8e1d-0961cd82f570 div.sk-parallel {display: flex;align-items: stretch;justify-content: center;background-color: white;}#sk-29737de5-60ec-4b9d-8e1d-0961cd82f570 div.sk-parallel::before {content: \"\";position: absolute;border-left: 1px solid gray;box-sizing: border-box;top: 2em;bottom: 0;left: 50%;}#sk-29737de5-60ec-4b9d-8e1d-0961cd82f570 div.sk-parallel-item {display: flex;flex-direction: column;position: relative;background-color: white;}#sk-29737de5-60ec-4b9d-8e1d-0961cd82f570 div.sk-parallel-item:first-child::after {align-self: flex-end;width: 50%;}#sk-29737de5-60ec-4b9d-8e1d-0961cd82f570 div.sk-parallel-item:last-child::after {align-self: flex-start;width: 50%;}#sk-29737de5-60ec-4b9d-8e1d-0961cd82f570 div.sk-parallel-item:only-child::after {width: 0;}#sk-29737de5-60ec-4b9d-8e1d-0961cd82f570 div.sk-dashed-wrapped {border: 1px dashed gray;margin: 0 0.4em 0.5em 0.4em;box-sizing: border-box;padding-bottom: 0.4em;background-color: white;position: relative;}#sk-29737de5-60ec-4b9d-8e1d-0961cd82f570 div.sk-label label {font-family: monospace;font-weight: bold;background-color: white;display: inline-block;line-height: 1.2em;}#sk-29737de5-60ec-4b9d-8e1d-0961cd82f570 div.sk-label-container {position: relative;z-index: 2;text-align: center;}#sk-29737de5-60ec-4b9d-8e1d-0961cd82f570 div.sk-container {/* jupyter's `normalize.less` sets `[hidden] { display: none; }` but bootstrap.min.css set `[hidden] { display: none !important; }` so we also need the `!important` here to be able to override the default hidden behavior on the sphinx rendered scikit-learn.org. See: https://github.com/scikit-learn/scikit-learn/issues/21755 */display: inline-block !important;position: relative;}#sk-29737de5-60ec-4b9d-8e1d-0961cd82f570 div.sk-text-repr-fallback {display: none;}</style><div id=\"sk-29737de5-60ec-4b9d-8e1d-0961cd82f570\" class=\"sk-top-container\"><div class=\"sk-text-repr-fallback\"><pre>Pipeline(steps=[(&#x27;columntransformer&#x27;,\n",
       "                 ColumnTransformer(remainder=&#x27;passthrough&#x27;,\n",
       "                                   transformers=[(&#x27;standardscaler&#x27;,\n",
       "                                                  StandardScaler(),\n",
       "                                                  Index([&#x27;reservations_count&#x27;, &#x27;time&#x27;, &#x27;feels_like&#x27;, &#x27;weekday&#x27;, &#x27;month&#x27;,\n",
       "       &#x27;hour_sin&#x27;, &#x27;hour_cos&#x27;, &#x27;weekday_sin&#x27;, &#x27;weekday_cos&#x27;, &#x27;month_sin&#x27;,\n",
       "       &#x27;month_cos&#x27;],\n",
       "      dtype=&#x27;object&#x27;)),\n",
       "                                                 (&#x27;onehotencoder&#x27;,\n",
       "                                                  OneHotEncoder(handle_unknown=&#x27;ignore&#x27;,\n",
       "                                                                sparse=False),\n",
       "                                                  Index([&#x27;number&#x27;, &#x27;holidays&#x27;, &#x27;weather_main&#x27;, &#x27;year&#x27;], dtype=&#x27;object&#x27;))]))])</pre><b>Please rerun this cell to show the HTML repr or trust the notebook.</b></div><div class=\"sk-container\" hidden><div class=\"sk-item sk-dashed-wrapped\"><div class=\"sk-label-container\"><div class=\"sk-label sk-toggleable\"><input class=\"sk-toggleable__control sk-hidden--visually\" id=\"f79e657f-a26f-487e-9f1b-38db083ef82b\" type=\"checkbox\" ><label for=\"f79e657f-a26f-487e-9f1b-38db083ef82b\" class=\"sk-toggleable__label sk-toggleable__label-arrow\">Pipeline</label><div class=\"sk-toggleable__content\"><pre>Pipeline(steps=[(&#x27;columntransformer&#x27;,\n",
       "                 ColumnTransformer(remainder=&#x27;passthrough&#x27;,\n",
       "                                   transformers=[(&#x27;standardscaler&#x27;,\n",
       "                                                  StandardScaler(),\n",
       "                                                  Index([&#x27;reservations_count&#x27;, &#x27;time&#x27;, &#x27;feels_like&#x27;, &#x27;weekday&#x27;, &#x27;month&#x27;,\n",
       "       &#x27;hour_sin&#x27;, &#x27;hour_cos&#x27;, &#x27;weekday_sin&#x27;, &#x27;weekday_cos&#x27;, &#x27;month_sin&#x27;,\n",
       "       &#x27;month_cos&#x27;],\n",
       "      dtype=&#x27;object&#x27;)),\n",
       "                                                 (&#x27;onehotencoder&#x27;,\n",
       "                                                  OneHotEncoder(handle_unknown=&#x27;ignore&#x27;,\n",
       "                                                                sparse=False),\n",
       "                                                  Index([&#x27;number&#x27;, &#x27;holidays&#x27;, &#x27;weather_main&#x27;, &#x27;year&#x27;], dtype=&#x27;object&#x27;))]))])</pre></div></div></div><div class=\"sk-serial\"><div class=\"sk-item sk-dashed-wrapped\"><div class=\"sk-label-container\"><div class=\"sk-label sk-toggleable\"><input class=\"sk-toggleable__control sk-hidden--visually\" id=\"f266d19f-fe1f-40f6-aaa0-eff5980204f7\" type=\"checkbox\" ><label for=\"f266d19f-fe1f-40f6-aaa0-eff5980204f7\" class=\"sk-toggleable__label sk-toggleable__label-arrow\">columntransformer: ColumnTransformer</label><div class=\"sk-toggleable__content\"><pre>ColumnTransformer(remainder=&#x27;passthrough&#x27;,\n",
       "                  transformers=[(&#x27;standardscaler&#x27;, StandardScaler(),\n",
       "                                 Index([&#x27;reservations_count&#x27;, &#x27;time&#x27;, &#x27;feels_like&#x27;, &#x27;weekday&#x27;, &#x27;month&#x27;,\n",
       "       &#x27;hour_sin&#x27;, &#x27;hour_cos&#x27;, &#x27;weekday_sin&#x27;, &#x27;weekday_cos&#x27;, &#x27;month_sin&#x27;,\n",
       "       &#x27;month_cos&#x27;],\n",
       "      dtype=&#x27;object&#x27;)),\n",
       "                                (&#x27;onehotencoder&#x27;,\n",
       "                                 OneHotEncoder(handle_unknown=&#x27;ignore&#x27;,\n",
       "                                               sparse=False),\n",
       "                                 Index([&#x27;number&#x27;, &#x27;holidays&#x27;, &#x27;weather_main&#x27;, &#x27;year&#x27;], dtype=&#x27;object&#x27;))])</pre></div></div></div><div class=\"sk-parallel\"><div class=\"sk-parallel-item\"><div class=\"sk-item\"><div class=\"sk-label-container\"><div class=\"sk-label sk-toggleable\"><input class=\"sk-toggleable__control sk-hidden--visually\" id=\"de6fb146-c1df-4c4a-81ea-d9054df5701d\" type=\"checkbox\" ><label for=\"de6fb146-c1df-4c4a-81ea-d9054df5701d\" class=\"sk-toggleable__label sk-toggleable__label-arrow\">standardscaler</label><div class=\"sk-toggleable__content\"><pre>Index([&#x27;reservations_count&#x27;, &#x27;time&#x27;, &#x27;feels_like&#x27;, &#x27;weekday&#x27;, &#x27;month&#x27;,\n",
       "       &#x27;hour_sin&#x27;, &#x27;hour_cos&#x27;, &#x27;weekday_sin&#x27;, &#x27;weekday_cos&#x27;, &#x27;month_sin&#x27;,\n",
       "       &#x27;month_cos&#x27;],\n",
       "      dtype=&#x27;object&#x27;)</pre></div></div></div><div class=\"sk-serial\"><div class=\"sk-item\"><div class=\"sk-estimator sk-toggleable\"><input class=\"sk-toggleable__control sk-hidden--visually\" id=\"e99b357d-0969-4e00-96c5-1524ef75b35c\" type=\"checkbox\" ><label for=\"e99b357d-0969-4e00-96c5-1524ef75b35c\" class=\"sk-toggleable__label sk-toggleable__label-arrow\">StandardScaler</label><div class=\"sk-toggleable__content\"><pre>StandardScaler()</pre></div></div></div></div></div></div><div class=\"sk-parallel-item\"><div class=\"sk-item\"><div class=\"sk-label-container\"><div class=\"sk-label sk-toggleable\"><input class=\"sk-toggleable__control sk-hidden--visually\" id=\"ed096ee1-47d4-46c7-9f3c-59a98c247097\" type=\"checkbox\" ><label for=\"ed096ee1-47d4-46c7-9f3c-59a98c247097\" class=\"sk-toggleable__label sk-toggleable__label-arrow\">onehotencoder</label><div class=\"sk-toggleable__content\"><pre>Index([&#x27;number&#x27;, &#x27;holidays&#x27;, &#x27;weather_main&#x27;, &#x27;year&#x27;], dtype=&#x27;object&#x27;)</pre></div></div></div><div class=\"sk-serial\"><div class=\"sk-item\"><div class=\"sk-estimator sk-toggleable\"><input class=\"sk-toggleable__control sk-hidden--visually\" id=\"113dbd26-441e-4111-a349-696808c33041\" type=\"checkbox\" ><label for=\"113dbd26-441e-4111-a349-696808c33041\" class=\"sk-toggleable__label sk-toggleable__label-arrow\">OneHotEncoder</label><div class=\"sk-toggleable__content\"><pre>OneHotEncoder(handle_unknown=&#x27;ignore&#x27;, sparse=False)</pre></div></div></div></div></div></div><div class=\"sk-parallel-item\"><div class=\"sk-item\"><div class=\"sk-label-container\"><div class=\"sk-label sk-toggleable\"><input class=\"sk-toggleable__control sk-hidden--visually\" id=\"7039b054-5eff-4ed4-96dd-2adfdd959ec7\" type=\"checkbox\" ><label for=\"7039b054-5eff-4ed4-96dd-2adfdd959ec7\" class=\"sk-toggleable__label sk-toggleable__label-arrow\">remainder</label><div class=\"sk-toggleable__content\"><pre>[&#x27;dock_bikes&#x27;]</pre></div></div></div><div class=\"sk-serial\"><div class=\"sk-item\"><div class=\"sk-estimator sk-toggleable\"><input class=\"sk-toggleable__control sk-hidden--visually\" id=\"7ea22700-26df-4ed4-bb60-bf6528dbab42\" type=\"checkbox\" ><label for=\"7ea22700-26df-4ed4-bb60-bf6528dbab42\" class=\"sk-toggleable__label sk-toggleable__label-arrow\">passthrough</label><div class=\"sk-toggleable__content\"><pre>passthrough</pre></div></div></div></div></div></div></div></div></div></div></div></div>"
      ],
      "text/plain": [
       "Pipeline(steps=[('columntransformer',\n",
       "                 ColumnTransformer(remainder='passthrough',\n",
       "                                   transformers=[('standardscaler',\n",
       "                                                  StandardScaler(),\n",
       "                                                  Index(['reservations_count', 'time', 'feels_like', 'weekday', 'month',\n",
       "       'hour_sin', 'hour_cos', 'weekday_sin', 'weekday_cos', 'month_sin',\n",
       "       'month_cos'],\n",
       "      dtype='object')),\n",
       "                                                 ('onehotencoder',\n",
       "                                                  OneHotEncoder(handle_unknown='ignore',\n",
       "                                                                sparse=False),\n",
       "                                                  Index(['number', 'holidays', 'weather_main', 'year'], dtype='object'))]))])"
      ]
     },
     "execution_count": 36,
     "metadata": {},
     "output_type": "execute_result"
    }
   ],
   "source": [
    "pipe.fit(df_2021)"
   ]
  },
  {
   "cell_type": "code",
   "execution_count": null,
   "id": "173437fd-aa2e-4ead-bfad-8da745af2291",
   "metadata": {},
   "outputs": [],
   "source": [
    "for chunk in df.to_numpy()"
   ]
  },
  {
   "cell_type": "code",
   "execution_count": 38,
   "id": "ecfa56bf-1c8c-42e4-890a-ce58d213aabd",
   "metadata": {},
   "outputs": [
    {
     "data": {
      "text/plain": [
       "array([[0, '1a', 3, ..., 0.6234897971153259, 0.5, 0.8660253882408142],\n",
       "       [0, '1a', 3, ..., 0.6234897971153259, 0.5, 0.8660253882408142],\n",
       "       [0, '1a', 3, ..., 0.6234897971153259, 0.5, 0.8660253882408142],\n",
       "       ...,\n",
       "       [0, '9', 19, ..., 1.0, 0.0, 1.0],\n",
       "       [0, '9', 19, ..., 1.0, 0.0, 1.0],\n",
       "       [0, '9', 18, ..., 1.0, 0.0, 1.0]], dtype=object)"
      ]
     },
     "execution_count": 38,
     "metadata": {},
     "output_type": "execute_result"
    }
   ],
   "source": [
    "df.to_numpy()"
   ]
  },
  {
   "cell_type": "code",
   "execution_count": 77,
   "id": "aafda355-0850-42d2-898e-5ae36b46a296",
   "metadata": {},
   "outputs": [
    {
     "data": {
      "text/plain": [
       "(5373414, 16)"
      ]
     },
     "execution_count": 77,
     "metadata": {},
     "output_type": "execute_result"
    }
   ],
   "source": [
    "df.shape"
   ]
  },
  {
   "cell_type": "code",
   "execution_count": 78,
   "id": "afe446a2-7d93-41ba-bd73-39771082c391",
   "metadata": {},
   "outputs": [],
   "source": [
    "def initialize_model():\n",
    "    RFR = RandomForestRegressor(n_estimators = 100, max_depth=15, random_state=0,n_jobs = -1)\n",
    "    return RFR"
   ]
  },
  {
   "cell_type": "code",
   "execution_count": 86,
   "id": "b02e6a86-5fae-47c8-a877-f0c8cb72dd1f",
   "metadata": {},
   "outputs": [
    {
     "name": "stdout",
     "output_type": "stream",
     "text": [
      "0\n",
      "100000\n",
      "200000\n",
      "300000\n",
      "400000\n",
      "500000\n",
      "600000\n",
      "700000\n",
      "800000\n",
      "900000\n",
      "1000000\n",
      "1100000\n",
      "1200000\n",
      "1300000\n",
      "1400000\n",
      "1500000\n",
      "1600000\n",
      "1700000\n",
      "1800000\n",
      "1900000\n",
      "2000000\n",
      "2100000\n",
      "2200000\n",
      "2300000\n",
      "2400000\n",
      "2500000\n",
      "2600000\n",
      "2700000\n",
      "2800000\n",
      "2900000\n",
      "3000000\n",
      "3100000\n",
      "3200000\n",
      "3300000\n",
      "3400000\n",
      "3500000\n",
      "3600000\n",
      "3700000\n",
      "3800000\n",
      "3900000\n",
      "4000000\n",
      "4100000\n",
      "4200000\n",
      "4300000\n",
      "4400000\n",
      "4500000\n",
      "4600000\n",
      "4700000\n",
      "4800000\n",
      "4900000\n",
      "5000000\n",
      "5100000\n",
      "5200000\n",
      "5300000\n"
     ]
    }
   ],
   "source": [
    "chunk = 100_000\n",
    "#inicializar modelo fora do for loop\n",
    "model = initialize_model()\n",
    "\n",
    "for i in range(0, (len(df)+1), chunk):\n",
    "    print(i)\n",
    "    # transformaçao\n",
    "    df_processed = pipe.transform(df.iloc[i:i+chunk])\n",
    "    X = df_processed[:,:-1]\n",
    "    y = df_processed[:,-1]\n",
    "    # fit Rede Neural\n",
    "    model.fit(X,y)"
   ]
  },
  {
   "cell_type": "code",
   "execution_count": 91,
   "id": "efd00a9f-38c8-457d-a4a9-73e8aa4fb9dd",
   "metadata": {},
   "outputs": [
    {
     "name": "stdout",
     "output_type": "stream",
     "text": [
      "13.282201387361178 8.704545994037066\n"
     ]
    }
   ],
   "source": [
    "pre_test = model.predict(X)\n",
    "score = MSE(y,pre_test)\n",
    "print(score.mean(), pre_test.mean())"
   ]
  },
  {
   "cell_type": "code",
   "execution_count": 41,
   "id": "a26abcff-2910-4dde-b7cd-c8076ac99f1e",
   "metadata": {},
   "outputs": [],
   "source": [
    "def create_dataset(X, y, time_steps=1):\n",
    "    Xs, ys = [], []\n",
    "    for i in range(len(X) - time_steps):\n",
    "        v = X.iloc[i:(i + time_steps)].values\n",
    "        Xs.append(v)        \n",
    "        ys.append(y.iloc[i + time_steps])\n",
    "    return np.array(Xs), np.array(ys)"
   ]
  },
  {
   "cell_type": "code",
   "execution_count": 45,
   "id": "bcec17ed-8e1c-4011-bbb6-22dcfbdde45d",
   "metadata": {},
   "outputs": [],
   "source": [
    "X_1, y_1 = create_dataset(df.iloc[:100], df.dock_bikes.iloc[:100], 24)"
   ]
  },
  {
   "cell_type": "code",
   "execution_count": 50,
   "id": "7e9b98aa-5569-46c9-82cb-6ef0a9447c1a",
   "metadata": {},
   "outputs": [
    {
     "data": {
      "text/plain": [
       "(76,)"
      ]
     },
     "execution_count": 50,
     "metadata": {},
     "output_type": "execute_result"
    }
   ],
   "source": [
    "y_1.shape"
   ]
  },
  {
   "cell_type": "code",
   "execution_count": 51,
   "id": "76a520b7-8cc3-4ffd-bec7-d21b02a83e2a",
   "metadata": {},
   "outputs": [],
   "source": [
    "X = df.drop(columns='dock_bikes')\n",
    "y= df.dock_bikes\n",
    "X_train, X_test, y_train, y_test = train_test_split(X, y, test_size=0.20)"
   ]
  },
  {
   "cell_type": "code",
   "execution_count": 54,
   "id": "d0aa68c6-9fd1-4f67-add4-82f3752d112c",
   "metadata": {},
   "outputs": [],
   "source": [
    "df_train, df_test = train_test_split(df, test_size=0.20)"
   ]
  },
  {
   "cell_type": "code",
   "execution_count": 55,
   "id": "6fa372f2-8428-4c92-90bc-60c057b9a2b8",
   "metadata": {},
   "outputs": [],
   "source": [
    "df_train_processed = pipe.transform(df_train)"
   ]
  },
  {
   "cell_type": "code",
   "execution_count": 59,
   "id": "349e08b0-600a-409c-9ae8-158f884ca6e7",
   "metadata": {},
   "outputs": [],
   "source": [
    "y_train = df_train_processed[:,-1]"
   ]
  },
  {
   "cell_type": "code",
   "execution_count": 60,
   "id": "e066ae88-1e1f-4f8a-83e4-991a6688bed7",
   "metadata": {},
   "outputs": [],
   "source": [
    "X_train = df_train_processed[:,:-1]"
   ]
  },
  {
   "cell_type": "code",
   "execution_count": 61,
   "id": "729c8edd-dbf6-4577-8ec6-b9eee2a9fcff",
   "metadata": {},
   "outputs": [
    {
     "data": {
      "text/plain": [
       "((4298731, 287), (4298731,))"
      ]
     },
     "execution_count": 61,
     "metadata": {},
     "output_type": "execute_result"
    }
   ],
   "source": [
    "X_train.shape, y_train.shape"
   ]
  },
  {
   "cell_type": "code",
   "execution_count": 62,
   "id": "6f2e6140-ee34-4faf-9a65-c93bcd1718b7",
   "metadata": {},
   "outputs": [],
   "source": [
    "df_test_processed = pipe.transform(df_test)"
   ]
  },
  {
   "cell_type": "code",
   "execution_count": 63,
   "id": "67551de3-a261-4328-94a5-c8c348b4fc16",
   "metadata": {},
   "outputs": [],
   "source": [
    "X_test = df_test_processed[:,:-1]"
   ]
  },
  {
   "cell_type": "code",
   "execution_count": 64,
   "id": "d037cc7f-32c8-4255-9af5-676da4f64747",
   "metadata": {},
   "outputs": [],
   "source": [
    "y_test = df_test_processed[:,-1]"
   ]
  },
  {
   "cell_type": "code",
   "execution_count": 75,
   "id": "03b37125-921b-48ae-9359-0562a3f70a8a",
   "metadata": {},
   "outputs": [],
   "source": [
    "from sklearn.ensemble import RandomForestRegressor\n",
    "def RandomForest_model(xd_train,yd_train, xd_test,yd_test):\n",
    "    RFR = RandomForestRegressor(n_estimators = 100, max_depth=15, random_state=0,n_jobs = -1)\n",
    "    RFR.fit(xd_train,yd_train)\n",
    "    pre_test = RFR.predict(xd_test)\n",
    "    score = MSE(yd_test,pre_test)\n",
    "    return score, pre_test"
   ]
  },
  {
   "cell_type": "code",
   "execution_count": null,
   "id": "1b33dbc0-ca1b-47a8-8c03-0379910c36de",
   "metadata": {},
   "outputs": [],
   "source": [
    "def initialize_model():\n",
    "    RFR = RandomForestRegressor(n_estimators = 100, max_depth=15, random_state=0,n_jobs = -1)\n",
    "    return RFR"
   ]
  },
  {
   "cell_type": "code",
   "execution_count": 76,
   "id": "df4ff71f-61e7-40d3-ba6e-441ef4b09dab",
   "metadata": {},
   "outputs": [
    {
     "ename": "KeyboardInterrupt",
     "evalue": "",
     "output_type": "error",
     "traceback": [
      "\u001b[0;31m---------------------------------------------------------------------------\u001b[0m",
      "\u001b[0;31mKeyboardInterrupt\u001b[0m                         Traceback (most recent call last)",
      "\u001b[0;32m/tmp/ipykernel_5396/1026722108.py\u001b[0m in \u001b[0;36m<module>\u001b[0;34m\u001b[0m\n\u001b[0;32m----> 1\u001b[0;31m \u001b[0mscore\u001b[0m\u001b[0;34m,\u001b[0m \u001b[0mpre_test\u001b[0m \u001b[0;34m=\u001b[0m \u001b[0mRandomForest_model\u001b[0m\u001b[0;34m(\u001b[0m\u001b[0mX_train\u001b[0m\u001b[0;34m,\u001b[0m \u001b[0my_train\u001b[0m\u001b[0;34m,\u001b[0m \u001b[0mX_test\u001b[0m\u001b[0;34m,\u001b[0m \u001b[0my_test\u001b[0m\u001b[0;34m)\u001b[0m\u001b[0;34m\u001b[0m\u001b[0;34m\u001b[0m\u001b[0m\n\u001b[0m",
      "\u001b[0;32m/tmp/ipykernel_5396/926736322.py\u001b[0m in \u001b[0;36mRandomForest_model\u001b[0;34m(xd_train, yd_train, xd_test, yd_test)\u001b[0m\n\u001b[1;32m      2\u001b[0m \u001b[0;32mdef\u001b[0m \u001b[0mRandomForest_model\u001b[0m\u001b[0;34m(\u001b[0m\u001b[0mxd_train\u001b[0m\u001b[0;34m,\u001b[0m\u001b[0myd_train\u001b[0m\u001b[0;34m,\u001b[0m \u001b[0mxd_test\u001b[0m\u001b[0;34m,\u001b[0m\u001b[0myd_test\u001b[0m\u001b[0;34m)\u001b[0m\u001b[0;34m:\u001b[0m\u001b[0;34m\u001b[0m\u001b[0;34m\u001b[0m\u001b[0m\n\u001b[1;32m      3\u001b[0m     \u001b[0mRFR\u001b[0m \u001b[0;34m=\u001b[0m \u001b[0mRandomForestRegressor\u001b[0m\u001b[0;34m(\u001b[0m\u001b[0mn_estimators\u001b[0m \u001b[0;34m=\u001b[0m \u001b[0;36m100\u001b[0m\u001b[0;34m,\u001b[0m \u001b[0mmax_depth\u001b[0m\u001b[0;34m=\u001b[0m\u001b[0;36m15\u001b[0m\u001b[0;34m,\u001b[0m \u001b[0mrandom_state\u001b[0m\u001b[0;34m=\u001b[0m\u001b[0;36m0\u001b[0m\u001b[0;34m,\u001b[0m\u001b[0mn_jobs\u001b[0m \u001b[0;34m=\u001b[0m \u001b[0;34m-\u001b[0m\u001b[0;36m1\u001b[0m\u001b[0;34m)\u001b[0m\u001b[0;34m\u001b[0m\u001b[0;34m\u001b[0m\u001b[0m\n\u001b[0;32m----> 4\u001b[0;31m     \u001b[0mRFR\u001b[0m\u001b[0;34m.\u001b[0m\u001b[0mfit\u001b[0m\u001b[0;34m(\u001b[0m\u001b[0mxd_train\u001b[0m\u001b[0;34m,\u001b[0m\u001b[0myd_train\u001b[0m\u001b[0;34m)\u001b[0m\u001b[0;34m\u001b[0m\u001b[0;34m\u001b[0m\u001b[0m\n\u001b[0m\u001b[1;32m      5\u001b[0m     \u001b[0mpre_test\u001b[0m \u001b[0;34m=\u001b[0m \u001b[0mRFR\u001b[0m\u001b[0;34m.\u001b[0m\u001b[0mpredict\u001b[0m\u001b[0;34m(\u001b[0m\u001b[0mxd_test\u001b[0m\u001b[0;34m)\u001b[0m\u001b[0;34m\u001b[0m\u001b[0;34m\u001b[0m\u001b[0m\n\u001b[1;32m      6\u001b[0m     \u001b[0mscore\u001b[0m \u001b[0;34m=\u001b[0m \u001b[0mMSE\u001b[0m\u001b[0;34m(\u001b[0m\u001b[0myd_test\u001b[0m\u001b[0;34m,\u001b[0m\u001b[0mpre_test\u001b[0m\u001b[0;34m)\u001b[0m\u001b[0;34m\u001b[0m\u001b[0;34m\u001b[0m\u001b[0m\n",
      "\u001b[0;32m/opt/conda/lib/python3.7/site-packages/sklearn/ensemble/_forest.py\u001b[0m in \u001b[0;36mfit\u001b[0;34m(self, X, y, sample_weight)\u001b[0m\n\u001b[1;32m    465\u001b[0m                     \u001b[0mn_samples_bootstrap\u001b[0m\u001b[0;34m=\u001b[0m\u001b[0mn_samples_bootstrap\u001b[0m\u001b[0;34m,\u001b[0m\u001b[0;34m\u001b[0m\u001b[0;34m\u001b[0m\u001b[0m\n\u001b[1;32m    466\u001b[0m                 )\n\u001b[0;32m--> 467\u001b[0;31m                 \u001b[0;32mfor\u001b[0m \u001b[0mi\u001b[0m\u001b[0;34m,\u001b[0m \u001b[0mt\u001b[0m \u001b[0;32min\u001b[0m \u001b[0menumerate\u001b[0m\u001b[0;34m(\u001b[0m\u001b[0mtrees\u001b[0m\u001b[0;34m)\u001b[0m\u001b[0;34m\u001b[0m\u001b[0;34m\u001b[0m\u001b[0m\n\u001b[0m\u001b[1;32m    468\u001b[0m             )\n\u001b[1;32m    469\u001b[0m \u001b[0;34m\u001b[0m\u001b[0m\n",
      "\u001b[0;32m/opt/conda/lib/python3.7/site-packages/joblib/parallel.py\u001b[0m in \u001b[0;36m__call__\u001b[0;34m(self, iterable)\u001b[0m\n\u001b[1;32m   1052\u001b[0m \u001b[0;34m\u001b[0m\u001b[0m\n\u001b[1;32m   1053\u001b[0m             \u001b[0;32mwith\u001b[0m \u001b[0mself\u001b[0m\u001b[0;34m.\u001b[0m\u001b[0m_backend\u001b[0m\u001b[0;34m.\u001b[0m\u001b[0mretrieval_context\u001b[0m\u001b[0;34m(\u001b[0m\u001b[0;34m)\u001b[0m\u001b[0;34m:\u001b[0m\u001b[0;34m\u001b[0m\u001b[0;34m\u001b[0m\u001b[0m\n\u001b[0;32m-> 1054\u001b[0;31m                 \u001b[0mself\u001b[0m\u001b[0;34m.\u001b[0m\u001b[0mretrieve\u001b[0m\u001b[0;34m(\u001b[0m\u001b[0;34m)\u001b[0m\u001b[0;34m\u001b[0m\u001b[0;34m\u001b[0m\u001b[0m\n\u001b[0m\u001b[1;32m   1055\u001b[0m             \u001b[0;31m# Make sure that we get a last message telling us we are done\u001b[0m\u001b[0;34m\u001b[0m\u001b[0;34m\u001b[0m\u001b[0;34m\u001b[0m\u001b[0m\n\u001b[1;32m   1056\u001b[0m             \u001b[0melapsed_time\u001b[0m \u001b[0;34m=\u001b[0m \u001b[0mtime\u001b[0m\u001b[0;34m.\u001b[0m\u001b[0mtime\u001b[0m\u001b[0;34m(\u001b[0m\u001b[0;34m)\u001b[0m \u001b[0;34m-\u001b[0m \u001b[0mself\u001b[0m\u001b[0;34m.\u001b[0m\u001b[0m_start_time\u001b[0m\u001b[0;34m\u001b[0m\u001b[0;34m\u001b[0m\u001b[0m\n",
      "\u001b[0;32m/opt/conda/lib/python3.7/site-packages/joblib/parallel.py\u001b[0m in \u001b[0;36mretrieve\u001b[0;34m(self)\u001b[0m\n\u001b[1;32m    931\u001b[0m             \u001b[0;32mtry\u001b[0m\u001b[0;34m:\u001b[0m\u001b[0;34m\u001b[0m\u001b[0;34m\u001b[0m\u001b[0m\n\u001b[1;32m    932\u001b[0m                 \u001b[0;32mif\u001b[0m \u001b[0mgetattr\u001b[0m\u001b[0;34m(\u001b[0m\u001b[0mself\u001b[0m\u001b[0;34m.\u001b[0m\u001b[0m_backend\u001b[0m\u001b[0;34m,\u001b[0m \u001b[0;34m'supports_timeout'\u001b[0m\u001b[0;34m,\u001b[0m \u001b[0;32mFalse\u001b[0m\u001b[0;34m)\u001b[0m\u001b[0;34m:\u001b[0m\u001b[0;34m\u001b[0m\u001b[0;34m\u001b[0m\u001b[0m\n\u001b[0;32m--> 933\u001b[0;31m                     \u001b[0mself\u001b[0m\u001b[0;34m.\u001b[0m\u001b[0m_output\u001b[0m\u001b[0;34m.\u001b[0m\u001b[0mextend\u001b[0m\u001b[0;34m(\u001b[0m\u001b[0mjob\u001b[0m\u001b[0;34m.\u001b[0m\u001b[0mget\u001b[0m\u001b[0;34m(\u001b[0m\u001b[0mtimeout\u001b[0m\u001b[0;34m=\u001b[0m\u001b[0mself\u001b[0m\u001b[0;34m.\u001b[0m\u001b[0mtimeout\u001b[0m\u001b[0;34m)\u001b[0m\u001b[0;34m)\u001b[0m\u001b[0;34m\u001b[0m\u001b[0;34m\u001b[0m\u001b[0m\n\u001b[0m\u001b[1;32m    934\u001b[0m                 \u001b[0;32melse\u001b[0m\u001b[0;34m:\u001b[0m\u001b[0;34m\u001b[0m\u001b[0;34m\u001b[0m\u001b[0m\n\u001b[1;32m    935\u001b[0m                     \u001b[0mself\u001b[0m\u001b[0;34m.\u001b[0m\u001b[0m_output\u001b[0m\u001b[0;34m.\u001b[0m\u001b[0mextend\u001b[0m\u001b[0;34m(\u001b[0m\u001b[0mjob\u001b[0m\u001b[0;34m.\u001b[0m\u001b[0mget\u001b[0m\u001b[0;34m(\u001b[0m\u001b[0;34m)\u001b[0m\u001b[0;34m)\u001b[0m\u001b[0;34m\u001b[0m\u001b[0;34m\u001b[0m\u001b[0m\n",
      "\u001b[0;32m/opt/conda/lib/python3.7/multiprocessing/pool.py\u001b[0m in \u001b[0;36mget\u001b[0;34m(self, timeout)\u001b[0m\n\u001b[1;32m    649\u001b[0m \u001b[0;34m\u001b[0m\u001b[0m\n\u001b[1;32m    650\u001b[0m     \u001b[0;32mdef\u001b[0m \u001b[0mget\u001b[0m\u001b[0;34m(\u001b[0m\u001b[0mself\u001b[0m\u001b[0;34m,\u001b[0m \u001b[0mtimeout\u001b[0m\u001b[0;34m=\u001b[0m\u001b[0;32mNone\u001b[0m\u001b[0;34m)\u001b[0m\u001b[0;34m:\u001b[0m\u001b[0;34m\u001b[0m\u001b[0;34m\u001b[0m\u001b[0m\n\u001b[0;32m--> 651\u001b[0;31m         \u001b[0mself\u001b[0m\u001b[0;34m.\u001b[0m\u001b[0mwait\u001b[0m\u001b[0;34m(\u001b[0m\u001b[0mtimeout\u001b[0m\u001b[0;34m)\u001b[0m\u001b[0;34m\u001b[0m\u001b[0;34m\u001b[0m\u001b[0m\n\u001b[0m\u001b[1;32m    652\u001b[0m         \u001b[0;32mif\u001b[0m \u001b[0;32mnot\u001b[0m \u001b[0mself\u001b[0m\u001b[0;34m.\u001b[0m\u001b[0mready\u001b[0m\u001b[0;34m(\u001b[0m\u001b[0;34m)\u001b[0m\u001b[0;34m:\u001b[0m\u001b[0;34m\u001b[0m\u001b[0;34m\u001b[0m\u001b[0m\n\u001b[1;32m    653\u001b[0m             \u001b[0;32mraise\u001b[0m \u001b[0mTimeoutError\u001b[0m\u001b[0;34m\u001b[0m\u001b[0;34m\u001b[0m\u001b[0m\n",
      "\u001b[0;32m/opt/conda/lib/python3.7/multiprocessing/pool.py\u001b[0m in \u001b[0;36mwait\u001b[0;34m(self, timeout)\u001b[0m\n\u001b[1;32m    646\u001b[0m \u001b[0;34m\u001b[0m\u001b[0m\n\u001b[1;32m    647\u001b[0m     \u001b[0;32mdef\u001b[0m \u001b[0mwait\u001b[0m\u001b[0;34m(\u001b[0m\u001b[0mself\u001b[0m\u001b[0;34m,\u001b[0m \u001b[0mtimeout\u001b[0m\u001b[0;34m=\u001b[0m\u001b[0;32mNone\u001b[0m\u001b[0;34m)\u001b[0m\u001b[0;34m:\u001b[0m\u001b[0;34m\u001b[0m\u001b[0;34m\u001b[0m\u001b[0m\n\u001b[0;32m--> 648\u001b[0;31m         \u001b[0mself\u001b[0m\u001b[0;34m.\u001b[0m\u001b[0m_event\u001b[0m\u001b[0;34m.\u001b[0m\u001b[0mwait\u001b[0m\u001b[0;34m(\u001b[0m\u001b[0mtimeout\u001b[0m\u001b[0;34m)\u001b[0m\u001b[0;34m\u001b[0m\u001b[0;34m\u001b[0m\u001b[0m\n\u001b[0m\u001b[1;32m    649\u001b[0m \u001b[0;34m\u001b[0m\u001b[0m\n\u001b[1;32m    650\u001b[0m     \u001b[0;32mdef\u001b[0m \u001b[0mget\u001b[0m\u001b[0;34m(\u001b[0m\u001b[0mself\u001b[0m\u001b[0;34m,\u001b[0m \u001b[0mtimeout\u001b[0m\u001b[0;34m=\u001b[0m\u001b[0;32mNone\u001b[0m\u001b[0;34m)\u001b[0m\u001b[0;34m:\u001b[0m\u001b[0;34m\u001b[0m\u001b[0;34m\u001b[0m\u001b[0m\n",
      "\u001b[0;32m/opt/conda/lib/python3.7/threading.py\u001b[0m in \u001b[0;36mwait\u001b[0;34m(self, timeout)\u001b[0m\n\u001b[1;32m    550\u001b[0m             \u001b[0msignaled\u001b[0m \u001b[0;34m=\u001b[0m \u001b[0mself\u001b[0m\u001b[0;34m.\u001b[0m\u001b[0m_flag\u001b[0m\u001b[0;34m\u001b[0m\u001b[0;34m\u001b[0m\u001b[0m\n\u001b[1;32m    551\u001b[0m             \u001b[0;32mif\u001b[0m \u001b[0;32mnot\u001b[0m \u001b[0msignaled\u001b[0m\u001b[0;34m:\u001b[0m\u001b[0;34m\u001b[0m\u001b[0;34m\u001b[0m\u001b[0m\n\u001b[0;32m--> 552\u001b[0;31m                 \u001b[0msignaled\u001b[0m \u001b[0;34m=\u001b[0m \u001b[0mself\u001b[0m\u001b[0;34m.\u001b[0m\u001b[0m_cond\u001b[0m\u001b[0;34m.\u001b[0m\u001b[0mwait\u001b[0m\u001b[0;34m(\u001b[0m\u001b[0mtimeout\u001b[0m\u001b[0;34m)\u001b[0m\u001b[0;34m\u001b[0m\u001b[0;34m\u001b[0m\u001b[0m\n\u001b[0m\u001b[1;32m    553\u001b[0m             \u001b[0;32mreturn\u001b[0m \u001b[0msignaled\u001b[0m\u001b[0;34m\u001b[0m\u001b[0;34m\u001b[0m\u001b[0m\n\u001b[1;32m    554\u001b[0m \u001b[0;34m\u001b[0m\u001b[0m\n",
      "\u001b[0;32m/opt/conda/lib/python3.7/threading.py\u001b[0m in \u001b[0;36mwait\u001b[0;34m(self, timeout)\u001b[0m\n\u001b[1;32m    294\u001b[0m         \u001b[0;32mtry\u001b[0m\u001b[0;34m:\u001b[0m    \u001b[0;31m# restore state no matter what (e.g., KeyboardInterrupt)\u001b[0m\u001b[0;34m\u001b[0m\u001b[0;34m\u001b[0m\u001b[0m\n\u001b[1;32m    295\u001b[0m             \u001b[0;32mif\u001b[0m \u001b[0mtimeout\u001b[0m \u001b[0;32mis\u001b[0m \u001b[0;32mNone\u001b[0m\u001b[0;34m:\u001b[0m\u001b[0;34m\u001b[0m\u001b[0;34m\u001b[0m\u001b[0m\n\u001b[0;32m--> 296\u001b[0;31m                 \u001b[0mwaiter\u001b[0m\u001b[0;34m.\u001b[0m\u001b[0macquire\u001b[0m\u001b[0;34m(\u001b[0m\u001b[0;34m)\u001b[0m\u001b[0;34m\u001b[0m\u001b[0;34m\u001b[0m\u001b[0m\n\u001b[0m\u001b[1;32m    297\u001b[0m                 \u001b[0mgotit\u001b[0m \u001b[0;34m=\u001b[0m \u001b[0;32mTrue\u001b[0m\u001b[0;34m\u001b[0m\u001b[0;34m\u001b[0m\u001b[0m\n\u001b[1;32m    298\u001b[0m             \u001b[0;32melse\u001b[0m\u001b[0;34m:\u001b[0m\u001b[0;34m\u001b[0m\u001b[0;34m\u001b[0m\u001b[0m\n",
      "\u001b[0;31mKeyboardInterrupt\u001b[0m: "
     ]
    }
   ],
   "source": [
    "score, pre_test = RandomForest_model(X_train, y_train, X_test, y_test)"
   ]
  }
 ],
 "metadata": {
  "environment": {
   "kernel": "python3",
   "name": "tf2-gpu.2-8.m95",
   "type": "gcloud",
   "uri": "gcr.io/deeplearning-platform-release/tf2-gpu.2-8:m95"
  },
  "kernelspec": {
   "display_name": "Python 3",
   "language": "python",
   "name": "python3"
  },
  "language_info": {
   "codemirror_mode": {
    "name": "ipython",
    "version": 3
   },
   "file_extension": ".py",
   "mimetype": "text/x-python",
   "name": "python",
   "nbconvert_exporter": "python",
   "pygments_lexer": "ipython3",
   "version": "3.7.12"
  }
 },
 "nbformat": 4,
 "nbformat_minor": 5
}
